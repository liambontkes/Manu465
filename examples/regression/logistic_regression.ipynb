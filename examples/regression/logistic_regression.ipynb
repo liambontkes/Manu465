{
 "cells": [
  {
   "cell_type": "markdown",
   "metadata": {
    "colab_type": "text",
    "id": "r3cas2_1T98w"
   },
   "source": [
    "# O-Ring Failure Model"
   ]
  },
  {
   "cell_type": "markdown",
   "metadata": {},
   "source": [
    "## Project Description\n",
    "One of the reasons for the Challenger disaster of January 1986 was reported the o-ring failure; you can watch a short\n",
    "video: (https://www.youtube.com/watch?v=yibNEcn-4yQ). Six o-rings were used to seal field joints on the rocket motor\n",
    "assembly. The ORing.csv file presents the launch temperatures. A \"1\" means that at least one o-ring failure had occurred\n",
    "on the launch.\n",
    "\n",
    "Build a Model to predict the O-ring failure at different temperatures.\n"
   ]
  },
  {
   "cell_type": "markdown",
   "metadata": {
    "colab_type": "text",
    "id": "IODliia6U1xO"
   },
   "source": [
    "## Importing the libraries"
   ]
  },
  {
   "cell_type": "code",
   "execution_count": 2,
   "metadata": {
    "colab": {},
    "colab_type": "code",
    "id": "y98nA5UdU6Hf"
   },
   "outputs": [],
   "source": [
    "import numpy as np\n",
    "import matplotlib.pyplot as plt\n",
    "import pandas as pd"
   ]
  },
  {
   "cell_type": "markdown",
   "metadata": {
    "colab_type": "text",
    "id": "jpjZ43YlU8eI"
   },
   "source": [
    "## Importing the dataset"
   ]
  },
  {
   "cell_type": "code",
   "execution_count": 3,
   "metadata": {
    "colab": {},
    "colab_type": "code",
    "id": "pLVaXoYVU_Uy"
   },
   "outputs": [
    {
     "data": {
      "text/plain": "    Temperature  Failure\n0            53        1\n1            56        1\n2            57        1\n3            63        0\n4            66        0\n5            67        0\n6            67        0\n7            67        0\n8            68        0\n9            69        0\n10           70        0\n11           70        1\n12           70        1\n13           70        1\n14           72        0\n15           73        0\n16           75        0\n17           75        1\n18           76        0\n19           76        0\n20           78        0\n21           79        0\n22           80        0\n23           80        0",
      "text/html": "<div>\n<style scoped>\n    .dataframe tbody tr th:only-of-type {\n        vertical-align: middle;\n    }\n\n    .dataframe tbody tr th {\n        vertical-align: top;\n    }\n\n    .dataframe thead th {\n        text-align: right;\n    }\n</style>\n<table border=\"1\" class=\"dataframe\">\n  <thead>\n    <tr style=\"text-align: right;\">\n      <th></th>\n      <th>Temperature</th>\n      <th>Failure</th>\n    </tr>\n  </thead>\n  <tbody>\n    <tr>\n      <th>0</th>\n      <td>53</td>\n      <td>1</td>\n    </tr>\n    <tr>\n      <th>1</th>\n      <td>56</td>\n      <td>1</td>\n    </tr>\n    <tr>\n      <th>2</th>\n      <td>57</td>\n      <td>1</td>\n    </tr>\n    <tr>\n      <th>3</th>\n      <td>63</td>\n      <td>0</td>\n    </tr>\n    <tr>\n      <th>4</th>\n      <td>66</td>\n      <td>0</td>\n    </tr>\n    <tr>\n      <th>5</th>\n      <td>67</td>\n      <td>0</td>\n    </tr>\n    <tr>\n      <th>6</th>\n      <td>67</td>\n      <td>0</td>\n    </tr>\n    <tr>\n      <th>7</th>\n      <td>67</td>\n      <td>0</td>\n    </tr>\n    <tr>\n      <th>8</th>\n      <td>68</td>\n      <td>0</td>\n    </tr>\n    <tr>\n      <th>9</th>\n      <td>69</td>\n      <td>0</td>\n    </tr>\n    <tr>\n      <th>10</th>\n      <td>70</td>\n      <td>0</td>\n    </tr>\n    <tr>\n      <th>11</th>\n      <td>70</td>\n      <td>1</td>\n    </tr>\n    <tr>\n      <th>12</th>\n      <td>70</td>\n      <td>1</td>\n    </tr>\n    <tr>\n      <th>13</th>\n      <td>70</td>\n      <td>1</td>\n    </tr>\n    <tr>\n      <th>14</th>\n      <td>72</td>\n      <td>0</td>\n    </tr>\n    <tr>\n      <th>15</th>\n      <td>73</td>\n      <td>0</td>\n    </tr>\n    <tr>\n      <th>16</th>\n      <td>75</td>\n      <td>0</td>\n    </tr>\n    <tr>\n      <th>17</th>\n      <td>75</td>\n      <td>1</td>\n    </tr>\n    <tr>\n      <th>18</th>\n      <td>76</td>\n      <td>0</td>\n    </tr>\n    <tr>\n      <th>19</th>\n      <td>76</td>\n      <td>0</td>\n    </tr>\n    <tr>\n      <th>20</th>\n      <td>78</td>\n      <td>0</td>\n    </tr>\n    <tr>\n      <th>21</th>\n      <td>79</td>\n      <td>0</td>\n    </tr>\n    <tr>\n      <th>22</th>\n      <td>80</td>\n      <td>0</td>\n    </tr>\n    <tr>\n      <th>23</th>\n      <td>80</td>\n      <td>0</td>\n    </tr>\n  </tbody>\n</table>\n</div>"
     },
     "execution_count": 3,
     "metadata": {},
     "output_type": "execute_result"
    }
   ],
   "source": [
    "dataset = pd.read_csv('../../data/ORing.csv')\n",
    "X = dataset.iloc[:, 0:1].values\n",
    "y = dataset.iloc[:, -1].values\n",
    "dataset"
   ]
  },
  {
   "cell_type": "markdown",
   "metadata": {
    "colab_type": "text",
    "id": "g16qFkFQVC35"
   },
   "source": [
    "## Training the Decision Tree Regression model on the whole dataset"
   ]
  },
  {
   "cell_type": "code",
   "execution_count": 4,
   "metadata": {
    "colab": {
     "base_uri": "https://localhost:8080/",
     "height": 121
    },
    "colab_type": "code",
    "id": "SLDKyv1SVUqS",
    "outputId": "a633ebbf-6fea-4b97-ccd8-1f8851e9d363"
   },
   "outputs": [
    {
     "data": {
      "text/plain": "LogisticRegression()"
     },
     "execution_count": 4,
     "metadata": {},
     "output_type": "execute_result"
    }
   ],
   "source": [
    "from sklearn.linear_model import LogisticRegression\n",
    "\n",
    "LogitReg = LogisticRegression()\n",
    "LogitReg.fit(X, y)"
   ]
  },
  {
   "cell_type": "markdown",
   "metadata": {
    "colab_type": "text",
    "id": "MQRGPTH3VcOn"
   },
   "source": [
    "## Predicting a new result"
   ]
  },
  {
   "cell_type": "code",
   "execution_count": 5,
   "metadata": {
    "colab": {
     "base_uri": "https://localhost:8080/",
     "height": 35
    },
    "colab_type": "code",
    "id": "_FpGZf7vVgrK",
    "outputId": "54f36048-d4a1-4143-8b2b-b5aa32233b68"
   },
   "outputs": [
    {
     "data": {
      "text/plain": "array([1])"
     },
     "execution_count": 5,
     "metadata": {},
     "output_type": "execute_result"
    }
   ],
   "source": [
    "LogitReg.predict([[30]])"
   ]
  },
  {
   "cell_type": "markdown",
   "metadata": {},
   "source": [
    "## Checking the Probability"
   ]
  },
  {
   "cell_type": "code",
   "execution_count": 6,
   "metadata": {},
   "outputs": [
    {
     "name": "stdout",
     "output_type": "stream",
     "text": [
      "Chance of Failure is  99.66727207067777 %\n"
     ]
    }
   ],
   "source": [
    "Probability = LogitReg.predict_proba([[30]])\n",
    "\n",
    "print(\"Chance of Failure is \", 100*Probability[0,1], \"%\" )"
   ]
  },
  {
   "cell_type": "markdown",
   "metadata": {
    "colab_type": "text",
    "id": "ph8ExBj0VkIT"
   },
   "source": [
    "## Visualising the Logistic Regression"
   ]
  },
  {
   "cell_type": "code",
   "execution_count": 9,
   "metadata": {
    "colab": {
     "base_uri": "https://localhost:8080/",
     "height": 295
    },
    "colab_type": "code",
    "id": "zzH1Vv1oVrqe",
    "outputId": "84111519-5c51-498c-c330-0d53825849e3"
   },
   "outputs": [
    {
     "name": "stdout",
     "output_type": "stream",
     "text": [
      "[[53]\n",
      " [56]\n",
      " [57]\n",
      " [63]\n",
      " [66]\n",
      " [67]\n",
      " [67]\n",
      " [67]\n",
      " [68]\n",
      " [69]\n",
      " [70]\n",
      " [70]\n",
      " [70]\n",
      " [70]\n",
      " [72]\n",
      " [73]\n",
      " [75]\n",
      " [75]\n",
      " [76]\n",
      " [76]\n",
      " [78]\n",
      " [79]\n",
      " [80]\n",
      " [80]]\n"
     ]
    },
    {
     "data": {
      "text/plain": "<Figure size 432x288 with 1 Axes>",
      "image/png": "[encoded data removed]"
     },
     "metadata": {
      "needs_background": "light"
     },
     "output_type": "display_data"
    }
   ],
   "source": [
    "X_grid = np.arange(min(X), max(X), 0.01)\n",
    "X_grid = X_grid.reshape((len(X_grid), 1))\n",
    "plt.scatter(X, y, color='red')\n",
    "plt.plot(X_grid, LogitReg.predict(X_grid), color='blue')\n",
    "plt.title('O-ring Failure: Yes=1, No=0')\n",
    "plt.xlabel('Temperature (C)')\n",
    "plt.ylabel('Probability(Failure - Safe)')\n",
    "plt.show()"
   ]
  },
  {
   "cell_type": "code",
   "execution_count": 8,
   "metadata": {},
   "outputs": [
    {
     "data": {
      "text/plain": "<Figure size 432x288 with 1 Axes>",
      "image/png": "[encoded data removed]"
     },
     "metadata": {
      "needs_background": "light"
     },
     "output_type": "display_data"
    }
   ],
   "source": [
    "X_grid = np.arange(min(X) - 10, max(X) + 10, 0.01)\n",
    "X_grid = X_grid.reshape((len(X_grid), 1))\n",
    "plt.scatter(X, y, color='red')\n",
    "\n",
    "Probability = LogitReg.predict_proba(X_grid)\n",
    "plt.plot(X_grid, Probability[:, 1], \"b\", label=\"Oring will Fail\")\n",
    "plt.plot(X_grid, Probability[:, 0], 'b--', label=\"O-ring will not Fail\")\n",
    "\n",
    "plt.legend(loc='best')\n",
    "\n",
    "plt.title('Chance of O-Ring Failure')\n",
    "plt.xlabel('Temperature (C)')\n",
    "plt.ylabel('Probability(Failure - Safe)')\n",
    "plt.show()"
   ]
  }
 ],
 "metadata": {
  "colab": {
   "collapsed_sections": [],
   "name": "decision_tree_regression.ipynb",
   "provenance": [],
   "toc_visible": true
  },
  "kernelspec": {
   "display_name": "Python 3 (ipykernel)",
   "language": "python",
   "name": "python3"
  },
  "language_info": {
   "codemirror_mode": {
    "name": "ipython",
    "version": 3
   },
   "file_extension": ".py",
   "mimetype": "text/x-python",
   "name": "python",
   "nbconvert_exporter": "python",
   "pygments_lexer": "ipython3",
   "version": "3.8.5"
  },
  "toc": {
   "base_numbering": 1,
   "nav_menu": {},
   "number_sections": true,
   "sideBar": true,
   "skip_h1_title": false,
   "title_cell": "Table of Contents",
   "title_sidebar": "Contents",
   "toc_cell": false,
   "toc_position": {},
   "toc_section_display": true,
   "toc_window_display": true
  },
  "varInspector": {
   "cols": {
    "lenName": 16,
    "lenType": 16,
    "lenVar": 40
   },
   "kernels_config": {
    "python": {
     "delete_cmd_postfix": "",
     "delete_cmd_prefix": "del ",
     "library": "var_list.py",
     "varRefreshCmd": "print(var_dic_list())"
    },
    "r": {
     "delete_cmd_postfix": ") ",
     "delete_cmd_prefix": "rm(",
     "library": "var_list.r",
     "varRefreshCmd": "cat(var_dic_list()) "
    }
   },
   "types_to_exclude": [
    "module",
    "function",
    "builtin_function_or_method",
    "instance",
    "_Feature"
   ],
   "window_display": false
  }
 },
 "nbformat": 4,
 "nbformat_minor": 1
}