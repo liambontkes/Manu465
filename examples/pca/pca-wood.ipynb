{
 "cells": [
  {
   "cell_type": "markdown",
   "metadata": {
    "colab_type": "text",
    "id": "lP6JLo1tGNBg"
   },
   "source": [
    "# Wood Classifier"
   ]
  },
  {
   "cell_type": "markdown",
   "metadata": {},
   "source": [
    "## Project Description\n",
    "In a project, a wood scientist,measured 5 chemical components (X) of several wood samples.  She is studying three types\n",
    "of solid wood - Oak, Pine, Cherry.\n",
    "      "
   ]
  },
  {
   "cell_type": "markdown",
   "metadata": {
    "colab_type": "text",
    "id": "gWZyYmS_UE_L"
   },
   "source": [
    "## Importing the Libraries"
   ]
  },
  {
   "cell_type": "code",
   "execution_count": 1,
   "metadata": {
    "colab": {},
    "colab_type": "code",
    "id": "MxkJoQBkUIHC"
   },
   "outputs": [],
   "source": [
    "import numpy as np\n",
    "import pandas as pd\n",
    "import matplotlib.pyplot as plt"
   ]
  },
  {
   "cell_type": "markdown",
   "metadata": {
    "colab_type": "text",
    "id": "1E0Q3aoKUCRX"
   },
   "source": [
    "## Data Preprocessing"
   ]
  },
  {
   "cell_type": "markdown",
   "metadata": {
    "colab_type": "text",
    "id": "cKWAkFVGUU0Z"
   },
   "source": [
    "### Importing the Dataset"
   ]
  },
  {
   "cell_type": "code",
   "execution_count": 2,
   "metadata": {
    "colab": {},
    "colab_type": "code",
    "id": "MXUkhkMfU4wq"
   },
   "outputs": [],
   "source": [
    "dataset = pd.read_csv('../../data/Wood.csv')\n",
    "X = dataset.iloc[:, :-1].values\n",
    "y = dataset.iloc[:, -1].values"
   ]
  },
  {
   "cell_type": "code",
   "execution_count": 3,
   "metadata": {},
   "outputs": [
    {
     "data": {
      "text/html": [
       "<div>\n",
       "<style scoped>\n",
       "    .dataframe tbody tr th:only-of-type {\n",
       "        vertical-align: middle;\n",
       "    }\n",
       "\n",
       "    .dataframe tbody tr th {\n",
       "        vertical-align: top;\n",
       "    }\n",
       "\n",
       "    .dataframe thead th {\n",
       "        text-align: right;\n",
       "    }\n",
       "</style>\n",
       "<table border=\"1\" class=\"dataframe\">\n",
       "  <thead>\n",
       "    <tr style=\"text-align: right;\">\n",
       "      <th></th>\n",
       "      <th>X1</th>\n",
       "      <th>X2</th>\n",
       "      <th>X3</th>\n",
       "      <th>X4</th>\n",
       "      <th>X5</th>\n",
       "      <th>Type</th>\n",
       "    </tr>\n",
       "  </thead>\n",
       "  <tbody>\n",
       "    <tr>\n",
       "      <th>0</th>\n",
       "      <td>13.057325</td>\n",
       "      <td>5.095541</td>\n",
       "      <td>10.509554</td>\n",
       "      <td>3.184713</td>\n",
       "      <td>4.173285</td>\n",
       "      <td>Pine</td>\n",
       "    </tr>\n",
       "    <tr>\n",
       "      <th>1</th>\n",
       "      <td>12.420382</td>\n",
       "      <td>6.050955</td>\n",
       "      <td>10.191083</td>\n",
       "      <td>3.503185</td>\n",
       "      <td>3.170150</td>\n",
       "      <td>Cherry</td>\n",
       "    </tr>\n",
       "    <tr>\n",
       "      <th>2</th>\n",
       "      <td>16.560510</td>\n",
       "      <td>11.464968</td>\n",
       "      <td>3.503185</td>\n",
       "      <td>0.636943</td>\n",
       "      <td>9.284378</td>\n",
       "      <td>Oak</td>\n",
       "    </tr>\n",
       "    <tr>\n",
       "      <th>3</th>\n",
       "      <td>13.375796</td>\n",
       "      <td>6.687898</td>\n",
       "      <td>9.235669</td>\n",
       "      <td>2.866242</td>\n",
       "      <td>0.923786</td>\n",
       "      <td>Pine</td>\n",
       "    </tr>\n",
       "    <tr>\n",
       "      <th>4</th>\n",
       "      <td>12.738853</td>\n",
       "      <td>6.687898</td>\n",
       "      <td>9.554140</td>\n",
       "      <td>2.866242</td>\n",
       "      <td>1.097113</td>\n",
       "      <td>Pine</td>\n",
       "    </tr>\n",
       "    <tr>\n",
       "      <th>...</th>\n",
       "      <td>...</td>\n",
       "      <td>...</td>\n",
       "      <td>...</td>\n",
       "      <td>...</td>\n",
       "      <td>...</td>\n",
       "      <td>...</td>\n",
       "    </tr>\n",
       "    <tr>\n",
       "      <th>145</th>\n",
       "      <td>11.464968</td>\n",
       "      <td>5.414013</td>\n",
       "      <td>10.191083</td>\n",
       "      <td>4.777070</td>\n",
       "      <td>5.380337</td>\n",
       "      <td>Cherry</td>\n",
       "    </tr>\n",
       "    <tr>\n",
       "      <th>146</th>\n",
       "      <td>13.375796</td>\n",
       "      <td>6.369427</td>\n",
       "      <td>9.554140</td>\n",
       "      <td>2.866242</td>\n",
       "      <td>1.917863</td>\n",
       "      <td>Pine</td>\n",
       "    </tr>\n",
       "    <tr>\n",
       "      <th>147</th>\n",
       "      <td>16.242038</td>\n",
       "      <td>9.872611</td>\n",
       "      <td>5.414013</td>\n",
       "      <td>0.636943</td>\n",
       "      <td>2.279927</td>\n",
       "      <td>Oak</td>\n",
       "    </tr>\n",
       "    <tr>\n",
       "      <th>148</th>\n",
       "      <td>13.375796</td>\n",
       "      <td>5.732484</td>\n",
       "      <td>9.554140</td>\n",
       "      <td>3.184713</td>\n",
       "      <td>7.453342</td>\n",
       "      <td>Pine</td>\n",
       "    </tr>\n",
       "    <tr>\n",
       "      <th>149</th>\n",
       "      <td>15.923567</td>\n",
       "      <td>10.828025</td>\n",
       "      <td>4.458599</td>\n",
       "      <td>0.955414</td>\n",
       "      <td>8.959923</td>\n",
       "      <td>Oak</td>\n",
       "    </tr>\n",
       "  </tbody>\n",
       "</table>\n",
       "<p>150 rows × 6 columns</p>\n",
       "</div>"
      ],
      "text/plain": [
       "            X1         X2         X3        X4        X5    Type\n",
       "0    13.057325   5.095541  10.509554  3.184713  4.173285    Pine\n",
       "1    12.420382   6.050955  10.191083  3.503185  3.170150  Cherry\n",
       "2    16.560510  11.464968   3.503185  0.636943  9.284378     Oak\n",
       "3    13.375796   6.687898   9.235669  2.866242  0.923786    Pine\n",
       "4    12.738853   6.687898   9.554140  2.866242  1.097113    Pine\n",
       "..         ...        ...        ...       ...       ...     ...\n",
       "145  11.464968   5.414013  10.191083  4.777070  5.380337  Cherry\n",
       "146  13.375796   6.369427   9.554140  2.866242  1.917863    Pine\n",
       "147  16.242038   9.872611   5.414013  0.636943  2.279927     Oak\n",
       "148  13.375796   5.732484   9.554140  3.184713  7.453342    Pine\n",
       "149  15.923567  10.828025   4.458599  0.955414  8.959923     Oak\n",
       "\n",
       "[150 rows x 6 columns]"
      ]
     },
     "execution_count": 3,
     "metadata": {},
     "output_type": "execute_result"
    }
   ],
   "source": [
    "dataset"
   ]
  },
  {
   "cell_type": "markdown",
   "metadata": {},
   "source": [
    "### Encoding the Output Data\n",
    "Here, we replace High, Medium, and Poor Quality with Labels 0,1, and 2"
   ]
  },
  {
   "cell_type": "code",
   "execution_count": 4,
   "metadata": {},
   "outputs": [],
   "source": [
    "from sklearn.preprocessing import LabelEncoder\n",
    "\n",
    "le = LabelEncoder()\n",
    "y = le.fit_transform(y)"
   ]
  },
  {
   "cell_type": "markdown",
   "metadata": {},
   "source": [
    "### Visualization"
   ]
  },
  {
   "cell_type": "code",
   "execution_count": 5,
   "metadata": {},
   "outputs": [],
   "source": [
    "# Not possible for 4D data?"
   ]
  },
  {
   "cell_type": "markdown",
   "metadata": {
    "colab_type": "text",
    "id": "-zfEzkRVXIwF"
   },
   "source": [
    "## Manual PCA\n",
    "The goal is to find the direction where the variance of the data is max"
   ]
  },
  {
   "cell_type": "code",
   "execution_count": 6,
   "metadata": {},
   "outputs": [
    {
     "data": {
      "text/plain": [
       "2.4820299212719203"
      ]
     },
     "execution_count": 6,
     "metadata": {},
     "output_type": "execute_result"
    }
   ],
   "source": [
    "# just a check\n",
    "np.var(X[:, 0])"
   ]
  },
  {
   "cell_type": "markdown",
   "metadata": {},
   "source": [
    "### Step 1. Find the Covariance of Matrix X\n",
    "What is the Covariance Matrix?\n",
    "\n",
    "Variance measures the variation of a single random variable (like the height of a person in a population), whereas\n",
    "covariance is a measure of how much two random variables vary together (like the height of a person and the weight of a\n",
    "person in a population).\n",
    "\n",
    "##### Understanding the Covariance Matrix\n",
    "Watch this video: https://www.youtube.com/watch?v=0GzMcUy7ZI0\n",
    "\n",
    "Read this page: https://datascienceplus.com/understanding-the-covariance-matrix/"
   ]
  },
  {
   "cell_type": "code",
   "execution_count": 7,
   "metadata": {},
   "outputs": [
    {
     "data": {
      "text/plain": [
       "array([[ 2.49868784,  3.3020657 , -3.79910226, -1.99207613,  0.69230565],\n",
       "       [ 3.3020657 ,  5.64400696, -6.01839083, -2.89705043,  0.8798853 ],\n",
       "       [-3.79910226, -6.01839083,  6.64428804,  3.16467363, -1.08181011],\n",
       "       [-1.99207613, -2.89705043,  3.16467363,  1.72635888, -0.54005786],\n",
       "       [ 0.69230565,  0.8798853 , -1.08181011, -0.54005786,  8.78632654]])"
      ]
     },
     "execution_count": 7,
     "metadata": {},
     "output_type": "execute_result"
    }
   ],
   "source": [
    "XT = np.transpose(X)\n",
    "C = np.cov(XT)\n",
    "C"
   ]
  },
  {
   "cell_type": "markdown",
   "metadata": {},
   "source": [
    "### Step 2. Find the Eigenvalues and Eigenvectors of Matrix C"
   ]
  },
  {
   "cell_type": "code",
   "execution_count": 25,
   "metadata": {},
   "outputs": [
    {
     "data": {
      "text/plain": [
       "array([1.62627658e+01, 8.42673154e+00, 4.67622704e-01, 8.23577793e-03,\n",
       "       1.34312491e-01])"
      ]
     },
     "execution_count": 25,
     "metadata": {},
     "output_type": "execute_result"
    }
   ],
   "source": [
    "e, V = np.linalg.eig(C)\n",
    "e"
   ]
  },
  {
   "cell_type": "code",
   "execution_count": 26,
   "metadata": {},
   "outputs": [
    {
     "name": "stdout",
     "output_type": "stream",
     "text": [
      "Eigenvalues are=      16.26       8.43       0.47       0.01       0.13\n"
     ]
    }
   ],
   "source": [
    "# printing in a short format:\n",
    "print(\"Eigenvalues are=\", \"%10.2f\" % e[0], \"%10.2f\" % e[1], \"%10.2f\" % e[2], \"%10.2f\" % e[3], \"%10.2f\" % e[4])"
   ]
  },
  {
   "cell_type": "code",
   "execution_count": 10,
   "metadata": {},
   "outputs": [
    {
     "data": {
      "text/plain": [
       "array([[-0.36661479, -0.07086236, -0.75050828,  0.50985128,  0.19329024],\n",
       "       [-0.57274398, -0.13655214,  0.53279762,  0.48987705, -0.35981247],\n",
       "       [ 0.62910223,  0.1355427 , -0.12911239,  0.49649961, -0.56804637],\n",
       "       [ 0.30932404,  0.06541546,  0.36880653,  0.50353961,  0.71447117],\n",
       "       [-0.21472528,  0.97656594,  0.01325713,  0.00285373, -0.00530336]])"
      ]
     },
     "execution_count": 10,
     "metadata": {},
     "output_type": "execute_result"
    }
   ],
   "source": [
    "# Checking the Eigenvectors\n",
    "V"
   ]
  },
  {
   "cell_type": "markdown",
   "metadata": {},
   "source": [
    "### Step 3. Project the data (X) on the direction of Eigenvectors"
   ]
  },
  {
   "cell_type": "code",
   "execution_count": 11,
   "metadata": {},
   "outputs": [],
   "source": [
    "Z0 = np.dot(X, V[:, 0])"
   ]
  },
  {
   "cell_type": "code",
   "execution_count": 12,
   "metadata": {},
   "outputs": [
    {
     "data": {
      "text/plain": [
       "16.154347319985764"
      ]
     },
     "execution_count": 12,
     "metadata": {},
     "output_type": "execute_result"
    }
   ],
   "source": [
    "# Math check: The variance in Z1 must be equal to first Eigenvalue.\n",
    "np.var(Z0)"
   ]
  },
  {
   "cell_type": "markdown",
   "metadata": {},
   "source": [
    "As you see, the variance in Z1 data is equal to the Eigenvalue 1 (with a very small numerical error!)"
   ]
  },
  {
   "cell_type": "code",
   "execution_count": 13,
   "metadata": {},
   "outputs": [
    {
     "data": {
      "text/plain": [
       "8.370553327654271"
      ]
     },
     "execution_count": 13,
     "metadata": {},
     "output_type": "execute_result"
    }
   ],
   "source": [
    "# What about Z2?\n",
    "Z1 = np.dot(X, V[:, 1])\n",
    "np.var(Z1)"
   ]
  },
  {
   "cell_type": "code",
   "execution_count": 14,
   "metadata": {},
   "outputs": [],
   "source": [
    "# You may check the rest..\n",
    "Z2 = np.dot(X, V[:, 2])\n",
    "Z3 = np.dot(X, V[:, 3])\n",
    "Z4 = np.dot(X, V[:, 4])"
   ]
  },
  {
   "cell_type": "markdown",
   "metadata": {},
   "source": [
    "### Step 4. Calculate the contribution of each variable"
   ]
  },
  {
   "cell_type": "code",
   "execution_count": 15,
   "metadata": {},
   "outputs": [
    {
     "data": {
      "text/plain": [
       "0.6428054939255532"
      ]
     },
     "execution_count": 15,
     "metadata": {},
     "output_type": "execute_result"
    }
   ],
   "source": [
    "# Using only Z0:\n",
    "contribution = e[0] / (e[0] + e[1] + e[2] + e[3] + e[4])\n",
    "contribution"
   ]
  },
  {
   "cell_type": "markdown",
   "metadata": {},
   "source": [
    "It means: Z0 alone can describe 64% of the data (i.e. the variation in data). "
   ]
  },
  {
   "cell_type": "code",
   "execution_count": 16,
   "metadata": {},
   "outputs": [
    {
     "data": {
      "text/plain": [
       "0.975882253984822"
      ]
     },
     "execution_count": 16,
     "metadata": {},
     "output_type": "execute_result"
    }
   ],
   "source": [
    "# Using Z0 and Z1:\n",
    "contribution = (e[0] + e[1]) / (e[0] + e[1] + e[2] + e[3] + e[4])\n",
    "contribution"
   ]
  },
  {
   "cell_type": "markdown",
   "metadata": {},
   "source": [
    "It means: Z0 and Z1 can describe about 98% of the data (i.e. the variation in data).\n",
    "\n",
    "<font color=red> In simple words, we say, using Z0 and Z1, 98% of the information preserves. "
   ]
  },
  {
   "cell_type": "markdown",
   "metadata": {},
   "source": [
    "### Step 5. Let's Visualize "
   ]
  },
  {
   "cell_type": "code",
   "execution_count": 17,
   "metadata": {},
   "outputs": [
    {
     "data": {
      "text/plain": [
       "<matplotlib.collections.PathCollection at 0x2115da85eb0>"
      ]
     },
     "execution_count": 17,
     "metadata": {},
     "output_type": "execute_result"
    },
    {
     "data": {
      "image/png": "[encoded data removed]",
      "text/plain": [
       "<Figure size 432x288 with 1 Axes>"
      ]
     },
     "metadata": {
      "needs_background": "light"
     },
     "output_type": "display_data"
    }
   ],
   "source": [
    "plt.scatter(Z0, Z1, c=y)  # here I used y (the label) for markers color.."
   ]
  },
  {
   "cell_type": "markdown",
   "metadata": {
    "colab_type": "text",
    "id": "KvdeScabXtlB"
   },
   "source": [
    "## PCA with SKLearn"
   ]
  },
  {
   "cell_type": "code",
   "execution_count": 18,
   "metadata": {
    "colab": {},
    "colab_type": "code",
    "id": "3dtrScHxXQox"
   },
   "outputs": [],
   "source": [
    "from sklearn.decomposition import PCA\n",
    "\n",
    "PrinCom = PCA(n_components=2)\n",
    "PrinCom.fit(X)\n",
    "Z = PrinCom.transform(X)"
   ]
  },
  {
   "cell_type": "code",
   "execution_count": 19,
   "metadata": {},
   "outputs": [
    {
     "data": {
      "text/plain": [
       "<matplotlib.collections.PathCollection at 0x2115e231f70>"
      ]
     },
     "execution_count": 19,
     "metadata": {},
     "output_type": "execute_result"
    },
    {
     "data": {
      "image/png": "[encoded data removed]",
      "text/plain": [
       "<Figure size 432x288 with 1 Axes>"
      ]
     },
     "metadata": {
      "needs_background": "light"
     },
     "output_type": "display_data"
    }
   ],
   "source": [
    "plt.scatter(Z[:, 0], Z[:, 1], c=y)"
   ]
  },
  {
   "cell_type": "markdown",
   "metadata": {
    "colab_type": "text",
    "id": "rP6urV6SX7kS"
   },
   "source": [
    "### Let's Check the Results with Manual Method"
   ]
  },
  {
   "cell_type": "code",
   "execution_count": 20,
   "metadata": {
    "colab": {},
    "colab_type": "code",
    "id": "bppGycBXYCQr"
   },
   "outputs": [
    {
     "data": {
      "text/plain": [
       "16.154347319985767"
      ]
     },
     "execution_count": 20,
     "metadata": {},
     "output_type": "execute_result"
    }
   ],
   "source": [
    "np.var(Z[:, 0])"
   ]
  },
  {
   "cell_type": "code",
   "execution_count": null,
   "metadata": {},
   "outputs": [],
   "source": []
  }
 ],
 "metadata": {
  "colab": {
   "collapsed_sections": [],
   "name": "artificial_neural_network.ipynb",
   "provenance": [],
   "toc_visible": true
  },
  "kernelspec": {
   "display_name": "Python 3 (ipykernel)",
   "language": "python",
   "name": "python3"
  },
  "language_info": {
   "codemirror_mode": {
    "name": "ipython",
    "version": 3
   },
   "file_extension": ".py",
   "mimetype": "text/x-python",
   "name": "python",
   "nbconvert_exporter": "python",
   "pygments_lexer": "ipython3",
   "version": "3.8.5"
  },
  "toc": {
   "base_numbering": 1,
   "nav_menu": {},
   "number_sections": true,
   "sideBar": true,
   "skip_h1_title": false,
   "title_cell": "Table of Contents",
   "title_sidebar": "Contents",
   "toc_cell": false,
   "toc_position": {
    "height": "calc(100% - 180px)",
    "left": "10px",
    "top": "150px",
    "width": "165px"
   },
   "toc_section_display": true,
   "toc_window_display": false
  },
  "varInspector": {
   "cols": {
    "lenName": 16,
    "lenType": 16,
    "lenVar": 40
   },
   "kernels_config": {
    "python": {
     "delete_cmd_postfix": "",
     "delete_cmd_prefix": "del ",
     "library": "var_list.py",
     "varRefreshCmd": "print(var_dic_list())"
    },
    "r": {
     "delete_cmd_postfix": ") ",
     "delete_cmd_prefix": "rm(",
     "library": "var_list.r",
     "varRefreshCmd": "cat(var_dic_list()) "
    }
   },
   "types_to_exclude": [
    "module",
    "function",
    "builtin_function_or_method",
    "instance",
    "_Feature"
   ],
   "window_display": false
  }
 },
 "nbformat": 4,
 "nbformat_minor": 1
}