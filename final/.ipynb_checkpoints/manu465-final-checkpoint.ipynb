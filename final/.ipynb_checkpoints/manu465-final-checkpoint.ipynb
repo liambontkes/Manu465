{
 "cells": [
  {
   "cell_type": "markdown",
   "metadata": {
    "collapsed": true,
    "pycharm": {
     "name": "#%% md\n"
    }
   },
   "source": [
    "# MANU 465 Final Exam - Personality Predictor"
   ]
  },
  {
   "cell_type": "markdown",
   "metadata": {
    "pycharm": {
     "name": "#%% md\n"
    }
   },
   "source": [
    "### Author:\n",
    "\n",
    "Liam Bontkes, 25530163"
   ]
  },
  {
   "cell_type": "markdown",
   "metadata": {
    "pycharm": {
     "name": "#%% md\n"
    }
   },
   "source": [
    "## 1 Project Description\n",
    "\n",
    "This project uses images of shoes to estimate a person's personality. The project uses CNN to"
   ]
  },
  {
   "cell_type": "markdown",
   "metadata": {
    "pycharm": {
     "name": "#%% md\n"
    }
   },
   "source": [
    "## 2 Importing the Libraries"
   ]
  },
  {
   "cell_type": "code",
   "execution_count": 116,
   "metadata": {
    "pycharm": {
     "name": "#%%\n"
    }
   },
   "outputs": [],
   "source": [
    "import numpy as np\n",
    "import matplotlib.pyplot as plt\n",
    "import pandas as pd\n",
    "import tensorflow as tf"
   ]
  },
  {
   "cell_type": "markdown",
   "metadata": {
    "pycharm": {
     "name": "#%% md\n"
    }
   },
   "source": [
    "## 3 Data Preprocessing"
   ]
  },
  {
   "cell_type": "code",
   "execution_count": 117,
   "metadata": {
    "pycharm": {
     "name": "#%%\n"
    }
   },
   "outputs": [
    {
     "name": "stdout",
     "output_type": "stream",
     "text": [
      "Found 1397 images belonging to 5 classes.\n",
      "Found 381 images belonging to 5 classes.\n"
     ]
    }
   ],
   "source": [
    "from keras.preprocessing.image import ImageDataGenerator\n",
    "\n",
    "image_data_generator = ImageDataGenerator(rescale=1./255,\n",
    "                                          shear_range=0.2,\n",
    "                                          zoom_range=0.2,\n",
    "                                          horizontal_flip=True)\n",
    "\n",
    "training_set = image_data_generator.flow_from_directory('training_set',\n",
    "                                                        target_size=(64, 64),\n",
    "                                                        batch_size=32,\n",
    "                                                        class_mode='categorical')\n",
    "\n",
    "test_set = image_data_generator.flow_from_directory('test_set',\n",
    "                                                    target_size=(64, 64),\n",
    "                                                    batch_size=32,\n",
    "                                                    class_mode='categorical')"
   ]
  },
  {
   "cell_type": "markdown",
   "metadata": {
    "pycharm": {
     "name": "#%% md\n"
    }
   },
   "source": [
    "## 4 CNN Model"
   ]
  },
  {
   "cell_type": "markdown",
   "metadata": {
    "pycharm": {
     "name": "#%% md\n"
    }
   },
   "source": [
    "### 4.1 Build the CNN Model"
   ]
  },
  {
   "cell_type": "code",
   "execution_count": 118,
   "metadata": {
    "pycharm": {
     "name": "#%%\n"
    }
   },
   "outputs": [],
   "source": [
    "# initialize the model\n",
    "cnn_model = tf.keras.models.Sequential()"
   ]
  },
  {
   "cell_type": "code",
   "execution_count": 119,
   "metadata": {
    "pycharm": {
     "name": "#%%\n"
    }
   },
   "outputs": [],
   "source": [
    "# add and pool first layer\n",
    "cnn_model.add(tf.keras.layers.Conv2D(filters=32, kernel_size=3, activation='relu', input_shape=[64, 64, 3]))\n",
    "cnn_model.add(tf.keras.layers.MaxPool2D(pool_size=2, strides=1))"
   ]
  },
  {
   "cell_type": "code",
   "execution_count": 120,
   "metadata": {
    "pycharm": {
     "name": "#%%\n"
    }
   },
   "outputs": [],
   "source": [
    "# add and pool second layer\n",
    "cnn_model.add(tf.keras.layers.Conv2D(filters=32, kernel_size=3, activation='relu'))\n",
    "cnn_model.add(tf.keras.layers.MaxPool2D(pool_size=2, strides=1))"
   ]
  },
  {
   "cell_type": "markdown",
   "metadata": {
    "pycharm": {
     "name": "#%% md\n"
    }
   },
   "source": [
    "### 4.2 Flatten the CNN Model"
   ]
  },
  {
   "cell_type": "code",
   "execution_count": 121,
   "metadata": {
    "pycharm": {
     "name": "#%%\n"
    }
   },
   "outputs": [],
   "source": [
    "cnn_model.add(tf.keras.layers.Flatten())"
   ]
  },
  {
   "cell_type": "markdown",
   "metadata": {
    "pycharm": {
     "name": "#%% md\n"
    }
   },
   "source": [
    "### 4.3 Add Connection Layer"
   ]
  },
  {
   "cell_type": "code",
   "execution_count": 122,
   "metadata": {
    "pycharm": {
     "name": "#%%\n"
    }
   },
   "outputs": [],
   "source": [
    "cnn_model.add(tf.keras.layers.Dense(units=128, activation='relu'))"
   ]
  },
  {
   "cell_type": "markdown",
   "metadata": {},
   "source": [
    "### 4.4 Add Output Layers"
   ]
  },
  {
   "cell_type": "code",
   "execution_count": 123,
   "metadata": {
    "pycharm": {
     "name": "#%%\n"
    }
   },
   "outputs": [],
   "source": [
    "# add output node for each category\n",
    "cnn_model.add(tf.keras.layers.Dense(units=5, activation='sigmoid'))"
   ]
  },
  {
   "cell_type": "markdown",
   "metadata": {
    "pycharm": {
     "name": "#%% md\n"
    }
   },
   "source": [
    "### 4.5 Compile the Model"
   ]
  },
  {
   "cell_type": "code",
   "execution_count": 124,
   "metadata": {
    "pycharm": {
     "name": "#%%\n"
    }
   },
   "outputs": [],
   "source": [
    "cnn_model.compile(optimizer='adam', loss='binary_crossentropy', metrics=['accuracy'])"
   ]
  },
  {
   "cell_type": "markdown",
   "metadata": {},
   "source": [
    "### 4.6 Train the Model"
   ]
  },
  {
   "cell_type": "code",
   "execution_count": 125,
   "metadata": {
    "pycharm": {
     "name": "#%%\n"
    }
   },
   "outputs": [
    {
     "name": "stdout",
     "output_type": "stream",
     "text": [
      "Epoch 1/25\n",
      "44/44 [==============================] - 9s 200ms/step - loss: 0.4468 - accuracy: 0.7359 - val_loss: 0.2773 - val_accuracy: 0.7139\n",
      "Epoch 2/25\n",
      "44/44 [==============================] - 9s 206ms/step - loss: 0.1234 - accuracy: 0.8969 - val_loss: 0.2994 - val_accuracy: 0.7428\n",
      "Epoch 3/25\n",
      "44/44 [==============================] - 9s 197ms/step - loss: 0.1035 - accuracy: 0.9141 - val_loss: 0.2056 - val_accuracy: 0.7927\n",
      "Epoch 4/25\n",
      "44/44 [==============================] - 9s 193ms/step - loss: 0.0714 - accuracy: 0.9499 - val_loss: 0.2216 - val_accuracy: 0.8215\n",
      "Epoch 5/25\n",
      "44/44 [==============================] - 9s 199ms/step - loss: 0.0628 - accuracy: 0.9542 - val_loss: 0.2375 - val_accuracy: 0.8215\n",
      "Epoch 6/25\n",
      "44/44 [==============================] - 9s 199ms/step - loss: 0.0559 - accuracy: 0.9563 - val_loss: 0.2269 - val_accuracy: 0.8241\n",
      "Epoch 7/25\n",
      "44/44 [==============================] - 8s 189ms/step - loss: 0.0519 - accuracy: 0.9664 - val_loss: 0.2398 - val_accuracy: 0.8373\n",
      "Epoch 8/25\n",
      "44/44 [==============================] - 8s 180ms/step - loss: 0.0410 - accuracy: 0.9714 - val_loss: 0.2056 - val_accuracy: 0.8373\n",
      "Epoch 9/25\n",
      "44/44 [==============================] - 9s 209ms/step - loss: 0.0422 - accuracy: 0.9664 - val_loss: 0.2261 - val_accuracy: 0.8294\n",
      "Epoch 10/25\n",
      "44/44 [==============================] - 9s 200ms/step - loss: 0.0363 - accuracy: 0.9742 - val_loss: 0.2274 - val_accuracy: 0.8241\n",
      "Epoch 11/25\n",
      "44/44 [==============================] - 9s 193ms/step - loss: 0.0352 - accuracy: 0.9785 - val_loss: 0.1941 - val_accuracy: 0.8556\n",
      "Epoch 12/25\n",
      "44/44 [==============================] - 8s 190ms/step - loss: 0.0422 - accuracy: 0.9692 - val_loss: 0.2061 - val_accuracy: 0.8661\n",
      "Epoch 13/25\n",
      "44/44 [==============================] - 8s 191ms/step - loss: 0.0354 - accuracy: 0.9742 - val_loss: 0.2369 - val_accuracy: 0.8425\n",
      "Epoch 14/25\n",
      "44/44 [==============================] - 8s 185ms/step - loss: 0.0353 - accuracy: 0.9735 - val_loss: 0.2078 - val_accuracy: 0.8661\n",
      "Epoch 15/25\n",
      "44/44 [==============================] - 8s 179ms/step - loss: 0.0272 - accuracy: 0.9785 - val_loss: 0.2159 - val_accuracy: 0.8504\n",
      "Epoch 16/25\n",
      "44/44 [==============================] - 8s 181ms/step - loss: 0.0290 - accuracy: 0.9792 - val_loss: 0.2563 - val_accuracy: 0.8504\n",
      "Epoch 17/25\n",
      "44/44 [==============================] - 8s 183ms/step - loss: 0.0240 - accuracy: 0.9785 - val_loss: 0.1922 - val_accuracy: 0.8635\n",
      "Epoch 18/25\n",
      "44/44 [==============================] - 8s 186ms/step - loss: 0.0200 - accuracy: 0.9878 - val_loss: 0.2525 - val_accuracy: 0.8556\n",
      "Epoch 19/25\n",
      "44/44 [==============================] - 8s 181ms/step - loss: 0.0267 - accuracy: 0.9785 - val_loss: 0.2268 - val_accuracy: 0.8320\n",
      "Epoch 20/25\n",
      "44/44 [==============================] - 8s 190ms/step - loss: 0.0205 - accuracy: 0.9878 - val_loss: 0.3430 - val_accuracy: 0.8241\n",
      "Epoch 21/25\n",
      "44/44 [==============================] - 8s 184ms/step - loss: 0.0244 - accuracy: 0.9800 - val_loss: 0.3001 - val_accuracy: 0.8504\n",
      "Epoch 22/25\n",
      "44/44 [==============================] - 8s 181ms/step - loss: 0.0188 - accuracy: 0.9907 - val_loss: 0.2859 - val_accuracy: 0.8583\n",
      "Epoch 23/25\n",
      "44/44 [==============================] - 8s 181ms/step - loss: 0.0177 - accuracy: 0.9900 - val_loss: 0.2410 - val_accuracy: 0.8871\n",
      "Epoch 24/25\n",
      "44/44 [==============================] - 8s 183ms/step - loss: 0.0145 - accuracy: 0.9914 - val_loss: 0.2753 - val_accuracy: 0.8740\n",
      "Epoch 25/25\n",
      "44/44 [==============================] - 8s 184ms/step - loss: 0.0164 - accuracy: 0.9885 - val_loss: 0.2689 - val_accuracy: 0.8478\n"
     ]
    }
   ],
   "source": [
    "train_history = cnn_model.fit(x=training_set, validation_data=test_set, epochs=25)"
   ]
  },
  {
   "cell_type": "code",
   "execution_count": 126,
   "metadata": {
    "pycharm": {
     "name": "#%%\n"
    }
   },
   "outputs": [
    {
     "data": {
      "image/png": "[encoded data removed]",
      "text/plain": [
       "<Figure size 432x288 with 1 Axes>"
      ]
     },
     "metadata": {
      "needs_background": "light"
     },
     "output_type": "display_data"
    }
   ],
   "source": [
    "# plot the accuracy and loss\n",
    "\n",
    "performance = pd.DataFrame(train_history.history)\n",
    "\n",
    "performance.plot()\n",
    "plt.grid(True)\n",
    "plt.gca().set_ylim(0, 1)\n",
    "plt.title(\"CNN Model Training\")\n",
    "plt.show()"
   ]
  },
  {
   "cell_type": "markdown",
   "metadata": {},
   "source": [
    "## 5 Make a Prediction"
   ]
  },
  {
   "cell_type": "code",
   "execution_count": 127,
   "metadata": {
    "pycharm": {
     "name": "#%%\n"
    }
   },
   "outputs": [
    {
     "name": "stdout",
     "output_type": "stream",
     "text": [
      "The person is someone who’s very confident, very goal-oriented, and very organized.\n",
      "[[1. 0. 0. 0. 0.]]\n"
     ]
    }
   ],
   "source": [
    "from keras.preprocessing import image\n",
    "\n",
    "prediction_image = image.load_img('single_prediction.jpg', target_size=(64, 64))\n",
    "prediction_image = image.img_to_array(prediction_image)\n",
    "prediction_image = np.expand_dims(prediction_image, axis=0)\n",
    "\n",
    "result = cnn_model.predict(prediction_image)\n",
    "\n",
    "shoe_result = {\n",
    "    0: 'Athletic',\n",
    "    1: 'Clogs',\n",
    "    2: 'Flats',\n",
    "    3: 'Heels',\n",
    "    4: 'Loafers'\n",
    "}\n",
    "\n",
    "shoe_personality_table = {\n",
    "    0: 'The person is someone who’s very confident, very goal-oriented, and very organized.',\n",
    "    1: 'The person is open spirited, and very outdoorsy. They love nature and the whole regenerative effect of being outdoors.',\n",
    "    2: 'The person is focused, very modest, and generous.',\n",
    "    3: 'The person really loves and values beauty.',\n",
    "    4: 'The person is very responsible, very detail-driven, very much the person who manages all the details.'\n",
    "}\n",
    "\n",
    "personality = 0\n",
    "for match, shoe in enumerate(result[0]):\n",
    "    if match:\n",
    "        personality = shoe\n",
    "        break\n",
    "\n",
    "print(shoe_personality_table[personality])\n",
    "print(result)"
   ]
  },
  {
   "cell_type": "markdown",
   "metadata": {
    "pycharm": {
     "name": "#%% md\n"
    }
   },
   "source": [
    "## 6 Conclusion"
   ]
  },
  {
   "cell_type": "markdown",
   "metadata": {
    "pycharm": {
     "name": "#%% md\n"
    }
   },
   "source": [
    "Over the CNN model performs decently well. As shown in the CNN Model Training graph, the accuracy\n",
    "and loss were diverging from the validation accuracy and validation loss. This suggests that the\n",
    "model was over-fitting the data. Despite this, the CNN model correctly classified the single image\n",
    "test shoe (my shoe).\n",
    "\n",
    "To improve the CNN model's accuracy, a larger and more diverse dataset should be used. Due to the\n",
    "time constraints of the exam, I was unable to do this."
   ]
  }
 ],
 "metadata": {
  "kernelspec": {
   "display_name": "Python 3 (ipykernel)",
   "language": "python",
   "name": "python3"
  },
  "language_info": {
   "codemirror_mode": {
    "name": "ipython",
    "version": 3
   },
   "file_extension": ".py",
   "mimetype": "text/x-python",
   "name": "python",
   "nbconvert_exporter": "python",
   "pygments_lexer": "ipython3",
   "version": "3.8.10"
  }
 },
 "nbformat": 4,
 "nbformat_minor": 1
}
