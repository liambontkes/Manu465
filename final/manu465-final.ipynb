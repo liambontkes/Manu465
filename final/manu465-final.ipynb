{
 "cells": [
  {
   "cell_type": "markdown",
   "metadata": {
    "collapsed": true,
    "pycharm": {
     "name": "#%% md\n"
    }
   },
   "source": [
    "# MANU 465 Final Exam - Personality Predictor"
   ]
  },
  {
   "cell_type": "markdown",
   "source": [
    "### Author:\n",
    "\n",
    "Liam Bontkes, 25530163"
   ],
   "metadata": {
    "collapsed": false,
    "pycharm": {
     "name": "#%% md\n"
    }
   }
  },
  {
   "cell_type": "markdown",
   "source": [
    "## 1 Project Description\n",
    "\n",
    "This project uses images of shoes to estimate a person's personality. The project uses CNN to"
   ],
   "metadata": {
    "collapsed": false,
    "pycharm": {
     "name": "#%% md\n"
    }
   }
  },
  {
   "cell_type": "markdown",
   "source": [
    "## 2 Importing the Libraries"
   ],
   "metadata": {
    "collapsed": false,
    "pycharm": {
     "name": "#%% md\n"
    }
   }
  },
  {
   "cell_type": "code",
   "execution_count": 100,
   "outputs": [],
   "source": [
    "import numpy as np\n",
    "import matplotlib.pyplot as plt\n",
    "import pandas as pd\n",
    "import tensorflow as tf"
   ],
   "metadata": {
    "collapsed": false,
    "pycharm": {
     "name": "#%%\n"
    }
   }
  },
  {
   "cell_type": "markdown",
   "source": [
    "## 3 Data Preprocessing"
   ],
   "metadata": {
    "collapsed": false,
    "pycharm": {
     "name": "#%% md\n"
    }
   }
  },
  {
   "cell_type": "code",
   "execution_count": 101,
   "outputs": [
    {
     "name": "stdout",
     "output_type": "stream",
     "text": [
      "Found 1397 images belonging to 5 classes.\n",
      "Found 381 images belonging to 5 classes.\n"
     ]
    }
   ],
   "source": [
    "from keras.preprocessing.image import ImageDataGenerator\n",
    "\n",
    "image_data_generator = ImageDataGenerator(rescale=1./255,\n",
    "                                          shear_range=0.2,\n",
    "                                          zoom_range=0.2,\n",
    "                                          horizontal_flip=True)\n",
    "\n",
    "training_set = image_data_generator.flow_from_directory('training_set',\n",
    "                                                        target_size=(64, 64),\n",
    "                                                        batch_size=32,\n",
    "                                                        class_mode='categorical')\n",
    "\n",
    "test_set = image_data_generator.flow_from_directory('test_set',\n",
    "                                                    target_size=(64, 64),\n",
    "                                                    batch_size=32,\n",
    "                                                    class_mode='categorical')"
   ],
   "metadata": {
    "collapsed": false,
    "pycharm": {
     "name": "#%%\n"
    }
   }
  },
  {
   "cell_type": "markdown",
   "source": [
    "## 4 CNN Model"
   ],
   "metadata": {
    "collapsed": false,
    "pycharm": {
     "name": "#%% md\n"
    }
   }
  },
  {
   "cell_type": "markdown",
   "source": [
    "### 4.1 Build the CNN Model"
   ],
   "metadata": {
    "collapsed": false,
    "pycharm": {
     "name": "#%% md\n"
    }
   }
  },
  {
   "cell_type": "code",
   "execution_count": 102,
   "outputs": [],
   "source": [
    "# initialize the model\n",
    "cnn_model = tf.keras.models.Sequential()"
   ],
   "metadata": {
    "collapsed": false,
    "pycharm": {
     "name": "#%%\n"
    }
   }
  },
  {
   "cell_type": "code",
   "execution_count": 103,
   "outputs": [],
   "source": [
    "# add and pool first layer\n",
    "cnn_model.add(tf.keras.layers.Conv2D(filters=32, kernel_size=3, activation='relu', input_shape=[64, 64, 3]))\n",
    "cnn_model.add(tf.keras.layers.MaxPool2D(pool_size=2, strides=1))"
   ],
   "metadata": {
    "collapsed": false,
    "pycharm": {
     "name": "#%%\n"
    }
   }
  },
  {
   "cell_type": "code",
   "execution_count": 104,
   "outputs": [],
   "source": [
    "# add and pool second layer\n",
    "cnn_model.add(tf.keras.layers.Conv2D(filters=32, kernel_size=3, activation='relu'))\n",
    "cnn_model.add(tf.keras.layers.MaxPool2D(pool_size=2, strides=1))"
   ],
   "metadata": {
    "collapsed": false,
    "pycharm": {
     "name": "#%%\n"
    }
   }
  },
  {
   "cell_type": "markdown",
   "source": [
    "### 4.2 Flatten the CNN Model"
   ],
   "metadata": {
    "collapsed": false,
    "pycharm": {
     "name": "#%% md\n"
    }
   }
  },
  {
   "cell_type": "code",
   "execution_count": 105,
   "outputs": [],
   "source": [
    "cnn_model.add(tf.keras.layers.Flatten())"
   ],
   "metadata": {
    "collapsed": false,
    "pycharm": {
     "name": "#%%\n"
    }
   }
  },
  {
   "cell_type": "markdown",
   "source": [
    "### 4.3 Add Connection Layer"
   ],
   "metadata": {
    "collapsed": false,
    "pycharm": {
     "name": "#%% md\n"
    }
   }
  },
  {
   "cell_type": "code",
   "execution_count": 106,
   "outputs": [],
   "source": [
    "cnn_model.add(tf.keras.layers.Dense(units=256, activation='relu'))"
   ],
   "metadata": {
    "collapsed": false,
    "pycharm": {
     "name": "#%%\n"
    }
   }
  },
  {
   "cell_type": "markdown",
   "source": [
    "### 4.4 Add Output Layers"
   ],
   "metadata": {
    "collapsed": false
   }
  },
  {
   "cell_type": "code",
   "execution_count": 107,
   "outputs": [],
   "source": [
    "# add output node for each category\n",
    "cnn_model.add(tf.keras.layers.Dense(units=5, activation='sigmoid'))"
   ],
   "metadata": {
    "collapsed": false,
    "pycharm": {
     "name": "#%%\n"
    }
   }
  },
  {
   "cell_type": "markdown",
   "source": [
    "### 4.5 Compile the Model"
   ],
   "metadata": {
    "collapsed": false,
    "pycharm": {
     "name": "#%% md\n"
    }
   }
  },
  {
   "cell_type": "code",
   "execution_count": 108,
   "outputs": [],
   "source": [
    "cnn_model.compile(optimizer='adam', loss='binary_crossentropy', metrics=['accuracy'])"
   ],
   "metadata": {
    "collapsed": false,
    "pycharm": {
     "name": "#%%\n"
    }
   }
  },
  {
   "cell_type": "markdown",
   "source": [
    "### 4.6 Train the Model"
   ],
   "metadata": {
    "collapsed": false
   }
  },
  {
   "cell_type": "code",
   "execution_count": 109,
   "outputs": [
    {
     "name": "stdout",
     "output_type": "stream",
     "text": [
      "Epoch 1/25\n",
      "44/44 [==============================] - 11s 243ms/step - loss: 0.6283 - accuracy: 0.7566 - val_loss: 0.2504 - val_accuracy: 0.8005\n",
      "Epoch 2/25\n",
      "44/44 [==============================] - 11s 254ms/step - loss: 0.1054 - accuracy: 0.9091 - val_loss: 0.2922 - val_accuracy: 0.8031\n",
      "Epoch 3/25\n",
      "44/44 [==============================] - 11s 239ms/step - loss: 0.0876 - accuracy: 0.9356 - val_loss: 0.2102 - val_accuracy: 0.8136\n",
      "Epoch 4/25\n",
      "44/44 [==============================] - 10s 231ms/step - loss: 0.0610 - accuracy: 0.9549 - val_loss: 0.2231 - val_accuracy: 0.8425\n",
      "Epoch 5/25\n",
      "44/44 [==============================] - 10s 234ms/step - loss: 0.0581 - accuracy: 0.9549 - val_loss: 0.2365 - val_accuracy: 0.8478\n",
      "Epoch 6/25\n",
      "44/44 [==============================] - 10s 231ms/step - loss: 0.0454 - accuracy: 0.9649 - val_loss: 0.2017 - val_accuracy: 0.8871\n",
      "Epoch 7/25\n",
      "44/44 [==============================] - 10s 234ms/step - loss: 0.0457 - accuracy: 0.9664 - val_loss: 0.2385 - val_accuracy: 0.8793\n",
      "Epoch 8/25\n",
      "44/44 [==============================] - 11s 242ms/step - loss: 0.0429 - accuracy: 0.9692 - val_loss: 0.2774 - val_accuracy: 0.8268\n",
      "Epoch 9/25\n",
      "44/44 [==============================] - 10s 228ms/step - loss: 0.0383 - accuracy: 0.9699 - val_loss: 0.2652 - val_accuracy: 0.8556\n",
      "Epoch 10/25\n",
      "44/44 [==============================] - 12s 261ms/step - loss: 0.0364 - accuracy: 0.9707 - val_loss: 0.2594 - val_accuracy: 0.8399\n",
      "Epoch 11/25\n",
      "44/44 [==============================] - 11s 243ms/step - loss: 0.0458 - accuracy: 0.9635 - val_loss: 0.2747 - val_accuracy: 0.8373\n",
      "Epoch 12/25\n",
      "44/44 [==============================] - 10s 232ms/step - loss: 0.0324 - accuracy: 0.9757 - val_loss: 0.2087 - val_accuracy: 0.8688\n",
      "Epoch 13/25\n",
      "44/44 [==============================] - 10s 237ms/step - loss: 0.0333 - accuracy: 0.9814 - val_loss: 0.3405 - val_accuracy: 0.8451\n",
      "Epoch 14/25\n",
      "44/44 [==============================] - 11s 241ms/step - loss: 0.0216 - accuracy: 0.9864 - val_loss: 0.2576 - val_accuracy: 0.8740\n",
      "Epoch 15/25\n",
      "44/44 [==============================] - 10s 237ms/step - loss: 0.0207 - accuracy: 0.9878 - val_loss: 0.3262 - val_accuracy: 0.8320\n",
      "Epoch 16/25\n",
      "44/44 [==============================] - 10s 235ms/step - loss: 0.0185 - accuracy: 0.9864 - val_loss: 0.2748 - val_accuracy: 0.8451\n",
      "Epoch 17/25\n",
      "44/44 [==============================] - 10s 236ms/step - loss: 0.0205 - accuracy: 0.9835 - val_loss: 0.3010 - val_accuracy: 0.8320\n",
      "Epoch 18/25\n",
      "44/44 [==============================] - 10s 236ms/step - loss: 0.0220 - accuracy: 0.9893 - val_loss: 0.3188 - val_accuracy: 0.8451\n",
      "Epoch 19/25\n",
      "44/44 [==============================] - 10s 232ms/step - loss: 0.0168 - accuracy: 0.9907 - val_loss: 0.3076 - val_accuracy: 0.8451\n",
      "Epoch 20/25\n",
      "44/44 [==============================] - 11s 242ms/step - loss: 0.0125 - accuracy: 0.9914 - val_loss: 0.2756 - val_accuracy: 0.8766\n",
      "Epoch 21/25\n",
      "44/44 [==============================] - 11s 248ms/step - loss: 0.0126 - accuracy: 0.9928 - val_loss: 0.3048 - val_accuracy: 0.8583\n",
      "Epoch 22/25\n",
      "44/44 [==============================] - 11s 250ms/step - loss: 0.0209 - accuracy: 0.9878 - val_loss: 0.3357 - val_accuracy: 0.8294\n",
      "Epoch 23/25\n",
      "44/44 [==============================] - 11s 256ms/step - loss: 0.0185 - accuracy: 0.9900 - val_loss: 0.2465 - val_accuracy: 0.8793\n",
      "Epoch 24/25\n",
      "44/44 [==============================] - 11s 247ms/step - loss: 0.0219 - accuracy: 0.9871 - val_loss: 0.2477 - val_accuracy: 0.8635\n",
      "Epoch 25/25\n",
      "44/44 [==============================] - 11s 244ms/step - loss: 0.0115 - accuracy: 0.9936 - val_loss: 0.3200 - val_accuracy: 0.8478\n"
     ]
    }
   ],
   "source": [
    "train_history = cnn_model.fit(x=training_set, validation_data=test_set, epochs=25)"
   ],
   "metadata": {
    "collapsed": false,
    "pycharm": {
     "name": "#%%\n"
    }
   }
  },
  {
   "cell_type": "code",
   "execution_count": 115,
   "outputs": [
    {
     "data": {
      "text/plain": "<Figure size 432x288 with 1 Axes>",
      "image/png": "[encoded data removed]"
     },
     "metadata": {
      "needs_background": "light"
     },
     "output_type": "display_data"
    }
   ],
   "source": [
    "# plot the accuracy and loss\n",
    "\n",
    "performance = pd.DataFrame(train_history.history)\n",
    "\n",
    "performance.plot()\n",
    "plt.grid(True)\n",
    "plt.gca().set_ylim(0, 1)\n",
    "plt.title(\"CNN Model Training\")\n",
    "plt.show()"
   ],
   "metadata": {
    "collapsed": false,
    "pycharm": {
     "name": "#%%\n"
    }
   }
  },
  {
   "cell_type": "markdown",
   "source": [
    "## 5 Make a Prediction"
   ],
   "metadata": {
    "collapsed": false
   }
  },
  {
   "cell_type": "code",
   "execution_count": 113,
   "outputs": [
    {
     "name": "stdout",
     "output_type": "stream",
     "text": [
      "The person is someone who’s very confident, very goal-oriented, and very organized.\n",
      "[[1. 0. 0. 0. 0.]]\n"
     ]
    }
   ],
   "source": [
    "from keras.preprocessing import image\n",
    "\n",
    "prediction_image = image.load_img('single_prediction.jpg', target_size=(64, 64))\n",
    "prediction_image = image.img_to_array(prediction_image)\n",
    "prediction_image = np.expand_dims(prediction_image, axis=0)\n",
    "\n",
    "result = cnn_model.predict(prediction_image)\n",
    "\n",
    "shoe_result = {\n",
    "    0: 'Athletic',\n",
    "    1: 'Clogs',\n",
    "    2: 'Flats',\n",
    "    3: 'Heels',\n",
    "    4: 'Loafers'\n",
    "}\n",
    "\n",
    "shoe_personality_table = {\n",
    "    0: 'The person is someone who’s very confident, very goal-oriented, and very organized.',\n",
    "    1: 'The person is open spirited, and very outdoorsy. They love nature and the whole regenerative effect of being outdoors.',\n",
    "    2: 'The person is focused, very modest, and generous.',\n",
    "    3: 'The person really loves and values beauty.',\n",
    "    4: 'The person is very responsible, very detail-driven, very much the person who manages all the details.'\n",
    "}\n",
    "\n",
    "personality = 0\n",
    "for match, shoe in enumerate(result[0]):\n",
    "    if match:\n",
    "        personality = shoe\n",
    "        break\n",
    "\n",
    "print(shoe_personality_table[personality])\n",
    "print(result)"
   ],
   "metadata": {
    "collapsed": false,
    "pycharm": {
     "name": "#%%\n"
    }
   }
  },
  {
   "cell_type": "markdown",
   "source": [
    "## 6 Conclusion"
   ],
   "metadata": {
    "collapsed": false,
    "pycharm": {
     "name": "#%% md\n"
    }
   }
  },
  {
   "cell_type": "markdown",
   "source": [
    "Over the CNN model performs decently well. As shown in the CNN Model Training graph, the accuracy\n",
    "and loss were diverging from the validation accuracy and validation loss. This suggests that the\n",
    "model was over-fitting the data. Despite this, the CNN model correctly classified the single image\n",
    "test shoe (my shoe).\n",
    "\n",
    "To improve the CNN model's accuracy, a larger and more diverse dataset should be used. Due to the\n",
    "time constraints of the exam, I was unable to do this."
   ],
   "metadata": {
    "collapsed": false,
    "pycharm": {
     "name": "#%% md\n"
    }
   }
  }
 ],
 "metadata": {
  "kernelspec": {
   "display_name": "Python 3",
   "language": "python",
   "name": "python3"
  },
  "language_info": {
   "codemirror_mode": {
    "name": "ipython",
    "version": 2
   },
   "file_extension": ".py",
   "mimetype": "text/x-python",
   "name": "python",
   "nbconvert_exporter": "python",
   "pygments_lexer": "ipython2",
   "version": "2.7.6"
  }
 },
 "nbformat": 4,
 "nbformat_minor": 0
}