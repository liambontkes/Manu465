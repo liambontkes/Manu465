{
 "cells": [
  {
   "cell_type": "markdown",
   "id": "49963383",
   "metadata": {},
   "source": [
    "# Tutorial 1 The Titanic Disaster\n",
    "\n",
    "## Project Summary\n",
    "Predict which passengers survived the Titanic shipwreck."
   ]
  },
  {
   "cell_type": "markdown",
   "id": "936f1d1a",
   "metadata": {},
   "source": [
    "## Importing the Libraries"
   ]
  },
  {
   "cell_type": "code",
   "execution_count": 1,
   "id": "e48645d1",
   "metadata": {},
   "outputs": [],
   "source": [
    "import numpy as np \n",
    "import pandas as pd \n",
    "from matplotlib import pyplot as plt"
   ]
  },
  {
   "cell_type": "markdown",
   "id": "8c468486",
   "metadata": {},
   "source": [
    "## Importing the Dataset"
   ]
  },
  {
   "cell_type": "code",
   "execution_count": 2,
   "id": "0dd3d625",
   "metadata": {},
   "outputs": [],
   "source": [
    "dataset = pd.read_csv('../data/Titanic.csv')"
   ]
  },
  {
   "cell_type": "markdown",
   "id": "c3459587",
   "metadata": {},
   "source": [
    "## Showing the Dataset in a Table"
   ]
  },
  {
   "cell_type": "code",
   "execution_count": 3,
   "id": "054f1df4",
   "metadata": {},
   "outputs": [
    {
     "data": {
      "text/plain": "     PassengerId  Pclass                                               Name  \\\n0              1       3                            Braund, Mr. Owen Harris   \n1              2       1  Cumings, Mrs. John Bradley (Florence Briggs Th...   \n2              3       3                             Heikkinen, Miss. Laina   \n3              4       1       Futrelle, Mrs. Jacques Heath (Lily May Peel)   \n4              5       3                           Allen, Mr. William Henry   \n..           ...     ...                                                ...   \n886          887       2                              Montvila, Rev. Juozas   \n887          888       1                       Graham, Miss. Margaret Edith   \n888          889       3           Johnston, Miss. Catherine Helen \"Carrie\"   \n889          890       1                              Behr, Mr. Karl Howell   \n890          891       3                                Dooley, Mr. Patrick   \n\n        Sex   Age  Number of Siblings/Spouses Aboard  \\\n0      male  22.0                                  1   \n1    female  38.0                                  1   \n2    female  26.0                                  0   \n3    female  35.0                                  1   \n4      male  35.0                                  0   \n..      ...   ...                                ...   \n886    male  27.0                                  0   \n887  female  19.0                                  0   \n888  female   NaN                                  1   \n889    male  26.0                                  0   \n890    male  32.0                                  0   \n\n     Number of Parents/Children Aboard     Fare Embarked Survived  \n0                                    0   7.2500        S       No  \n1                                    0  71.2833        C      Yes  \n2                                    0   7.9250        S      Yes  \n3                                    0  53.1000        S      Yes  \n4                                    0   8.0500        S       No  \n..                                 ...      ...      ...      ...  \n886                                  0  13.0000        S       No  \n887                                  0  30.0000        S      Yes  \n888                                  2  23.4500        S       No  \n889                                  0  30.0000        C      Yes  \n890                                  0   7.7500        Q       No  \n\n[891 rows x 10 columns]",
      "text/html": "<div>\n<style scoped>\n    .dataframe tbody tr th:only-of-type {\n        vertical-align: middle;\n    }\n\n    .dataframe tbody tr th {\n        vertical-align: top;\n    }\n\n    .dataframe thead th {\n        text-align: right;\n    }\n</style>\n<table border=\"1\" class=\"dataframe\">\n  <thead>\n    <tr style=\"text-align: right;\">\n      <th></th>\n      <th>PassengerId</th>\n      <th>Pclass</th>\n      <th>Name</th>\n      <th>Sex</th>\n      <th>Age</th>\n      <th>Number of Siblings/Spouses Aboard</th>\n      <th>Number of Parents/Children Aboard</th>\n      <th>Fare</th>\n      <th>Embarked</th>\n      <th>Survived</th>\n    </tr>\n  </thead>\n  <tbody>\n    <tr>\n      <th>0</th>\n      <td>1</td>\n      <td>3</td>\n      <td>Braund, Mr. Owen Harris</td>\n      <td>male</td>\n      <td>22.0</td>\n      <td>1</td>\n      <td>0</td>\n      <td>7.2500</td>\n      <td>S</td>\n      <td>No</td>\n    </tr>\n    <tr>\n      <th>1</th>\n      <td>2</td>\n      <td>1</td>\n      <td>Cumings, Mrs. John Bradley (Florence Briggs Th...</td>\n      <td>female</td>\n      <td>38.0</td>\n      <td>1</td>\n      <td>0</td>\n      <td>71.2833</td>\n      <td>C</td>\n      <td>Yes</td>\n    </tr>\n    <tr>\n      <th>2</th>\n      <td>3</td>\n      <td>3</td>\n      <td>Heikkinen, Miss. Laina</td>\n      <td>female</td>\n      <td>26.0</td>\n      <td>0</td>\n      <td>0</td>\n      <td>7.9250</td>\n      <td>S</td>\n      <td>Yes</td>\n    </tr>\n    <tr>\n      <th>3</th>\n      <td>4</td>\n      <td>1</td>\n      <td>Futrelle, Mrs. Jacques Heath (Lily May Peel)</td>\n      <td>female</td>\n      <td>35.0</td>\n      <td>1</td>\n      <td>0</td>\n      <td>53.1000</td>\n      <td>S</td>\n      <td>Yes</td>\n    </tr>\n    <tr>\n      <th>4</th>\n      <td>5</td>\n      <td>3</td>\n      <td>Allen, Mr. William Henry</td>\n      <td>male</td>\n      <td>35.0</td>\n      <td>0</td>\n      <td>0</td>\n      <td>8.0500</td>\n      <td>S</td>\n      <td>No</td>\n    </tr>\n    <tr>\n      <th>...</th>\n      <td>...</td>\n      <td>...</td>\n      <td>...</td>\n      <td>...</td>\n      <td>...</td>\n      <td>...</td>\n      <td>...</td>\n      <td>...</td>\n      <td>...</td>\n      <td>...</td>\n    </tr>\n    <tr>\n      <th>886</th>\n      <td>887</td>\n      <td>2</td>\n      <td>Montvila, Rev. Juozas</td>\n      <td>male</td>\n      <td>27.0</td>\n      <td>0</td>\n      <td>0</td>\n      <td>13.0000</td>\n      <td>S</td>\n      <td>No</td>\n    </tr>\n    <tr>\n      <th>887</th>\n      <td>888</td>\n      <td>1</td>\n      <td>Graham, Miss. Margaret Edith</td>\n      <td>female</td>\n      <td>19.0</td>\n      <td>0</td>\n      <td>0</td>\n      <td>30.0000</td>\n      <td>S</td>\n      <td>Yes</td>\n    </tr>\n    <tr>\n      <th>888</th>\n      <td>889</td>\n      <td>3</td>\n      <td>Johnston, Miss. Catherine Helen \"Carrie\"</td>\n      <td>female</td>\n      <td>NaN</td>\n      <td>1</td>\n      <td>2</td>\n      <td>23.4500</td>\n      <td>S</td>\n      <td>No</td>\n    </tr>\n    <tr>\n      <th>889</th>\n      <td>890</td>\n      <td>1</td>\n      <td>Behr, Mr. Karl Howell</td>\n      <td>male</td>\n      <td>26.0</td>\n      <td>0</td>\n      <td>0</td>\n      <td>30.0000</td>\n      <td>C</td>\n      <td>Yes</td>\n    </tr>\n    <tr>\n      <th>890</th>\n      <td>891</td>\n      <td>3</td>\n      <td>Dooley, Mr. Patrick</td>\n      <td>male</td>\n      <td>32.0</td>\n      <td>0</td>\n      <td>0</td>\n      <td>7.7500</td>\n      <td>Q</td>\n      <td>No</td>\n    </tr>\n  </tbody>\n</table>\n<p>891 rows × 10 columns</p>\n</div>"
     },
     "execution_count": 3,
     "metadata": {},
     "output_type": "execute_result"
    }
   ],
   "source": [
    "pd.DataFrame(dataset)"
   ]
  },
  {
   "cell_type": "markdown",
   "id": "31d6afda",
   "metadata": {},
   "source": [
    "## A Quick Review of the Data"
   ]
  },
  {
   "cell_type": "code",
   "execution_count": 4,
   "id": "d6af26a9",
   "metadata": {},
   "outputs": [
    {
     "name": "stdout",
     "output_type": "stream",
     "text": [
      "<class 'pandas.core.frame.DataFrame'>\n",
      "RangeIndex: 891 entries, 0 to 890\n",
      "Data columns (total 10 columns):\n",
      " #   Column                             Non-Null Count  Dtype  \n",
      "---  ------                             --------------  -----  \n",
      " 0   PassengerId                        891 non-null    int64  \n",
      " 1   Pclass                             891 non-null    int64  \n",
      " 2   Name                               891 non-null    object \n",
      " 3   Sex                                891 non-null    object \n",
      " 4   Age                                714 non-null    float64\n",
      " 5   Number of Siblings/Spouses Aboard  891 non-null    int64  \n",
      " 6   Number of Parents/Children Aboard  891 non-null    int64  \n",
      " 7   Fare                               891 non-null    float64\n",
      " 8   Embarked                           889 non-null    object \n",
      " 9   Survived                           891 non-null    object \n",
      "dtypes: float64(2), int64(4), object(4)\n",
      "memory usage: 69.7+ KB\n"
     ]
    }
   ],
   "source": [
    "dataset.info()"
   ]
  },
  {
   "cell_type": "markdown",
   "id": "acf70f00",
   "metadata": {},
   "source": [
    "## Encoding Categorical Data"
   ]
  },
  {
   "cell_type": "markdown",
   "id": "6d418de9",
   "metadata": {},
   "source": [
    "### Encoding Data Inputs"
   ]
  },
  {
   "cell_type": "code",
   "execution_count": 5,
   "id": "d18a40b0",
   "metadata": {},
   "outputs": [
    {
     "data": {
      "text/plain": "     Sex\n0    0.0\n1    1.0\n2    1.0\n3    1.0\n4    0.0\n..   ...\n886  0.0\n887  1.0\n888  1.0\n889  0.0\n890  0.0\n\n[891 rows x 1 columns]",
      "text/html": "<div>\n<style scoped>\n    .dataframe tbody tr th:only-of-type {\n        vertical-align: middle;\n    }\n\n    .dataframe tbody tr th {\n        vertical-align: top;\n    }\n\n    .dataframe thead th {\n        text-align: right;\n    }\n</style>\n<table border=\"1\" class=\"dataframe\">\n  <thead>\n    <tr style=\"text-align: right;\">\n      <th></th>\n      <th>Sex</th>\n    </tr>\n  </thead>\n  <tbody>\n    <tr>\n      <th>0</th>\n      <td>0.0</td>\n    </tr>\n    <tr>\n      <th>1</th>\n      <td>1.0</td>\n    </tr>\n    <tr>\n      <th>2</th>\n      <td>1.0</td>\n    </tr>\n    <tr>\n      <th>3</th>\n      <td>1.0</td>\n    </tr>\n    <tr>\n      <th>4</th>\n      <td>0.0</td>\n    </tr>\n    <tr>\n      <th>...</th>\n      <td>...</td>\n    </tr>\n    <tr>\n      <th>886</th>\n      <td>0.0</td>\n    </tr>\n    <tr>\n      <th>887</th>\n      <td>1.0</td>\n    </tr>\n    <tr>\n      <th>888</th>\n      <td>1.0</td>\n    </tr>\n    <tr>\n      <th>889</th>\n      <td>0.0</td>\n    </tr>\n    <tr>\n      <th>890</th>\n      <td>0.0</td>\n    </tr>\n  </tbody>\n</table>\n<p>891 rows × 1 columns</p>\n</div>"
     },
     "execution_count": 5,
     "metadata": {},
     "output_type": "execute_result"
    }
   ],
   "source": [
    "sexes = {'male': 0.0, 'female': 1.0}\n",
    "dataset['Sex'] = dataset['Sex'].map(sexes)\n",
    "pd.DataFrame(dataset['Sex'])"
   ]
  },
  {
   "cell_type": "code",
   "execution_count": 6,
   "id": "ab2bf5b5",
   "metadata": {},
   "outputs": [
    {
     "data": {
      "text/plain": "     Embarked\n0         0.0\n1         1.0\n2         0.0\n3         0.0\n4         0.0\n..        ...\n886       0.0\n887       0.0\n888       0.0\n889       1.0\n890       2.0\n\n[891 rows x 1 columns]",
      "text/html": "<div>\n<style scoped>\n    .dataframe tbody tr th:only-of-type {\n        vertical-align: middle;\n    }\n\n    .dataframe tbody tr th {\n        vertical-align: top;\n    }\n\n    .dataframe thead th {\n        text-align: right;\n    }\n</style>\n<table border=\"1\" class=\"dataframe\">\n  <thead>\n    <tr style=\"text-align: right;\">\n      <th></th>\n      <th>Embarked</th>\n    </tr>\n  </thead>\n  <tbody>\n    <tr>\n      <th>0</th>\n      <td>0.0</td>\n    </tr>\n    <tr>\n      <th>1</th>\n      <td>1.0</td>\n    </tr>\n    <tr>\n      <th>2</th>\n      <td>0.0</td>\n    </tr>\n    <tr>\n      <th>3</th>\n      <td>0.0</td>\n    </tr>\n    <tr>\n      <th>4</th>\n      <td>0.0</td>\n    </tr>\n    <tr>\n      <th>...</th>\n      <td>...</td>\n    </tr>\n    <tr>\n      <th>886</th>\n      <td>0.0</td>\n    </tr>\n    <tr>\n      <th>887</th>\n      <td>0.0</td>\n    </tr>\n    <tr>\n      <th>888</th>\n      <td>0.0</td>\n    </tr>\n    <tr>\n      <th>889</th>\n      <td>1.0</td>\n    </tr>\n    <tr>\n      <th>890</th>\n      <td>2.0</td>\n    </tr>\n  </tbody>\n</table>\n<p>891 rows × 1 columns</p>\n</div>"
     },
     "execution_count": 6,
     "metadata": {},
     "output_type": "execute_result"
    }
   ],
   "source": [
    "ports = {'S': 0.0, 'C': 1.0, 'Q': 2.0}\n",
    "dataset['Embarked'] = dataset['Embarked'].map(ports)\n",
    "pd.DataFrame(dataset['Embarked'])"
   ]
  },
  {
   "cell_type": "markdown",
   "id": "3df927a1",
   "metadata": {},
   "source": [
    "### Encoding Data Outputs (Labels)"
   ]
  },
  {
   "cell_type": "code",
   "execution_count": 7,
   "id": "662fed0b",
   "metadata": {},
   "outputs": [
    {
     "data": {
      "text/plain": "     Survived\n0           0\n1           1\n2           1\n3           1\n4           0\n..        ...\n886         0\n887         1\n888         0\n889         1\n890         0\n\n[891 rows x 1 columns]",
      "text/html": "<div>\n<style scoped>\n    .dataframe tbody tr th:only-of-type {\n        vertical-align: middle;\n    }\n\n    .dataframe tbody tr th {\n        vertical-align: top;\n    }\n\n    .dataframe thead th {\n        text-align: right;\n    }\n</style>\n<table border=\"1\" class=\"dataframe\">\n  <thead>\n    <tr style=\"text-align: right;\">\n      <th></th>\n      <th>Survived</th>\n    </tr>\n  </thead>\n  <tbody>\n    <tr>\n      <th>0</th>\n      <td>0</td>\n    </tr>\n    <tr>\n      <th>1</th>\n      <td>1</td>\n    </tr>\n    <tr>\n      <th>2</th>\n      <td>1</td>\n    </tr>\n    <tr>\n      <th>3</th>\n      <td>1</td>\n    </tr>\n    <tr>\n      <th>4</th>\n      <td>0</td>\n    </tr>\n    <tr>\n      <th>...</th>\n      <td>...</td>\n    </tr>\n    <tr>\n      <th>886</th>\n      <td>0</td>\n    </tr>\n    <tr>\n      <th>887</th>\n      <td>1</td>\n    </tr>\n    <tr>\n      <th>888</th>\n      <td>0</td>\n    </tr>\n    <tr>\n      <th>889</th>\n      <td>1</td>\n    </tr>\n    <tr>\n      <th>890</th>\n      <td>0</td>\n    </tr>\n  </tbody>\n</table>\n<p>891 rows × 1 columns</p>\n</div>"
     },
     "execution_count": 7,
     "metadata": {},
     "output_type": "execute_result"
    }
   ],
   "source": [
    "from sklearn.preprocessing import LabelEncoder\n",
    "le = LabelEncoder()\n",
    "dataset['Survived'] = le.fit_transform(dataset['Survived']) # Fit label encoder and return encoded labels.\n",
    "pd.DataFrame(dataset['Survived'])"
   ]
  },
  {
   "cell_type": "markdown",
   "id": "d5f66a1d",
   "metadata": {},
   "source": [
    "## Dropping Irrelevant Data Inputs"
   ]
  },
  {
   "cell_type": "code",
   "execution_count": 8,
   "id": "d1304d4a",
   "metadata": {},
   "outputs": [],
   "source": [
    "dataset = dataset.drop(['PassengerId'], axis=1)\n",
    "dataset = dataset.drop(['Name'], axis=1)"
   ]
  },
  {
   "cell_type": "markdown",
   "id": "feb14a9a",
   "metadata": {},
   "source": [
    "## Checking the Current Dataset"
   ]
  },
  {
   "cell_type": "code",
   "execution_count": 9,
   "id": "4cdf6c37",
   "metadata": {},
   "outputs": [
    {
     "data": {
      "text/plain": "     Pclass  Sex   Age  Number of Siblings/Spouses Aboard  \\\n0         3  0.0  22.0                                  1   \n1         1  1.0  38.0                                  1   \n2         3  1.0  26.0                                  0   \n3         1  1.0  35.0                                  1   \n4         3  0.0  35.0                                  0   \n..      ...  ...   ...                                ...   \n886       2  0.0  27.0                                  0   \n887       1  1.0  19.0                                  0   \n888       3  1.0   NaN                                  1   \n889       1  0.0  26.0                                  0   \n890       3  0.0  32.0                                  0   \n\n     Number of Parents/Children Aboard     Fare  Embarked  Survived  \n0                                    0   7.2500       0.0         0  \n1                                    0  71.2833       1.0         1  \n2                                    0   7.9250       0.0         1  \n3                                    0  53.1000       0.0         1  \n4                                    0   8.0500       0.0         0  \n..                                 ...      ...       ...       ...  \n886                                  0  13.0000       0.0         0  \n887                                  0  30.0000       0.0         1  \n888                                  2  23.4500       0.0         0  \n889                                  0  30.0000       1.0         1  \n890                                  0   7.7500       2.0         0  \n\n[891 rows x 8 columns]",
      "text/html": "<div>\n<style scoped>\n    .dataframe tbody tr th:only-of-type {\n        vertical-align: middle;\n    }\n\n    .dataframe tbody tr th {\n        vertical-align: top;\n    }\n\n    .dataframe thead th {\n        text-align: right;\n    }\n</style>\n<table border=\"1\" class=\"dataframe\">\n  <thead>\n    <tr style=\"text-align: right;\">\n      <th></th>\n      <th>Pclass</th>\n      <th>Sex</th>\n      <th>Age</th>\n      <th>Number of Siblings/Spouses Aboard</th>\n      <th>Number of Parents/Children Aboard</th>\n      <th>Fare</th>\n      <th>Embarked</th>\n      <th>Survived</th>\n    </tr>\n  </thead>\n  <tbody>\n    <tr>\n      <th>0</th>\n      <td>3</td>\n      <td>0.0</td>\n      <td>22.0</td>\n      <td>1</td>\n      <td>0</td>\n      <td>7.2500</td>\n      <td>0.0</td>\n      <td>0</td>\n    </tr>\n    <tr>\n      <th>1</th>\n      <td>1</td>\n      <td>1.0</td>\n      <td>38.0</td>\n      <td>1</td>\n      <td>0</td>\n      <td>71.2833</td>\n      <td>1.0</td>\n      <td>1</td>\n    </tr>\n    <tr>\n      <th>2</th>\n      <td>3</td>\n      <td>1.0</td>\n      <td>26.0</td>\n      <td>0</td>\n      <td>0</td>\n      <td>7.9250</td>\n      <td>0.0</td>\n      <td>1</td>\n    </tr>\n    <tr>\n      <th>3</th>\n      <td>1</td>\n      <td>1.0</td>\n      <td>35.0</td>\n      <td>1</td>\n      <td>0</td>\n      <td>53.1000</td>\n      <td>0.0</td>\n      <td>1</td>\n    </tr>\n    <tr>\n      <th>4</th>\n      <td>3</td>\n      <td>0.0</td>\n      <td>35.0</td>\n      <td>0</td>\n      <td>0</td>\n      <td>8.0500</td>\n      <td>0.0</td>\n      <td>0</td>\n    </tr>\n    <tr>\n      <th>...</th>\n      <td>...</td>\n      <td>...</td>\n      <td>...</td>\n      <td>...</td>\n      <td>...</td>\n      <td>...</td>\n      <td>...</td>\n      <td>...</td>\n    </tr>\n    <tr>\n      <th>886</th>\n      <td>2</td>\n      <td>0.0</td>\n      <td>27.0</td>\n      <td>0</td>\n      <td>0</td>\n      <td>13.0000</td>\n      <td>0.0</td>\n      <td>0</td>\n    </tr>\n    <tr>\n      <th>887</th>\n      <td>1</td>\n      <td>1.0</td>\n      <td>19.0</td>\n      <td>0</td>\n      <td>0</td>\n      <td>30.0000</td>\n      <td>0.0</td>\n      <td>1</td>\n    </tr>\n    <tr>\n      <th>888</th>\n      <td>3</td>\n      <td>1.0</td>\n      <td>NaN</td>\n      <td>1</td>\n      <td>2</td>\n      <td>23.4500</td>\n      <td>0.0</td>\n      <td>0</td>\n    </tr>\n    <tr>\n      <th>889</th>\n      <td>1</td>\n      <td>0.0</td>\n      <td>26.0</td>\n      <td>0</td>\n      <td>0</td>\n      <td>30.0000</td>\n      <td>1.0</td>\n      <td>1</td>\n    </tr>\n    <tr>\n      <th>890</th>\n      <td>3</td>\n      <td>0.0</td>\n      <td>32.0</td>\n      <td>0</td>\n      <td>0</td>\n      <td>7.7500</td>\n      <td>2.0</td>\n      <td>0</td>\n    </tr>\n  </tbody>\n</table>\n<p>891 rows × 8 columns</p>\n</div>"
     },
     "execution_count": 9,
     "metadata": {},
     "output_type": "execute_result"
    }
   ],
   "source": [
    "pd.DataFrame(dataset)"
   ]
  },
  {
   "cell_type": "markdown",
   "id": "61fc70e0",
   "metadata": {},
   "source": [
    "## Seperate The Input and Output"
   ]
  },
  {
   "cell_type": "code",
   "execution_count": 10,
   "id": "b395ebfa",
   "metadata": {},
   "outputs": [
    {
     "name": "stdout",
     "output_type": "stream",
     "text": [
      "<class 'pandas.core.frame.DataFrame'>\n",
      "RangeIndex: 891 entries, 0 to 890\n",
      "Data columns (total 8 columns):\n",
      " #   Column                             Non-Null Count  Dtype  \n",
      "---  ------                             --------------  -----  \n",
      " 0   Pclass                             891 non-null    int64  \n",
      " 1   Sex                                891 non-null    float64\n",
      " 2   Age                                714 non-null    float64\n",
      " 3   Number of Siblings/Spouses Aboard  891 non-null    int64  \n",
      " 4   Number of Parents/Children Aboard  891 non-null    int64  \n",
      " 5   Fare                               891 non-null    float64\n",
      " 6   Embarked                           889 non-null    float64\n",
      " 7   Survived                           891 non-null    int64  \n",
      "dtypes: float64(4), int64(4)\n",
      "memory usage: 55.8 KB\n"
     ]
    }
   ],
   "source": [
    "dataset.info()\n",
    "X = dataset.iloc[:, 0:9].values\n",
    "Y = dataset.iloc[:, -1].values"
   ]
  },
  {
   "cell_type": "markdown",
   "id": "d7df3c53",
   "metadata": {},
   "source": [
    "## Showing the Input Data in a Table format"
   ]
  },
  {
   "cell_type": "code",
   "execution_count": 11,
   "id": "ab5ca304",
   "metadata": {},
   "outputs": [
    {
     "data": {
      "text/plain": "       0    1     2    3    4        5    6    7\n0    3.0  0.0  22.0  1.0  0.0   7.2500  0.0  0.0\n1    1.0  1.0  38.0  1.0  0.0  71.2833  1.0  1.0\n2    3.0  1.0  26.0  0.0  0.0   7.9250  0.0  1.0\n3    1.0  1.0  35.0  1.0  0.0  53.1000  0.0  1.0\n4    3.0  0.0  35.0  0.0  0.0   8.0500  0.0  0.0\n..   ...  ...   ...  ...  ...      ...  ...  ...\n886  2.0  0.0  27.0  0.0  0.0  13.0000  0.0  0.0\n887  1.0  1.0  19.0  0.0  0.0  30.0000  0.0  1.0\n888  3.0  1.0   NaN  1.0  2.0  23.4500  0.0  0.0\n889  1.0  0.0  26.0  0.0  0.0  30.0000  1.0  1.0\n890  3.0  0.0  32.0  0.0  0.0   7.7500  2.0  0.0\n\n[891 rows x 8 columns]",
      "text/html": "<div>\n<style scoped>\n    .dataframe tbody tr th:only-of-type {\n        vertical-align: middle;\n    }\n\n    .dataframe tbody tr th {\n        vertical-align: top;\n    }\n\n    .dataframe thead th {\n        text-align: right;\n    }\n</style>\n<table border=\"1\" class=\"dataframe\">\n  <thead>\n    <tr style=\"text-align: right;\">\n      <th></th>\n      <th>0</th>\n      <th>1</th>\n      <th>2</th>\n      <th>3</th>\n      <th>4</th>\n      <th>5</th>\n      <th>6</th>\n      <th>7</th>\n    </tr>\n  </thead>\n  <tbody>\n    <tr>\n      <th>0</th>\n      <td>3.0</td>\n      <td>0.0</td>\n      <td>22.0</td>\n      <td>1.0</td>\n      <td>0.0</td>\n      <td>7.2500</td>\n      <td>0.0</td>\n      <td>0.0</td>\n    </tr>\n    <tr>\n      <th>1</th>\n      <td>1.0</td>\n      <td>1.0</td>\n      <td>38.0</td>\n      <td>1.0</td>\n      <td>0.0</td>\n      <td>71.2833</td>\n      <td>1.0</td>\n      <td>1.0</td>\n    </tr>\n    <tr>\n      <th>2</th>\n      <td>3.0</td>\n      <td>1.0</td>\n      <td>26.0</td>\n      <td>0.0</td>\n      <td>0.0</td>\n      <td>7.9250</td>\n      <td>0.0</td>\n      <td>1.0</td>\n    </tr>\n    <tr>\n      <th>3</th>\n      <td>1.0</td>\n      <td>1.0</td>\n      <td>35.0</td>\n      <td>1.0</td>\n      <td>0.0</td>\n      <td>53.1000</td>\n      <td>0.0</td>\n      <td>1.0</td>\n    </tr>\n    <tr>\n      <th>4</th>\n      <td>3.0</td>\n      <td>0.0</td>\n      <td>35.0</td>\n      <td>0.0</td>\n      <td>0.0</td>\n      <td>8.0500</td>\n      <td>0.0</td>\n      <td>0.0</td>\n    </tr>\n    <tr>\n      <th>...</th>\n      <td>...</td>\n      <td>...</td>\n      <td>...</td>\n      <td>...</td>\n      <td>...</td>\n      <td>...</td>\n      <td>...</td>\n      <td>...</td>\n    </tr>\n    <tr>\n      <th>886</th>\n      <td>2.0</td>\n      <td>0.0</td>\n      <td>27.0</td>\n      <td>0.0</td>\n      <td>0.0</td>\n      <td>13.0000</td>\n      <td>0.0</td>\n      <td>0.0</td>\n    </tr>\n    <tr>\n      <th>887</th>\n      <td>1.0</td>\n      <td>1.0</td>\n      <td>19.0</td>\n      <td>0.0</td>\n      <td>0.0</td>\n      <td>30.0000</td>\n      <td>0.0</td>\n      <td>1.0</td>\n    </tr>\n    <tr>\n      <th>888</th>\n      <td>3.0</td>\n      <td>1.0</td>\n      <td>NaN</td>\n      <td>1.0</td>\n      <td>2.0</td>\n      <td>23.4500</td>\n      <td>0.0</td>\n      <td>0.0</td>\n    </tr>\n    <tr>\n      <th>889</th>\n      <td>1.0</td>\n      <td>0.0</td>\n      <td>26.0</td>\n      <td>0.0</td>\n      <td>0.0</td>\n      <td>30.0000</td>\n      <td>1.0</td>\n      <td>1.0</td>\n    </tr>\n    <tr>\n      <th>890</th>\n      <td>3.0</td>\n      <td>0.0</td>\n      <td>32.0</td>\n      <td>0.0</td>\n      <td>0.0</td>\n      <td>7.7500</td>\n      <td>2.0</td>\n      <td>0.0</td>\n    </tr>\n  </tbody>\n</table>\n<p>891 rows × 8 columns</p>\n</div>"
     },
     "execution_count": 11,
     "metadata": {},
     "output_type": "execute_result"
    }
   ],
   "source": [
    "pd.DataFrame(X)"
   ]
  },
  {
   "cell_type": "markdown",
   "id": "b30045c0",
   "metadata": {},
   "source": [
    "## A Quick Check of the Output Data"
   ]
  },
  {
   "cell_type": "code",
   "execution_count": 12,
   "id": "7e47e931",
   "metadata": {},
   "outputs": [
    {
     "data": {
      "text/plain": "     0\n0    0\n1    1\n2    1\n3    1\n4    0\n..  ..\n886  0\n887  1\n888  0\n889  1\n890  0\n\n[891 rows x 1 columns]",
      "text/html": "<div>\n<style scoped>\n    .dataframe tbody tr th:only-of-type {\n        vertical-align: middle;\n    }\n\n    .dataframe tbody tr th {\n        vertical-align: top;\n    }\n\n    .dataframe thead th {\n        text-align: right;\n    }\n</style>\n<table border=\"1\" class=\"dataframe\">\n  <thead>\n    <tr style=\"text-align: right;\">\n      <th></th>\n      <th>0</th>\n    </tr>\n  </thead>\n  <tbody>\n    <tr>\n      <th>0</th>\n      <td>0</td>\n    </tr>\n    <tr>\n      <th>1</th>\n      <td>1</td>\n    </tr>\n    <tr>\n      <th>2</th>\n      <td>1</td>\n    </tr>\n    <tr>\n      <th>3</th>\n      <td>1</td>\n    </tr>\n    <tr>\n      <th>4</th>\n      <td>0</td>\n    </tr>\n    <tr>\n      <th>...</th>\n      <td>...</td>\n    </tr>\n    <tr>\n      <th>886</th>\n      <td>0</td>\n    </tr>\n    <tr>\n      <th>887</th>\n      <td>1</td>\n    </tr>\n    <tr>\n      <th>888</th>\n      <td>0</td>\n    </tr>\n    <tr>\n      <th>889</th>\n      <td>1</td>\n    </tr>\n    <tr>\n      <th>890</th>\n      <td>0</td>\n    </tr>\n  </tbody>\n</table>\n<p>891 rows × 1 columns</p>\n</div>"
     },
     "execution_count": 12,
     "metadata": {},
     "output_type": "execute_result"
    }
   ],
   "source": [
    "pd.DataFrame(Y)"
   ]
  },
  {
   "cell_type": "markdown",
   "id": "6b0290f9",
   "metadata": {},
   "source": [
    "## Taking Care of Missing Data Inputs"
   ]
  },
  {
   "cell_type": "code",
   "execution_count": 13,
   "id": "4573067a",
   "metadata": {},
   "outputs": [],
   "source": [
    "from sklearn.impute import SimpleImputer\n",
    "imputer = SimpleImputer(missing_values=np.nan, strategy='mean')"
   ]
  },
  {
   "cell_type": "markdown",
   "id": "27984c3c-0e20-4674-b750-b9ae8a1c0589",
   "metadata": {},
   "source": [
    "The imputation strategy.\n",
    "- If “mean”, then replace missing values using the mean along each column. Can only be used with numeric data.\n",
    "- If “median”, then replace missing values using the median along each column. Can only be used with numeric data.\n",
    "- If “most_frequent”, then replace missing using the most frequent value along each column. Can be used with strings or numeric data. If there is more than one such value, only the smallest is returned."
   ]
  },
  {
   "cell_type": "code",
   "execution_count": 14,
   "id": "3ea84bfe-1ba8-4bea-81e0-4f04fb68c3ac",
   "metadata": {},
   "outputs": [],
   "source": [
    "imputer.fit(X) # Fit the imputer on X.\n",
    "X = imputer.transform(X) # Impute all missing values in X."
   ]
  },
  {
   "cell_type": "markdown",
   "id": "30240e0c",
   "metadata": {},
   "source": [
    "## Feature Scaling"
   ]
  },
  {
   "cell_type": "code",
   "execution_count": 15,
   "id": "089e5ab0",
   "metadata": {
    "tags": []
   },
   "outputs": [
    {
     "data": {
      "text/plain": "       0    1          2    3    4        5    6    7\n0    3.0  0.0  22.000000  1.0  0.0   7.2500  0.0  0.0\n1    1.0  1.0  38.000000  1.0  0.0  71.2833  1.0  1.0\n2    3.0  1.0  26.000000  0.0  0.0   7.9250  0.0  1.0\n3    1.0  1.0  35.000000  1.0  0.0  53.1000  0.0  1.0\n4    3.0  0.0  35.000000  0.0  0.0   8.0500  0.0  0.0\n..   ...  ...        ...  ...  ...      ...  ...  ...\n886  2.0  0.0  27.000000  0.0  0.0  13.0000  0.0  0.0\n887  1.0  1.0  19.000000  0.0  0.0  30.0000  0.0  1.0\n888  3.0  1.0  29.699118  1.0  2.0  23.4500  0.0  0.0\n889  1.0  0.0  26.000000  0.0  0.0  30.0000  1.0  1.0\n890  3.0  0.0  32.000000  0.0  0.0   7.7500  2.0  0.0\n\n[891 rows x 8 columns]",
      "text/html": "<div>\n<style scoped>\n    .dataframe tbody tr th:only-of-type {\n        vertical-align: middle;\n    }\n\n    .dataframe tbody tr th {\n        vertical-align: top;\n    }\n\n    .dataframe thead th {\n        text-align: right;\n    }\n</style>\n<table border=\"1\" class=\"dataframe\">\n  <thead>\n    <tr style=\"text-align: right;\">\n      <th></th>\n      <th>0</th>\n      <th>1</th>\n      <th>2</th>\n      <th>3</th>\n      <th>4</th>\n      <th>5</th>\n      <th>6</th>\n      <th>7</th>\n    </tr>\n  </thead>\n  <tbody>\n    <tr>\n      <th>0</th>\n      <td>3.0</td>\n      <td>0.0</td>\n      <td>22.000000</td>\n      <td>1.0</td>\n      <td>0.0</td>\n      <td>7.2500</td>\n      <td>0.0</td>\n      <td>0.0</td>\n    </tr>\n    <tr>\n      <th>1</th>\n      <td>1.0</td>\n      <td>1.0</td>\n      <td>38.000000</td>\n      <td>1.0</td>\n      <td>0.0</td>\n      <td>71.2833</td>\n      <td>1.0</td>\n      <td>1.0</td>\n    </tr>\n    <tr>\n      <th>2</th>\n      <td>3.0</td>\n      <td>1.0</td>\n      <td>26.000000</td>\n      <td>0.0</td>\n      <td>0.0</td>\n      <td>7.9250</td>\n      <td>0.0</td>\n      <td>1.0</td>\n    </tr>\n    <tr>\n      <th>3</th>\n      <td>1.0</td>\n      <td>1.0</td>\n      <td>35.000000</td>\n      <td>1.0</td>\n      <td>0.0</td>\n      <td>53.1000</td>\n      <td>0.0</td>\n      <td>1.0</td>\n    </tr>\n    <tr>\n      <th>4</th>\n      <td>3.0</td>\n      <td>0.0</td>\n      <td>35.000000</td>\n      <td>0.0</td>\n      <td>0.0</td>\n      <td>8.0500</td>\n      <td>0.0</td>\n      <td>0.0</td>\n    </tr>\n    <tr>\n      <th>...</th>\n      <td>...</td>\n      <td>...</td>\n      <td>...</td>\n      <td>...</td>\n      <td>...</td>\n      <td>...</td>\n      <td>...</td>\n      <td>...</td>\n    </tr>\n    <tr>\n      <th>886</th>\n      <td>2.0</td>\n      <td>0.0</td>\n      <td>27.000000</td>\n      <td>0.0</td>\n      <td>0.0</td>\n      <td>13.0000</td>\n      <td>0.0</td>\n      <td>0.0</td>\n    </tr>\n    <tr>\n      <th>887</th>\n      <td>1.0</td>\n      <td>1.0</td>\n      <td>19.000000</td>\n      <td>0.0</td>\n      <td>0.0</td>\n      <td>30.0000</td>\n      <td>0.0</td>\n      <td>1.0</td>\n    </tr>\n    <tr>\n      <th>888</th>\n      <td>3.0</td>\n      <td>1.0</td>\n      <td>29.699118</td>\n      <td>1.0</td>\n      <td>2.0</td>\n      <td>23.4500</td>\n      <td>0.0</td>\n      <td>0.0</td>\n    </tr>\n    <tr>\n      <th>889</th>\n      <td>1.0</td>\n      <td>0.0</td>\n      <td>26.000000</td>\n      <td>0.0</td>\n      <td>0.0</td>\n      <td>30.0000</td>\n      <td>1.0</td>\n      <td>1.0</td>\n    </tr>\n    <tr>\n      <th>890</th>\n      <td>3.0</td>\n      <td>0.0</td>\n      <td>32.000000</td>\n      <td>0.0</td>\n      <td>0.0</td>\n      <td>7.7500</td>\n      <td>2.0</td>\n      <td>0.0</td>\n    </tr>\n  </tbody>\n</table>\n<p>891 rows × 8 columns</p>\n</div>"
     },
     "execution_count": 15,
     "metadata": {},
     "output_type": "execute_result"
    }
   ],
   "source": [
    "pd.DataFrame(X)"
   ]
  },
  {
   "cell_type": "code",
   "execution_count": 16,
   "id": "0374cc01-5970-4679-ac1d-6721f3d54079",
   "metadata": {
    "tags": []
   },
   "outputs": [
    {
     "data": {
      "text/plain": "       0    1         2    3    4         5    6    7\n0    3.0  0.0 -0.592481  1.0  0.0 -0.502445  0.0  0.0\n1    1.0  1.0  0.638789  1.0  0.0  0.786845  1.0  1.0\n2    3.0  1.0 -0.284663  0.0  0.0 -0.488854  0.0  1.0\n3    1.0  1.0  0.407926  1.0  0.0  0.420730  0.0  1.0\n4    3.0  0.0  0.407926  0.0  0.0 -0.486337  0.0  0.0\n..   ...  ...       ...  ...  ...       ...  ...  ...\n886  2.0  0.0 -0.207709  0.0  0.0 -0.386671  0.0  0.0\n887  1.0  1.0 -0.823344  0.0  0.0 -0.044381  0.0  1.0\n888  3.0  1.0  0.000000  1.0  2.0 -0.176263  0.0  0.0\n889  1.0  0.0 -0.284663  0.0  0.0 -0.044381  1.0  1.0\n890  3.0  0.0  0.177063  0.0  0.0 -0.492378  2.0  0.0\n\n[891 rows x 8 columns]",
      "text/html": "<div>\n<style scoped>\n    .dataframe tbody tr th:only-of-type {\n        vertical-align: middle;\n    }\n\n    .dataframe tbody tr th {\n        vertical-align: top;\n    }\n\n    .dataframe thead th {\n        text-align: right;\n    }\n</style>\n<table border=\"1\" class=\"dataframe\">\n  <thead>\n    <tr style=\"text-align: right;\">\n      <th></th>\n      <th>0</th>\n      <th>1</th>\n      <th>2</th>\n      <th>3</th>\n      <th>4</th>\n      <th>5</th>\n      <th>6</th>\n      <th>7</th>\n    </tr>\n  </thead>\n  <tbody>\n    <tr>\n      <th>0</th>\n      <td>3.0</td>\n      <td>0.0</td>\n      <td>-0.592481</td>\n      <td>1.0</td>\n      <td>0.0</td>\n      <td>-0.502445</td>\n      <td>0.0</td>\n      <td>0.0</td>\n    </tr>\n    <tr>\n      <th>1</th>\n      <td>1.0</td>\n      <td>1.0</td>\n      <td>0.638789</td>\n      <td>1.0</td>\n      <td>0.0</td>\n      <td>0.786845</td>\n      <td>1.0</td>\n      <td>1.0</td>\n    </tr>\n    <tr>\n      <th>2</th>\n      <td>3.0</td>\n      <td>1.0</td>\n      <td>-0.284663</td>\n      <td>0.0</td>\n      <td>0.0</td>\n      <td>-0.488854</td>\n      <td>0.0</td>\n      <td>1.0</td>\n    </tr>\n    <tr>\n      <th>3</th>\n      <td>1.0</td>\n      <td>1.0</td>\n      <td>0.407926</td>\n      <td>1.0</td>\n      <td>0.0</td>\n      <td>0.420730</td>\n      <td>0.0</td>\n      <td>1.0</td>\n    </tr>\n    <tr>\n      <th>4</th>\n      <td>3.0</td>\n      <td>0.0</td>\n      <td>0.407926</td>\n      <td>0.0</td>\n      <td>0.0</td>\n      <td>-0.486337</td>\n      <td>0.0</td>\n      <td>0.0</td>\n    </tr>\n    <tr>\n      <th>...</th>\n      <td>...</td>\n      <td>...</td>\n      <td>...</td>\n      <td>...</td>\n      <td>...</td>\n      <td>...</td>\n      <td>...</td>\n      <td>...</td>\n    </tr>\n    <tr>\n      <th>886</th>\n      <td>2.0</td>\n      <td>0.0</td>\n      <td>-0.207709</td>\n      <td>0.0</td>\n      <td>0.0</td>\n      <td>-0.386671</td>\n      <td>0.0</td>\n      <td>0.0</td>\n    </tr>\n    <tr>\n      <th>887</th>\n      <td>1.0</td>\n      <td>1.0</td>\n      <td>-0.823344</td>\n      <td>0.0</td>\n      <td>0.0</td>\n      <td>-0.044381</td>\n      <td>0.0</td>\n      <td>1.0</td>\n    </tr>\n    <tr>\n      <th>888</th>\n      <td>3.0</td>\n      <td>1.0</td>\n      <td>0.000000</td>\n      <td>1.0</td>\n      <td>2.0</td>\n      <td>-0.176263</td>\n      <td>0.0</td>\n      <td>0.0</td>\n    </tr>\n    <tr>\n      <th>889</th>\n      <td>1.0</td>\n      <td>0.0</td>\n      <td>-0.284663</td>\n      <td>0.0</td>\n      <td>0.0</td>\n      <td>-0.044381</td>\n      <td>1.0</td>\n      <td>1.0</td>\n    </tr>\n    <tr>\n      <th>890</th>\n      <td>3.0</td>\n      <td>0.0</td>\n      <td>0.177063</td>\n      <td>0.0</td>\n      <td>0.0</td>\n      <td>-0.492378</td>\n      <td>2.0</td>\n      <td>0.0</td>\n    </tr>\n  </tbody>\n</table>\n<p>891 rows × 8 columns</p>\n</div>"
     },
     "execution_count": 16,
     "metadata": {},
     "output_type": "execute_result"
    }
   ],
   "source": [
    "# Scale the age and fare\n",
    "from sklearn.preprocessing import StandardScaler\n",
    "sc = StandardScaler()\n",
    "X[:, [2,5]] = sc.fit_transform(X[:, [2,5]])\n",
    "pd.DataFrame(X)"
   ]
  },
  {
   "cell_type": "markdown",
   "id": "d8c7564c",
   "metadata": {},
   "source": [
    "## Splitting the Dataset into the Training set and Test set"
   ]
  },
  {
   "cell_type": "code",
   "execution_count": 17,
   "id": "e5865cd1",
   "metadata": {},
   "outputs": [],
   "source": [
    "from sklearn.model_selection import train_test_split\n",
    "X_train, X_test, Y_train, Y_test = train_test_split(X, Y, test_size = 0.2, random_state = 1)"
   ]
  },
  {
   "cell_type": "markdown",
   "id": "9d08e79a-3a34-42de-aa31-1fa0d7788843",
   "metadata": {},
   "source": [
    "random_state: int, RandomState instance or None, default=None\n",
    "Controls the shuffling applied to the data before applying the split. Pass an int for reproducible output across multiple function calls."
   ]
  },
  {
   "cell_type": "code",
   "execution_count": 18,
   "id": "de80220d",
   "metadata": {},
   "outputs": [
    {
     "name": "stdout",
     "output_type": "stream",
     "text": [
      "[[ 3.          0.          0.         ... -0.18029018  2.\n",
      "   1.        ]\n",
      " [ 1.          1.          0.02315421 ...  0.49782998  1.\n",
      "   1.        ]\n",
      " [ 2.          1.          0.33097161 ... -0.43700744  0.\n",
      "   1.        ]\n",
      " ...\n",
      " [ 2.          0.         -0.66943495 ...  0.83147785  0.\n",
      "   0.        ]\n",
      " [ 3.          1.          0.         ... -0.49640477  0.\n",
      "   0.        ]\n",
      " [ 3.          0.         -0.66943495 ... -0.48633742  0.\n",
      "   0.        ]]\n"
     ]
    }
   ],
   "source": [
    "print(X_train)"
   ]
  },
  {
   "cell_type": "code",
   "execution_count": 19,
   "id": "239810b2",
   "metadata": {},
   "outputs": [
    {
     "name": "stdout",
     "output_type": "stream",
     "text": [
      "[1 1 1 0 1 1 0 0 1 0 1 0 0 1 1 0 1 0 1 0 0 0 1 0 0 1 1 1 0 1 0 1 0 0 0 1 0\n",
      " 0 1 1 0 1 0 1 0 0 1 1 0 0 1 1 1 1 0 0 0 0 0 1 0 0 0 0 1 0 1 1 1 0 1 0 1 0\n",
      " 1 1 0 0 1 0 0 1 0 1 1 0 0 1 0 0 1 0 0 0 0 0 0 1 0 1 0 0 0 1 0 1 1 0 0 0 0\n",
      " 0 0 0 0 0 1 0 1 0 0 1 0 1 0 0 0 1 0 1 1 0 0 1 0 1 0 1 0 1 0 0 0 0 0 1 1 1\n",
      " 1 1 1 1 0 0 0 0 0 0 1 0 1 1 0 1 0 1 1 1 0 1 0 1 0 0 0 1 1 0 1 0 0 0 0 0 1\n",
      " 0 1 0 0 0 0 1 1 1 1 1 0 0 0 0 0 1 0 0 0 0 0 1 0 0 1 1 0 1 0 0 1 1 1 1 0 0\n",
      " 0 0 1 0 0 0 0 1 0 0 1 0 0 1 0 1 0 1 1 1 0 0 0 0 1 1 0 0 1 0 0 1 0 1 0 1 0\n",
      " 0 1 0 0 0 1 0 0 1 0 0 1 1 0 0 0 1 0 0 1 1 1 0 1 0 1 0 0 0 0 1 1 0 1 0 1 0\n",
      " 0 0 0 0 1 0 0 0 1 1 1 0 1 0 0 0 1 1 1 1 0 1 0 1 0 1 0 1 0 1 0 0 0 0 0 0 0\n",
      " 1 1 1 0 1 1 0 0 1 1 0 0 1 0 0 0 1 0 0 0 0 0 0 1 0 1 0 0 1 0 0 0 0 0 0 1 0\n",
      " 0 0 0 0 0 0 0 0 0 1 0 1 1 0 0 1 0 0 0 0 0 1 1 1 1 0 1 0 0 0 1 1 1 0 0 1 1\n",
      " 0 1 0 1 0 0 1 0 0 0 1 0 0 0 1 1 0 1 0 1 0 1 0 1 0 0 1 0 0 1 0 0 1 0 0 1 0\n",
      " 1 0 0 0 0 0 0 0 0 1 0 0 1 1 0 0 0 0 0 1 1 0 1 1 0 1 0 0 0 1 1 0 0 1 0 0 1\n",
      " 0 1 1 1 0 1 1 1 0 1 0 1 1 0 1 0 0 0 0 0 0 1 0 0 0 0 1 0 1 0 0 0 0 0 0 1 0\n",
      " 1 0 0 0 1 0 1 0 0 0 0 0 0 0 0 0 1 1 0 0 0 0 0 0 1 1 0 0 1 0 0 0 1 0 0 0 0\n",
      " 0 0 1 1 1 0 1 0 0 1 0 0 0 1 0 1 1 0 1 0 1 1 0 0 0 1 1 1 0 0 1 0 1 0 0 0 0\n",
      " 0 0 1 0 0 0 0 0 0 0 1 0 1 0 0 0 1 0 0 1 1 0 1 0 1 0 0 0 1 0 0 0 0 1 0 1 0\n",
      " 1 0 1 1 1 0 1 1 1 0 0 0 0 0 1 1 0 0 1 0 0 1 0 1 0 0 1 0 0 0 0 0 0 1 0 0 0\n",
      " 0 1 1 1 0 0 1 1 1 0 0 1 1 0 1 1 0 0 0 0 1 1 0 0 0 0 0 0 0 0 0 0 0 1 0 0 0\n",
      " 0 0 0 1 0 0 0 0 0]\n"
     ]
    }
   ],
   "source": [
    "print(Y_train)"
   ]
  },
  {
   "cell_type": "code",
   "execution_count": 20,
   "id": "5124d80f",
   "metadata": {},
   "outputs": [
    {
     "name": "stdout",
     "output_type": "stream",
     "text": [
      "[[ 1.          1.          1.40833252 ... -0.12634532  0.\n",
      "   1.        ]\n",
      " [ 3.          0.          0.         ... -0.48944219  0.\n",
      "   0.        ]\n",
      " [ 2.          1.         -0.97725235 ... -0.43700744  0.\n",
      "   1.        ]\n",
      " ...\n",
      " [ 3.          0.          0.         ... -0.49271408  2.\n",
      "   0.        ]\n",
      " [ 3.          0.         -0.66943495 ... -0.49271408  2.\n",
      "   0.        ]\n",
      " [ 3.          1.         -1.90070456 ... -0.26066181  1.\n",
      "   1.        ]]\n"
     ]
    }
   ],
   "source": [
    "print(X_test)"
   ]
  },
  {
   "cell_type": "code",
   "execution_count": 21,
   "id": "3d09ff00",
   "metadata": {},
   "outputs": [
    {
     "name": "stdout",
     "output_type": "stream",
     "text": [
      "[1 0 1 0 1 0 0 1 0 1 0 1 0 1 1 1 0 0 0 1 0 0 1 0 0 1 1 1 0 1 0 1 0 0 0 1 1\n",
      " 0 1 0 1 1 1 0 1 0 0 0 1 0 0 1 0 0 1 1 0 0 0 0 0 0 0 1 1 1 1 1 0 0 0 0 0 0\n",
      " 0 0 1 0 0 1 1 0 0 0 1 0 0 0 0 1 0 0 0 1 0 0 0 1 0 0 0 0 1 0 1 0 0 0 0 0 1\n",
      " 0 0 1 0 0 0 0 1 1 1 0 0 0 1 1 1 1 0 1 0 1 1 1 1 1 1 0 0 1 0 0 1 0 1 0 0 0\n",
      " 0 0 1 0 0 1 1 0 0 0 1 0 0 0 1 1 0 1 1 1 0 0 1 0 1 0 1 0 0 0 1]\n"
     ]
    }
   ],
   "source": [
    "print(Y_test)"
   ]
  },
  {
   "cell_type": "markdown",
   "id": "c96a12ca",
   "metadata": {},
   "source": [
    "## Train and Test Predictive Models"
   ]
  },
  {
   "cell_type": "code",
   "execution_count": 22,
   "id": "4af3d9ac",
   "metadata": {},
   "outputs": [
    {
     "name": "stdout",
     "output_type": "stream",
     "text": [
      "Error rate =  0.0 %\n"
     ]
    }
   ],
   "source": [
    "# Support vector machine\n",
    "from sklearn.svm import SVC\n",
    "sv_classfier = SVC(kernel = 'rbf')\n",
    "sv_classfier.fit(X_train, Y_train)\n",
    "Y_pred = sv_classfier.predict(X_test)\n",
    "print('Error rate = ', np.abs(np.sum(Y_pred)-np.sum(Y_test))*100/np.sum(Y_test), '%')"
   ]
  },
  {
   "cell_type": "code",
   "execution_count": 23,
   "id": "3af194a2",
   "metadata": {},
   "outputs": [
    {
     "name": "stdout",
     "output_type": "stream",
     "text": [
      "[1 0 1 0 1 0 0 1 0 1 0 1 0 1 1 1 0 0 0 1 0 0 1 0 0 1 1 1 0 1 0 1 0 0 0 1 1\n",
      " 0 1 0 1 1 1 0 1 0 0 0 1 0 0 1 0 0 1 1 0 0 0 0 0 0 0 1 1 1 1 1 0 0 0 0 0 0\n",
      " 0 0 1 0 0 1 1 0 0 0 1 0 0 0 0 1 0 0 0 1 0 0 0 1 0 0 0 0 1 0 1 0 0 0 0 0 1\n",
      " 0 0 1 0 0 0 0 1 1 1 0 0 0 1 1 1 1 0 1 0 1 1 1 1 1 1 0 0 1 0 0 1 0 1 0 0 0\n",
      " 0 0 1 0 0 1 1 0 0 0 1 0 0 0 1 1 0 1 1 1 0 0 1 0 1 0 1 0 0 0 1]\n",
      "Error rate =  0.0 %\n"
     ]
    }
   ],
   "source": [
    "from sklearn.linear_model import LogisticRegression\n",
    "# Linear regression\n",
    "lr = LogisticRegression()\n",
    "lr.fit(X_train, Y_train)\n",
    "Y_pred = lr.predict(X_test)\n",
    "print(Y_pred)\n",
    "print('Error rate = ', np.abs(np.sum(Y_pred)-np.sum(Y_test))*100/np.sum(Y_test), '%')"
   ]
  }
 ],
 "metadata": {
  "kernelspec": {
   "display_name": "Python 3 (ipykernel)",
   "language": "python",
   "name": "python3"
  },
  "language_info": {
   "codemirror_mode": {
    "name": "ipython",
    "version": 3
   },
   "file_extension": ".py",
   "mimetype": "text/x-python",
   "name": "python",
   "nbconvert_exporter": "python",
   "pygments_lexer": "ipython3",
   "version": "3.9.0"
  },
  "toc": {
   "base_numbering": 1,
   "nav_menu": {},
   "number_sections": true,
   "sideBar": true,
   "skip_h1_title": false,
   "title_cell": "Table of Contents",
   "title_sidebar": "Contents",
   "toc_cell": false,
   "toc_position": {},
   "toc_section_display": true,
   "toc_window_display": true
  },
  "varInspector": {
   "cols": {
    "lenName": 16,
    "lenType": 16,
    "lenVar": 40
   },
   "kernels_config": {
    "python": {
     "delete_cmd_postfix": "",
     "delete_cmd_prefix": "del ",
     "library": "var_list.py",
     "varRefreshCmd": "print(var_dic_list())"
    },
    "r": {
     "delete_cmd_postfix": ") ",
     "delete_cmd_prefix": "rm(",
     "library": "var_list.r",
     "varRefreshCmd": "cat(var_dic_list()) "
    }
   },
   "types_to_exclude": [
    "module",
    "function",
    "builtin_function_or_method",
    "instance",
    "_Feature"
   ],
   "window_display": false
  }
 },
 "nbformat": 4,
 "nbformat_minor": 5
}