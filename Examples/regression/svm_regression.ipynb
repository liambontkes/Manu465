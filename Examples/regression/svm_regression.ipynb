{
 "cells": [
  {
   "cell_type": "markdown",
   "metadata": {
    "colab_type": "text",
    "id": "m3PAEPRDRLA3"
   },
   "source": [
    "# Wind Energy Data Model"
   ]
  },
  {
   "cell_type": "markdown",
   "metadata": {},
   "source": [
    "## Project Description\n",
    "A research engineer is investigating the use of a windmill to generate electricity in different provinces in Canada.\n",
    "She has collected data on the DC output from these windmills and the corresponding wind velocity. The data are listed\n",
    "in \"Windmill.csv\".\n",
    "\n",
    "Build a model to predict the DC output for a given wind speed in mph (mile per hour)."
   ]
  },
  {
   "cell_type": "markdown",
   "metadata": {
    "colab_type": "text",
    "id": "0VCUAVIjRdzZ"
   },
   "source": [
    "## Importing the Libraries"
   ]
  },
  {
   "cell_type": "code",
   "execution_count": 1,
   "metadata": {
    "colab": {},
    "colab_type": "code",
    "id": "56oRF-QfSDzC"
   },
   "outputs": [],
   "source": [
    "import numpy as np\n",
    "import matplotlib.pyplot as plt\n",
    "import pandas as pd"
   ]
  },
  {
   "cell_type": "markdown",
   "metadata": {
    "colab_type": "text",
    "id": "fXVXoFWtSF4_"
   },
   "source": [
    "## Importing the Data and Checking"
   ]
  },
  {
   "cell_type": "code",
   "execution_count": 2,
   "metadata": {
    "colab": {},
    "colab_type": "code",
    "id": "xfoa8OSORfHQ"
   },
   "outputs": [],
   "source": [
    "dataset = pd.read_csv('data/Windmill.csv')\n",
    "X = dataset.iloc[:, 1:2].values\n",
    "y = dataset.iloc[:, -1].values"
   ]
  },
  {
   "cell_type": "code",
   "execution_count": 3,
   "metadata": {},
   "outputs": [
    {
     "data": {
      "text/plain": "        Location  Wind Velocity(mph)  DC Output\n0       Manitoba                2.45      0.423\n1       Manitoba                2.70      0.500\n2       Manitoba                2.90      0.653\n3       Manitoba                3.05      0.558\n4       Manitoba                3.40      1.057\n5   Newfoundland                3.60      1.137\n6   Newfoundland                3.95      1.144\n7   Newfoundland                4.10      1.194\n8   Newfoundland                4.60      1.562\n9        Alberta                5.00      1.582\n10  Newfoundland                5.45      1.501\n11       Ontario                5.80      1.737\n12       Alberta                6.00      1.822\n13  Newfoundland                6.20      1.866\n14  Newfoundland                6.35      1.930\n15  Newfoundland                7.00      1.800\n16  Newfoundland                7.40      2.088\n17  Sascatchewan                7.85      2.179\n18       Ontario                8.15      2.166\n19       Ontario                8.80      2.112\n20  Newfoundland                9.10      2.303\n21  Sascatchewan                9.55      2.294\n22  Sascatchewan                9.70      2.386\n23  Sascatchewan               10.00      2.236\n24  Sascatchewan               10.20      2.310",
      "text/html": "<div>\n<style scoped>\n    .dataframe tbody tr th:only-of-type {\n        vertical-align: middle;\n    }\n\n    .dataframe tbody tr th {\n        vertical-align: top;\n    }\n\n    .dataframe thead th {\n        text-align: right;\n    }\n</style>\n<table border=\"1\" class=\"dataframe\">\n  <thead>\n    <tr style=\"text-align: right;\">\n      <th></th>\n      <th>Location</th>\n      <th>Wind Velocity(mph)</th>\n      <th>DC Output</th>\n    </tr>\n  </thead>\n  <tbody>\n    <tr>\n      <th>0</th>\n      <td>Manitoba</td>\n      <td>2.45</td>\n      <td>0.423</td>\n    </tr>\n    <tr>\n      <th>1</th>\n      <td>Manitoba</td>\n      <td>2.70</td>\n      <td>0.500</td>\n    </tr>\n    <tr>\n      <th>2</th>\n      <td>Manitoba</td>\n      <td>2.90</td>\n      <td>0.653</td>\n    </tr>\n    <tr>\n      <th>3</th>\n      <td>Manitoba</td>\n      <td>3.05</td>\n      <td>0.558</td>\n    </tr>\n    <tr>\n      <th>4</th>\n      <td>Manitoba</td>\n      <td>3.40</td>\n      <td>1.057</td>\n    </tr>\n    <tr>\n      <th>5</th>\n      <td>Newfoundland</td>\n      <td>3.60</td>\n      <td>1.137</td>\n    </tr>\n    <tr>\n      <th>6</th>\n      <td>Newfoundland</td>\n      <td>3.95</td>\n      <td>1.144</td>\n    </tr>\n    <tr>\n      <th>7</th>\n      <td>Newfoundland</td>\n      <td>4.10</td>\n      <td>1.194</td>\n    </tr>\n    <tr>\n      <th>8</th>\n      <td>Newfoundland</td>\n      <td>4.60</td>\n      <td>1.562</td>\n    </tr>\n    <tr>\n      <th>9</th>\n      <td>Alberta</td>\n      <td>5.00</td>\n      <td>1.582</td>\n    </tr>\n    <tr>\n      <th>10</th>\n      <td>Newfoundland</td>\n      <td>5.45</td>\n      <td>1.501</td>\n    </tr>\n    <tr>\n      <th>11</th>\n      <td>Ontario</td>\n      <td>5.80</td>\n      <td>1.737</td>\n    </tr>\n    <tr>\n      <th>12</th>\n      <td>Alberta</td>\n      <td>6.00</td>\n      <td>1.822</td>\n    </tr>\n    <tr>\n      <th>13</th>\n      <td>Newfoundland</td>\n      <td>6.20</td>\n      <td>1.866</td>\n    </tr>\n    <tr>\n      <th>14</th>\n      <td>Newfoundland</td>\n      <td>6.35</td>\n      <td>1.930</td>\n    </tr>\n    <tr>\n      <th>15</th>\n      <td>Newfoundland</td>\n      <td>7.00</td>\n      <td>1.800</td>\n    </tr>\n    <tr>\n      <th>16</th>\n      <td>Newfoundland</td>\n      <td>7.40</td>\n      <td>2.088</td>\n    </tr>\n    <tr>\n      <th>17</th>\n      <td>Sascatchewan</td>\n      <td>7.85</td>\n      <td>2.179</td>\n    </tr>\n    <tr>\n      <th>18</th>\n      <td>Ontario</td>\n      <td>8.15</td>\n      <td>2.166</td>\n    </tr>\n    <tr>\n      <th>19</th>\n      <td>Ontario</td>\n      <td>8.80</td>\n      <td>2.112</td>\n    </tr>\n    <tr>\n      <th>20</th>\n      <td>Newfoundland</td>\n      <td>9.10</td>\n      <td>2.303</td>\n    </tr>\n    <tr>\n      <th>21</th>\n      <td>Sascatchewan</td>\n      <td>9.55</td>\n      <td>2.294</td>\n    </tr>\n    <tr>\n      <th>22</th>\n      <td>Sascatchewan</td>\n      <td>9.70</td>\n      <td>2.386</td>\n    </tr>\n    <tr>\n      <th>23</th>\n      <td>Sascatchewan</td>\n      <td>10.00</td>\n      <td>2.236</td>\n    </tr>\n    <tr>\n      <th>24</th>\n      <td>Sascatchewan</td>\n      <td>10.20</td>\n      <td>2.310</td>\n    </tr>\n  </tbody>\n</table>\n</div>"
     },
     "execution_count": 3,
     "metadata": {},
     "output_type": "execute_result"
    }
   ],
   "source": [
    "dataset"
   ]
  },
  {
   "cell_type": "code",
   "execution_count": 4,
   "metadata": {
    "colab": {
     "base_uri": "https://localhost:8080/",
     "height": 51
    },
    "colab_type": "code",
    "id": "P1CzeAyRiU3c",
    "outputId": "760b4b2d-6827-4c54-a56d-dbdce814d76a"
   },
   "outputs": [
    {
     "data": {
      "text/plain": "array([[ 2.45],\n       [ 2.7 ],\n       [ 2.9 ],\n       [ 3.05],\n       [ 3.4 ],\n       [ 3.6 ],\n       [ 3.95],\n       [ 4.1 ],\n       [ 4.6 ],\n       [ 5.  ],\n       [ 5.45],\n       [ 5.8 ],\n       [ 6.  ],\n       [ 6.2 ],\n       [ 6.35],\n       [ 7.  ],\n       [ 7.4 ],\n       [ 7.85],\n       [ 8.15],\n       [ 8.8 ],\n       [ 9.1 ],\n       [ 9.55],\n       [ 9.7 ],\n       [10.  ],\n       [10.2 ]])"
     },
     "execution_count": 4,
     "metadata": {},
     "output_type": "execute_result"
    }
   ],
   "source": [
    "# quick check of X and y\n",
    "X"
   ]
  },
  {
   "cell_type": "markdown",
   "metadata": {},
   "source": [
    "**Note:** StandardScaler only accept the data in Matr   ix format. So, we need to reshape the vector y which is 1D array to\n",
    "a matrix of 25x1."
   ]
  },
  {
   "cell_type": "code",
   "execution_count": 5,
   "metadata": {
    "colab": {},
    "colab_type": "code",
    "id": "_8Ny1GfPiV3m"
   },
   "outputs": [],
   "source": [
    "y = y.reshape(len(y), 1)"
   ]
  },
  {
   "cell_type": "markdown",
   "metadata": {
    "colab_type": "text",
    "id": "YS8FeLHYS-nI"
   },
   "source": [
    "## Feature Scaling"
   ]
  },
  {
   "cell_type": "code",
   "execution_count": 6,
   "metadata": {
    "colab": {},
    "colab_type": "code",
    "id": "PGeAlD1HTDI1"
   },
   "outputs": [],
   "source": [
    "from sklearn.preprocessing import StandardScaler\n",
    "\n",
    "sc_X = StandardScaler()\n",
    "sc_y = StandardScaler()\n",
    "X = sc_X.fit_transform(X)\n",
    "y = sc_y.fit_transform(y)"
   ]
  },
  {
   "cell_type": "markdown",
   "source": [
    "**Note:** In SVR, we must always scale X **and** y. Otherwise, the data won't be properly projected onto the curve."
   ],
   "metadata": {
    "collapsed": false,
    "pycharm": {
     "name": "#%% md\n"
    }
   }
  },
  {
   "cell_type": "markdown",
   "metadata": {
    "colab_type": "text",
    "id": "eiU6D2QFRjxY"
   },
   "source": [
    "## Training the SVR Model on the Dataset\n",
    "\n",
    "**Note:** Here we chose the RBF Kernel, which is the most common. We may try other Kernels such as:\n",
    "\n",
    "    - Polynomial Kernel (poly)\n",
    "    - Gaussian Radial Basis Function (RBF) Kernel\n",
    "    - Linear Kernel (linear)\n",
    "    - sigmoid Kernel (sigmoid)\n",
    "    \n",
    "This topic will be covered in SVM later."
   ]
  },
  {
   "cell_type": "code",
   "execution_count": 7,
   "metadata": {
    "colab": {
     "base_uri": "https://localhost:8080/",
     "height": 105
    },
    "colab_type": "code",
    "id": "y6R4rt_GRz15",
    "outputId": "4b0c1e6b-d4b8-417e-d7d0-4c9dd7bc2b12"
   },
   "outputs": [
    {
     "name": "stderr",
     "output_type": "stream",
     "text": [
      "/home/liamb/Public/school/Manu465-Examples/.venv/lib/python3.8/site-packages/sklearn/utils/validation.py:985: DataConversionWarning: A column-vector y was passed when a 1d array was expected. Please change the shape of y to (n_samples, ), for example using ravel().\n",
      "  y = column_or_1d(y, warn=True)\n"
     ]
    },
    {
     "data": {
      "text/plain": "SVR()"
     },
     "execution_count": 7,
     "metadata": {},
     "output_type": "execute_result"
    }
   ],
   "source": [
    "from sklearn.svm import SVR\n",
    "\n",
    "regressor = SVR(kernel='rbf')\n",
    "regressor.fit(X, y)"
   ]
  },
  {
   "cell_type": "markdown",
   "metadata": {
    "colab_type": "text",
    "id": "deDnDr8UR5vq"
   },
   "source": [
    "## Using the Model to Predict the DC Output"
   ]
  },
  {
   "cell_type": "code",
   "execution_count": 8,
   "metadata": {
    "colab": {
     "base_uri": "https://localhost:8080/",
     "height": 34
    },
    "colab_type": "code",
    "id": "ib89-Fq8R8v-",
    "outputId": "0cbe0d2a-4d4f-402e-f811-0b323ce76ecc"
   },
   "outputs": [
    {
     "ename": "ValueError",
     "evalue": "Expected 2D array, got 1D array instead:\narray=[0.34903597].\nReshape your data either using array.reshape(-1, 1) if your data has a single feature or array.reshape(1, -1) if it contains a single sample.",
     "output_type": "error",
     "traceback": [
      "\u001B[0;31m---------------------------------------------------------------------------\u001B[0m",
      "\u001B[0;31mValueError\u001B[0m                                Traceback (most recent call last)",
      "\u001B[0;32m/tmp/ipykernel_129112/1948202416.py\u001B[0m in \u001B[0;36m<module>\u001B[0;34m\u001B[0m\n\u001B[1;32m      9\u001B[0m \u001B[0;34m\u001B[0m\u001B[0m\n\u001B[1;32m     10\u001B[0m \u001B[0;31m# the \"Result\" is in scaled format; we need to inverse it to the actual value.\u001B[0m\u001B[0;34m\u001B[0m\u001B[0;34m\u001B[0m\u001B[0;34m\u001B[0m\u001B[0m\n\u001B[0;32m---> 11\u001B[0;31m \u001B[0mscaled_result\u001B[0m \u001B[0;34m=\u001B[0m \u001B[0msc_y\u001B[0m\u001B[0;34m.\u001B[0m\u001B[0minverse_transform\u001B[0m\u001B[0;34m(\u001B[0m\u001B[0mresult\u001B[0m\u001B[0;34m)\u001B[0m\u001B[0;34m\u001B[0m\u001B[0;34m\u001B[0m\u001B[0m\n\u001B[0m\u001B[1;32m     12\u001B[0m \u001B[0;34m\u001B[0m\u001B[0m\n\u001B[1;32m     13\u001B[0m \u001B[0mprint\u001B[0m\u001B[0;34m(\u001B[0m\u001B[0;34mf\"The DC Output will be {scaled_result}\"\u001B[0m\u001B[0;34m)\u001B[0m\u001B[0;34m\u001B[0m\u001B[0;34m\u001B[0m\u001B[0m\n",
      "\u001B[0;32m~/Public/school/Manu465-Examples/.venv/lib/python3.8/site-packages/sklearn/preprocessing/_data.py\u001B[0m in \u001B[0;36minverse_transform\u001B[0;34m(self, X, copy)\u001B[0m\n\u001B[1;32m   1014\u001B[0m \u001B[0;34m\u001B[0m\u001B[0m\n\u001B[1;32m   1015\u001B[0m         \u001B[0mcopy\u001B[0m \u001B[0;34m=\u001B[0m \u001B[0mcopy\u001B[0m \u001B[0;32mif\u001B[0m \u001B[0mcopy\u001B[0m \u001B[0;32mis\u001B[0m \u001B[0;32mnot\u001B[0m \u001B[0;32mNone\u001B[0m \u001B[0;32melse\u001B[0m \u001B[0mself\u001B[0m\u001B[0;34m.\u001B[0m\u001B[0mcopy\u001B[0m\u001B[0;34m\u001B[0m\u001B[0;34m\u001B[0m\u001B[0m\n\u001B[0;32m-> 1016\u001B[0;31m         X = check_array(\n\u001B[0m\u001B[1;32m   1017\u001B[0m             \u001B[0mX\u001B[0m\u001B[0;34m,\u001B[0m\u001B[0;34m\u001B[0m\u001B[0;34m\u001B[0m\u001B[0m\n\u001B[1;32m   1018\u001B[0m             \u001B[0maccept_sparse\u001B[0m\u001B[0;34m=\u001B[0m\u001B[0;34m\"csr\"\u001B[0m\u001B[0;34m,\u001B[0m\u001B[0;34m\u001B[0m\u001B[0;34m\u001B[0m\u001B[0m\n",
      "\u001B[0;32m~/Public/school/Manu465-Examples/.venv/lib/python3.8/site-packages/sklearn/utils/validation.py\u001B[0m in \u001B[0;36mcheck_array\u001B[0;34m(array, accept_sparse, accept_large_sparse, dtype, order, copy, force_all_finite, ensure_2d, allow_nd, ensure_min_samples, ensure_min_features, estimator)\u001B[0m\n\u001B[1;32m    759\u001B[0m             \u001B[0;31m# If input is 1D raise error\u001B[0m\u001B[0;34m\u001B[0m\u001B[0;34m\u001B[0m\u001B[0;34m\u001B[0m\u001B[0m\n\u001B[1;32m    760\u001B[0m             \u001B[0;32mif\u001B[0m \u001B[0marray\u001B[0m\u001B[0;34m.\u001B[0m\u001B[0mndim\u001B[0m \u001B[0;34m==\u001B[0m \u001B[0;36m1\u001B[0m\u001B[0;34m:\u001B[0m\u001B[0;34m\u001B[0m\u001B[0;34m\u001B[0m\u001B[0m\n\u001B[0;32m--> 761\u001B[0;31m                 raise ValueError(\n\u001B[0m\u001B[1;32m    762\u001B[0m                     \u001B[0;34m\"Expected 2D array, got 1D array instead:\\narray={}.\\n\"\u001B[0m\u001B[0;34m\u001B[0m\u001B[0;34m\u001B[0m\u001B[0m\n\u001B[1;32m    763\u001B[0m                     \u001B[0;34m\"Reshape your data either using array.reshape(-1, 1) if \"\u001B[0m\u001B[0;34m\u001B[0m\u001B[0;34m\u001B[0m\u001B[0m\n",
      "\u001B[0;31mValueError\u001B[0m: Expected 2D array, got 1D array instead:\narray=[0.34903597].\nReshape your data either using array.reshape(-1, 1) if your data has a single feature or array.reshape(1, -1) if it contains a single sample."
     ]
    }
   ],
   "source": [
    "# Select a wind speed and predict the DC Output\n",
    "new_X = [[9]]\n",
    "\n",
    "# we need to scale it\n",
    "scaled_new_X = sc_X.fit_transform(new_X)\n",
    "\n",
    "# we predict the output\n",
    "result = regressor.predict(scaled_new_X)\n",
    "\n",
    "# the \"Result\" is in scaled format; we need to inverse it to the actual value.\n",
    "scaled_result = sc_y.inverse_transform(result)\n",
    "\n",
    "print(f\"The DC Output will be {scaled_result}\")\n"
   ]
  },
  {
   "cell_type": "markdown",
   "metadata": {
    "colab_type": "text",
    "id": "zzedFlUISSu_"
   },
   "source": [
    "## Visualising the SVR Results"
   ]
  },
  {
   "cell_type": "code",
   "execution_count": null,
   "metadata": {
    "colab": {
     "base_uri": "https://localhost:8080/",
     "height": 295
    },
    "colab_type": "code",
    "id": "OWPRGsKpSW9U",
    "outputId": "d98957c5-e6c8-4a85-8959-fc7ccd59021a",
    "pycharm": {
     "name": "#%%\n"
    }
   },
   "outputs": [],
   "source": [
    "# Note, we need to plot the actual values not the scaled data. So, we \n",
    "#need to inverse the scaled data back to original.\n",
    "\n",
    "plt.scatter(sc_X.inverse_transform(X), sc_y.inverse_transform(y), color='red')\n",
    "plt.plot(sc_X.inverse_transform(X), sc_y.inverse_transform(regressor.predict(X)))\n",
    "\n",
    "plt.style.use('dark_background')\n",
    "plt.title('Wind Energy Data Model (SVR)')\n",
    "plt.xlabel('Wind Velocity(mph)')\n",
    "plt.ylabel('DC Output')\n",
    "plt.show()"
   ]
  }
 ],
 "metadata": {
  "colab": {
   "collapsed_sections": [],
   "name": "support_vector_regression.ipynb",
   "provenance": [],
   "toc_visible": true
  },
  "kernelspec": {
   "display_name": "Python 3",
   "language": "python",
   "name": "python3"
  },
  "language_info": {
   "codemirror_mode": {
    "name": "ipython",
    "version": 3
   },
   "file_extension": ".py",
   "mimetype": "text/x-python",
   "name": "python",
   "nbconvert_exporter": "python",
   "pygments_lexer": "ipython3",
   "version": "3.8.5"
  },
  "toc": {
   "base_numbering": 1,
   "nav_menu": {},
   "number_sections": true,
   "sideBar": true,
   "skip_h1_title": false,
   "title_cell": "Table of Contents",
   "title_sidebar": "Contents",
   "toc_cell": false,
   "toc_position": {},
   "toc_section_display": true,
   "toc_window_display": true
  },
  "varInspector": {
   "cols": {
    "lenName": 16,
    "lenType": 16,
    "lenVar": 40
   },
   "kernels_config": {
    "python": {
     "delete_cmd_postfix": "",
     "delete_cmd_prefix": "del ",
     "library": "var_list.py",
     "varRefreshCmd": "print(var_dic_list())"
    },
    "r": {
     "delete_cmd_postfix": ") ",
     "delete_cmd_prefix": "rm(",
     "library": "var_list.r",
     "varRefreshCmd": "cat(var_dic_list()) "
    }
   },
   "types_to_exclude": [
    "module",
    "function",
    "builtin_function_or_method",
    "instance",
    "_Feature"
   ],
   "window_display": false
  }
 },
 "nbformat": 4,
 "nbformat_minor": 1
}