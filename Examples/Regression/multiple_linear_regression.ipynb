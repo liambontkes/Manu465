{
 "cells": [
  {
   "cell_type": "markdown",
   "metadata": {
    "colab_type": "text",
    "id": "CazISR8X_HUG"
   },
   "source": [
    "# Multiple Linear Regression"
   ]
  },
  {
   "cell_type": "markdown",
   "metadata": {},
   "source": [
    "# Project Description\n",
    "A car manufacturer has 50 small factories in India, China, and Brazil for the production of some small parts. File\n",
    "Business Data.csv shows the amount of money (in US Dollars) each of these factories has spent in a fiscal year (2019) on\n",
    "equipment, workers' salary, raw materials; and the end year profit.\n",
    "\n",
    "Build a model to predict the profit if the company decides to build new factories and plan a business (i.e. the amount\n",
    "to spend on equipment, salary, and materials) in each of these countries."
   ]
  },
  {
   "cell_type": "markdown",
   "metadata": {
    "colab_type": "text",
    "id": "pOyqYHTk_Q57"
   },
   "source": [
    "## Step 1. Importing the Libraries"
   ]
  },
  {
   "cell_type": "code",
   "execution_count": 14,
   "metadata": {
    "colab": {},
    "colab_type": "code",
    "id": "T_YHJjnD_Tja"
   },
   "outputs": [],
   "source": [
    "import numpy as np\n",
    "import matplotlib.pyplot as plt\n",
    "import pandas as pd"
   ]
  },
  {
   "cell_type": "markdown",
   "metadata": {
    "colab_type": "text",
    "id": "vgC61-ah_WIz"
   },
   "source": [
    "## Step 2. Importing the Data and Checking"
   ]
  },
  {
   "cell_type": "code",
   "execution_count": 15,
   "metadata": {
    "colab": {},
    "colab_type": "code",
    "id": "UrxyEKGn_ez7"
   },
   "outputs": [],
   "source": [
    "dataset = pd.read_csv('data/Business Data.csv')\n",
    "X = dataset.iloc[:, :-1].values\n",
    "y = dataset.iloc[:, -1].values"
   ]
  },
  {
   "cell_type": "code",
   "execution_count": 16,
   "metadata": {
    "colab": {
     "base_uri": "https://localhost:8080/",
     "height": 857
    },
    "colab_type": "code",
    "executionInfo": {
     "elapsed": 552,
     "status": "ok",
     "timestamp": 1586353652778,
     "user": {
      "displayName": "Hadelin de Ponteves",
      "photoUrl": "https://lh3.googleusercontent.com/a-/AOh14GhEuXdT7eQweUmRPW8_laJuPggSK6hfvpl5a6WBaA=s64",
      "userId": "15047218817161520419"
     },
     "user_tz": -240
    },
    "id": "GOB3QhV9B5kD",
    "outputId": "4a05377a-2db2-43fc-b824-a0710448baee",
    "scrolled": false
   },
   "outputs": [
    {
     "data": {
      "text/plain": "    Equipment Spend  Employee Salary  Raw Materials Spend Country  Profit\n0            165349           136898               471784   India  192262\n1            162598           151378               443899   China  191792\n2            153442           101146               407935  Brezil  191050\n3            144372           118672               383200   India  182902\n4            142107            91392               366168  Brezil  166188\n5            131877            99815               362861   India  156991\n6            134615           147199               127717   China  156123\n7            130298           145530               323877  Brezil  155753\n8            120543           148719               311613   India  152212\n9            123335           108679               304982   China  149760\n10           101913           110594               229161  Brezil  146122\n11           100672            91791               249745   China  144259\n12            93864           127320               249839  Brezil  141586\n13            91992           135495               252665   China  134307\n14           119943           156547               256513  Brezil  132603\n15           114524           122617               261776   India  129917\n16            78013           121598               264346   China  126993\n17            94657           145078               282574   India  125370\n18            91749           114176               294920  Brezil  124267\n19            86420           153514                    0   India  122777\n20            76254           113867               298664   China  118474\n21            78389           153773               299737   India  111313\n22            73995           122783               303319  Brezil  110352\n23            67533           105751               304769  Brezil  108734\n24            77044            99281               140575   India  108552\n25            64665           139553               137963   China  107404\n26            75329           144136               134050  Brezil  105734\n27            72108           127865               353184   India  105008\n28            66052           182646               118148  Brezil  103282\n29            65605           153032               107138   India  101005\n30            61994           115641                91131  Brezil   99938\n31            61136           152702                88218   India   97484\n32            63409           129220                46085   China   97428\n33            55494           103057               214635  Brezil   96779\n34            46426           157694               210798   China   96713\n35            46014            85047               205518   India   96480\n36            28664           127056               201127  Brezil   90708\n37            44070            51283               197029   China   89949\n38            20230            65948               185265   India   81229\n39            38559            82982               174999   China   81006\n40            28754           118546               172796   China   78240\n41            27893            84711               164471  Brezil   77799\n42            23641            96190               148001   China   71498\n43            15506           127382                35534   India   69759\n44            22178           154806                28335   China   65200\n45             1000           124153                 1904   India   64926\n46             1315           115816               297114  Brezil   49491\n47                0           135427                    0   China   42560\n48              542            51743                    0   India   35673\n49                0           116984                45173   China   14681",
      "text/html": "<div>\n<style scoped>\n    .dataframe tbody tr th:only-of-type {\n        vertical-align: middle;\n    }\n\n    .dataframe tbody tr th {\n        vertical-align: top;\n    }\n\n    .dataframe thead th {\n        text-align: right;\n    }\n</style>\n<table border=\"1\" class=\"dataframe\">\n  <thead>\n    <tr style=\"text-align: right;\">\n      <th></th>\n      <th>Equipment Spend</th>\n      <th>Employee Salary</th>\n      <th>Raw Materials Spend</th>\n      <th>Country</th>\n      <th>Profit</th>\n    </tr>\n  </thead>\n  <tbody>\n    <tr>\n      <th>0</th>\n      <td>165349</td>\n      <td>136898</td>\n      <td>471784</td>\n      <td>India</td>\n      <td>192262</td>\n    </tr>\n    <tr>\n      <th>1</th>\n      <td>162598</td>\n      <td>151378</td>\n      <td>443899</td>\n      <td>China</td>\n      <td>191792</td>\n    </tr>\n    <tr>\n      <th>2</th>\n      <td>153442</td>\n      <td>101146</td>\n      <td>407935</td>\n      <td>Brezil</td>\n      <td>191050</td>\n    </tr>\n    <tr>\n      <th>3</th>\n      <td>144372</td>\n      <td>118672</td>\n      <td>383200</td>\n      <td>India</td>\n      <td>182902</td>\n    </tr>\n    <tr>\n      <th>4</th>\n      <td>142107</td>\n      <td>91392</td>\n      <td>366168</td>\n      <td>Brezil</td>\n      <td>166188</td>\n    </tr>\n    <tr>\n      <th>5</th>\n      <td>131877</td>\n      <td>99815</td>\n      <td>362861</td>\n      <td>India</td>\n      <td>156991</td>\n    </tr>\n    <tr>\n      <th>6</th>\n      <td>134615</td>\n      <td>147199</td>\n      <td>127717</td>\n      <td>China</td>\n      <td>156123</td>\n    </tr>\n    <tr>\n      <th>7</th>\n      <td>130298</td>\n      <td>145530</td>\n      <td>323877</td>\n      <td>Brezil</td>\n      <td>155753</td>\n    </tr>\n    <tr>\n      <th>8</th>\n      <td>120543</td>\n      <td>148719</td>\n      <td>311613</td>\n      <td>India</td>\n      <td>152212</td>\n    </tr>\n    <tr>\n      <th>9</th>\n      <td>123335</td>\n      <td>108679</td>\n      <td>304982</td>\n      <td>China</td>\n      <td>149760</td>\n    </tr>\n    <tr>\n      <th>10</th>\n      <td>101913</td>\n      <td>110594</td>\n      <td>229161</td>\n      <td>Brezil</td>\n      <td>146122</td>\n    </tr>\n    <tr>\n      <th>11</th>\n      <td>100672</td>\n      <td>91791</td>\n      <td>249745</td>\n      <td>China</td>\n      <td>144259</td>\n    </tr>\n    <tr>\n      <th>12</th>\n      <td>93864</td>\n      <td>127320</td>\n      <td>249839</td>\n      <td>Brezil</td>\n      <td>141586</td>\n    </tr>\n    <tr>\n      <th>13</th>\n      <td>91992</td>\n      <td>135495</td>\n      <td>252665</td>\n      <td>China</td>\n      <td>134307</td>\n    </tr>\n    <tr>\n      <th>14</th>\n      <td>119943</td>\n      <td>156547</td>\n      <td>256513</td>\n      <td>Brezil</td>\n      <td>132603</td>\n    </tr>\n    <tr>\n      <th>15</th>\n      <td>114524</td>\n      <td>122617</td>\n      <td>261776</td>\n      <td>India</td>\n      <td>129917</td>\n    </tr>\n    <tr>\n      <th>16</th>\n      <td>78013</td>\n      <td>121598</td>\n      <td>264346</td>\n      <td>China</td>\n      <td>126993</td>\n    </tr>\n    <tr>\n      <th>17</th>\n      <td>94657</td>\n      <td>145078</td>\n      <td>282574</td>\n      <td>India</td>\n      <td>125370</td>\n    </tr>\n    <tr>\n      <th>18</th>\n      <td>91749</td>\n      <td>114176</td>\n      <td>294920</td>\n      <td>Brezil</td>\n      <td>124267</td>\n    </tr>\n    <tr>\n      <th>19</th>\n      <td>86420</td>\n      <td>153514</td>\n      <td>0</td>\n      <td>India</td>\n      <td>122777</td>\n    </tr>\n    <tr>\n      <th>20</th>\n      <td>76254</td>\n      <td>113867</td>\n      <td>298664</td>\n      <td>China</td>\n      <td>118474</td>\n    </tr>\n    <tr>\n      <th>21</th>\n      <td>78389</td>\n      <td>153773</td>\n      <td>299737</td>\n      <td>India</td>\n      <td>111313</td>\n    </tr>\n    <tr>\n      <th>22</th>\n      <td>73995</td>\n      <td>122783</td>\n      <td>303319</td>\n      <td>Brezil</td>\n      <td>110352</td>\n    </tr>\n    <tr>\n      <th>23</th>\n      <td>67533</td>\n      <td>105751</td>\n      <td>304769</td>\n      <td>Brezil</td>\n      <td>108734</td>\n    </tr>\n    <tr>\n      <th>24</th>\n      <td>77044</td>\n      <td>99281</td>\n      <td>140575</td>\n      <td>India</td>\n      <td>108552</td>\n    </tr>\n    <tr>\n      <th>25</th>\n      <td>64665</td>\n      <td>139553</td>\n      <td>137963</td>\n      <td>China</td>\n      <td>107404</td>\n    </tr>\n    <tr>\n      <th>26</th>\n      <td>75329</td>\n      <td>144136</td>\n      <td>134050</td>\n      <td>Brezil</td>\n      <td>105734</td>\n    </tr>\n    <tr>\n      <th>27</th>\n      <td>72108</td>\n      <td>127865</td>\n      <td>353184</td>\n      <td>India</td>\n      <td>105008</td>\n    </tr>\n    <tr>\n      <th>28</th>\n      <td>66052</td>\n      <td>182646</td>\n      <td>118148</td>\n      <td>Brezil</td>\n      <td>103282</td>\n    </tr>\n    <tr>\n      <th>29</th>\n      <td>65605</td>\n      <td>153032</td>\n      <td>107138</td>\n      <td>India</td>\n      <td>101005</td>\n    </tr>\n    <tr>\n      <th>30</th>\n      <td>61994</td>\n      <td>115641</td>\n      <td>91131</td>\n      <td>Brezil</td>\n      <td>99938</td>\n    </tr>\n    <tr>\n      <th>31</th>\n      <td>61136</td>\n      <td>152702</td>\n      <td>88218</td>\n      <td>India</td>\n      <td>97484</td>\n    </tr>\n    <tr>\n      <th>32</th>\n      <td>63409</td>\n      <td>129220</td>\n      <td>46085</td>\n      <td>China</td>\n      <td>97428</td>\n    </tr>\n    <tr>\n      <th>33</th>\n      <td>55494</td>\n      <td>103057</td>\n      <td>214635</td>\n      <td>Brezil</td>\n      <td>96779</td>\n    </tr>\n    <tr>\n      <th>34</th>\n      <td>46426</td>\n      <td>157694</td>\n      <td>210798</td>\n      <td>China</td>\n      <td>96713</td>\n    </tr>\n    <tr>\n      <th>35</th>\n      <td>46014</td>\n      <td>85047</td>\n      <td>205518</td>\n      <td>India</td>\n      <td>96480</td>\n    </tr>\n    <tr>\n      <th>36</th>\n      <td>28664</td>\n      <td>127056</td>\n      <td>201127</td>\n      <td>Brezil</td>\n      <td>90708</td>\n    </tr>\n    <tr>\n      <th>37</th>\n      <td>44070</td>\n      <td>51283</td>\n      <td>197029</td>\n      <td>China</td>\n      <td>89949</td>\n    </tr>\n    <tr>\n      <th>38</th>\n      <td>20230</td>\n      <td>65948</td>\n      <td>185265</td>\n      <td>India</td>\n      <td>81229</td>\n    </tr>\n    <tr>\n      <th>39</th>\n      <td>38559</td>\n      <td>82982</td>\n      <td>174999</td>\n      <td>China</td>\n      <td>81006</td>\n    </tr>\n    <tr>\n      <th>40</th>\n      <td>28754</td>\n      <td>118546</td>\n      <td>172796</td>\n      <td>China</td>\n      <td>78240</td>\n    </tr>\n    <tr>\n      <th>41</th>\n      <td>27893</td>\n      <td>84711</td>\n      <td>164471</td>\n      <td>Brezil</td>\n      <td>77799</td>\n    </tr>\n    <tr>\n      <th>42</th>\n      <td>23641</td>\n      <td>96190</td>\n      <td>148001</td>\n      <td>China</td>\n      <td>71498</td>\n    </tr>\n    <tr>\n      <th>43</th>\n      <td>15506</td>\n      <td>127382</td>\n      <td>35534</td>\n      <td>India</td>\n      <td>69759</td>\n    </tr>\n    <tr>\n      <th>44</th>\n      <td>22178</td>\n      <td>154806</td>\n      <td>28335</td>\n      <td>China</td>\n      <td>65200</td>\n    </tr>\n    <tr>\n      <th>45</th>\n      <td>1000</td>\n      <td>124153</td>\n      <td>1904</td>\n      <td>India</td>\n      <td>64926</td>\n    </tr>\n    <tr>\n      <th>46</th>\n      <td>1315</td>\n      <td>115816</td>\n      <td>297114</td>\n      <td>Brezil</td>\n      <td>49491</td>\n    </tr>\n    <tr>\n      <th>47</th>\n      <td>0</td>\n      <td>135427</td>\n      <td>0</td>\n      <td>China</td>\n      <td>42560</td>\n    </tr>\n    <tr>\n      <th>48</th>\n      <td>542</td>\n      <td>51743</td>\n      <td>0</td>\n      <td>India</td>\n      <td>35673</td>\n    </tr>\n    <tr>\n      <th>49</th>\n      <td>0</td>\n      <td>116984</td>\n      <td>45173</td>\n      <td>China</td>\n      <td>14681</td>\n    </tr>\n  </tbody>\n</table>\n</div>"
     },
     "execution_count": 16,
     "metadata": {},
     "output_type": "execute_result"
    }
   ],
   "source": [
    "# Quick check of the data\n",
    "\n",
    "dataset"
   ]
  },
  {
   "cell_type": "markdown",
   "metadata": {},
   "source": [
    "## Step 3. Cleaning the Data"
   ]
  },
  {
   "cell_type": "code",
   "execution_count": 17,
   "metadata": {},
   "outputs": [],
   "source": [
    "# already clean"
   ]
  },
  {
   "cell_type": "markdown",
   "metadata": {
    "colab_type": "text",
    "id": "VadrvE7s_lS9"
   },
   "source": [
    "## Step 4. Encoding Categorical Data"
   ]
  },
  {
   "cell_type": "code",
   "execution_count": 18,
   "metadata": {
    "colab": {},
    "colab_type": "code",
    "id": "wV3fD1mbAvsh"
   },
   "outputs": [],
   "source": [
    "from sklearn.compose import ColumnTransformer\n",
    "from sklearn.preprocessing import OneHotEncoder\n",
    "\n",
    "ct = ColumnTransformer(transformers=[('encoder', OneHotEncoder(), [3])], remainder='passthrough')\n",
    "X = ct.fit_transform(X)"
   ]
  },
  {
   "cell_type": "markdown",
   "metadata": {},
   "source": [
    "### Checking the Encoded Data"
   ]
  },
  {
   "cell_type": "code",
   "execution_count": 19,
   "metadata": {
    "colab": {
     "base_uri": "https://localhost:8080/",
     "height": 857
    },
    "colab_type": "code",
    "executionInfo": {
     "elapsed": 616,
     "status": "ok",
     "timestamp": 1586353657759,
     "user": {
      "displayName": "Hadelin de Ponteves",
      "photoUrl": "https://lh3.googleusercontent.com/a-/AOh14GhEuXdT7eQweUmRPW8_laJuPggSK6hfvpl5a6WBaA=s64",
      "userId": "15047218817161520419"
     },
     "user_tz": -240
    },
    "id": "4ym3HdYeCGYG",
    "outputId": "ce09e670-cf06-4a1c-f5b0-89422aae0496"
   },
   "outputs": [
    {
     "data": {
      "text/plain": "      0    1    2       3       4       5\n0   0.0  0.0  1.0  165349  136898  471784\n1   0.0  1.0  0.0  162598  151378  443899\n2   1.0  0.0  0.0  153442  101146  407935\n3   0.0  0.0  1.0  144372  118672  383200\n4   1.0  0.0  0.0  142107   91392  366168\n5   0.0  0.0  1.0  131877   99815  362861\n6   0.0  1.0  0.0  134615  147199  127717\n7   1.0  0.0  0.0  130298  145530  323877\n8   0.0  0.0  1.0  120543  148719  311613\n9   0.0  1.0  0.0  123335  108679  304982\n10  1.0  0.0  0.0  101913  110594  229161\n11  0.0  1.0  0.0  100672   91791  249745\n12  1.0  0.0  0.0   93864  127320  249839\n13  0.0  1.0  0.0   91992  135495  252665\n14  1.0  0.0  0.0  119943  156547  256513\n15  0.0  0.0  1.0  114524  122617  261776\n16  0.0  1.0  0.0   78013  121598  264346\n17  0.0  0.0  1.0   94657  145078  282574\n18  1.0  0.0  0.0   91749  114176  294920\n19  0.0  0.0  1.0   86420  153514       0\n20  0.0  1.0  0.0   76254  113867  298664\n21  0.0  0.0  1.0   78389  153773  299737\n22  1.0  0.0  0.0   73995  122783  303319\n23  1.0  0.0  0.0   67533  105751  304769\n24  0.0  0.0  1.0   77044   99281  140575\n25  0.0  1.0  0.0   64665  139553  137963\n26  1.0  0.0  0.0   75329  144136  134050\n27  0.0  0.0  1.0   72108  127865  353184\n28  1.0  0.0  0.0   66052  182646  118148\n29  0.0  0.0  1.0   65605  153032  107138\n30  1.0  0.0  0.0   61994  115641   91131\n31  0.0  0.0  1.0   61136  152702   88218\n32  0.0  1.0  0.0   63409  129220   46085\n33  1.0  0.0  0.0   55494  103057  214635\n34  0.0  1.0  0.0   46426  157694  210798\n35  0.0  0.0  1.0   46014   85047  205518\n36  1.0  0.0  0.0   28664  127056  201127\n37  0.0  1.0  0.0   44070   51283  197029\n38  0.0  0.0  1.0   20230   65948  185265\n39  0.0  1.0  0.0   38559   82982  174999\n40  0.0  1.0  0.0   28754  118546  172796\n41  1.0  0.0  0.0   27893   84711  164471\n42  0.0  1.0  0.0   23641   96190  148001\n43  0.0  0.0  1.0   15506  127382   35534\n44  0.0  1.0  0.0   22178  154806   28335\n45  0.0  0.0  1.0    1000  124153    1904\n46  1.0  0.0  0.0    1315  115816  297114\n47  0.0  1.0  0.0       0  135427       0\n48  0.0  0.0  1.0     542   51743       0\n49  0.0  1.0  0.0       0  116984   45173",
      "text/html": "<div>\n<style scoped>\n    .dataframe tbody tr th:only-of-type {\n        vertical-align: middle;\n    }\n\n    .dataframe tbody tr th {\n        vertical-align: top;\n    }\n\n    .dataframe thead th {\n        text-align: right;\n    }\n</style>\n<table border=\"1\" class=\"dataframe\">\n  <thead>\n    <tr style=\"text-align: right;\">\n      <th></th>\n      <th>0</th>\n      <th>1</th>\n      <th>2</th>\n      <th>3</th>\n      <th>4</th>\n      <th>5</th>\n    </tr>\n  </thead>\n  <tbody>\n    <tr>\n      <th>0</th>\n      <td>0.0</td>\n      <td>0.0</td>\n      <td>1.0</td>\n      <td>165349</td>\n      <td>136898</td>\n      <td>471784</td>\n    </tr>\n    <tr>\n      <th>1</th>\n      <td>0.0</td>\n      <td>1.0</td>\n      <td>0.0</td>\n      <td>162598</td>\n      <td>151378</td>\n      <td>443899</td>\n    </tr>\n    <tr>\n      <th>2</th>\n      <td>1.0</td>\n      <td>0.0</td>\n      <td>0.0</td>\n      <td>153442</td>\n      <td>101146</td>\n      <td>407935</td>\n    </tr>\n    <tr>\n      <th>3</th>\n      <td>0.0</td>\n      <td>0.0</td>\n      <td>1.0</td>\n      <td>144372</td>\n      <td>118672</td>\n      <td>383200</td>\n    </tr>\n    <tr>\n      <th>4</th>\n      <td>1.0</td>\n      <td>0.0</td>\n      <td>0.0</td>\n      <td>142107</td>\n      <td>91392</td>\n      <td>366168</td>\n    </tr>\n    <tr>\n      <th>5</th>\n      <td>0.0</td>\n      <td>0.0</td>\n      <td>1.0</td>\n      <td>131877</td>\n      <td>99815</td>\n      <td>362861</td>\n    </tr>\n    <tr>\n      <th>6</th>\n      <td>0.0</td>\n      <td>1.0</td>\n      <td>0.0</td>\n      <td>134615</td>\n      <td>147199</td>\n      <td>127717</td>\n    </tr>\n    <tr>\n      <th>7</th>\n      <td>1.0</td>\n      <td>0.0</td>\n      <td>0.0</td>\n      <td>130298</td>\n      <td>145530</td>\n      <td>323877</td>\n    </tr>\n    <tr>\n      <th>8</th>\n      <td>0.0</td>\n      <td>0.0</td>\n      <td>1.0</td>\n      <td>120543</td>\n      <td>148719</td>\n      <td>311613</td>\n    </tr>\n    <tr>\n      <th>9</th>\n      <td>0.0</td>\n      <td>1.0</td>\n      <td>0.0</td>\n      <td>123335</td>\n      <td>108679</td>\n      <td>304982</td>\n    </tr>\n    <tr>\n      <th>10</th>\n      <td>1.0</td>\n      <td>0.0</td>\n      <td>0.0</td>\n      <td>101913</td>\n      <td>110594</td>\n      <td>229161</td>\n    </tr>\n    <tr>\n      <th>11</th>\n      <td>0.0</td>\n      <td>1.0</td>\n      <td>0.0</td>\n      <td>100672</td>\n      <td>91791</td>\n      <td>249745</td>\n    </tr>\n    <tr>\n      <th>12</th>\n      <td>1.0</td>\n      <td>0.0</td>\n      <td>0.0</td>\n      <td>93864</td>\n      <td>127320</td>\n      <td>249839</td>\n    </tr>\n    <tr>\n      <th>13</th>\n      <td>0.0</td>\n      <td>1.0</td>\n      <td>0.0</td>\n      <td>91992</td>\n      <td>135495</td>\n      <td>252665</td>\n    </tr>\n    <tr>\n      <th>14</th>\n      <td>1.0</td>\n      <td>0.0</td>\n      <td>0.0</td>\n      <td>119943</td>\n      <td>156547</td>\n      <td>256513</td>\n    </tr>\n    <tr>\n      <th>15</th>\n      <td>0.0</td>\n      <td>0.0</td>\n      <td>1.0</td>\n      <td>114524</td>\n      <td>122617</td>\n      <td>261776</td>\n    </tr>\n    <tr>\n      <th>16</th>\n      <td>0.0</td>\n      <td>1.0</td>\n      <td>0.0</td>\n      <td>78013</td>\n      <td>121598</td>\n      <td>264346</td>\n    </tr>\n    <tr>\n      <th>17</th>\n      <td>0.0</td>\n      <td>0.0</td>\n      <td>1.0</td>\n      <td>94657</td>\n      <td>145078</td>\n      <td>282574</td>\n    </tr>\n    <tr>\n      <th>18</th>\n      <td>1.0</td>\n      <td>0.0</td>\n      <td>0.0</td>\n      <td>91749</td>\n      <td>114176</td>\n      <td>294920</td>\n    </tr>\n    <tr>\n      <th>19</th>\n      <td>0.0</td>\n      <td>0.0</td>\n      <td>1.0</td>\n      <td>86420</td>\n      <td>153514</td>\n      <td>0</td>\n    </tr>\n    <tr>\n      <th>20</th>\n      <td>0.0</td>\n      <td>1.0</td>\n      <td>0.0</td>\n      <td>76254</td>\n      <td>113867</td>\n      <td>298664</td>\n    </tr>\n    <tr>\n      <th>21</th>\n      <td>0.0</td>\n      <td>0.0</td>\n      <td>1.0</td>\n      <td>78389</td>\n      <td>153773</td>\n      <td>299737</td>\n    </tr>\n    <tr>\n      <th>22</th>\n      <td>1.0</td>\n      <td>0.0</td>\n      <td>0.0</td>\n      <td>73995</td>\n      <td>122783</td>\n      <td>303319</td>\n    </tr>\n    <tr>\n      <th>23</th>\n      <td>1.0</td>\n      <td>0.0</td>\n      <td>0.0</td>\n      <td>67533</td>\n      <td>105751</td>\n      <td>304769</td>\n    </tr>\n    <tr>\n      <th>24</th>\n      <td>0.0</td>\n      <td>0.0</td>\n      <td>1.0</td>\n      <td>77044</td>\n      <td>99281</td>\n      <td>140575</td>\n    </tr>\n    <tr>\n      <th>25</th>\n      <td>0.0</td>\n      <td>1.0</td>\n      <td>0.0</td>\n      <td>64665</td>\n      <td>139553</td>\n      <td>137963</td>\n    </tr>\n    <tr>\n      <th>26</th>\n      <td>1.0</td>\n      <td>0.0</td>\n      <td>0.0</td>\n      <td>75329</td>\n      <td>144136</td>\n      <td>134050</td>\n    </tr>\n    <tr>\n      <th>27</th>\n      <td>0.0</td>\n      <td>0.0</td>\n      <td>1.0</td>\n      <td>72108</td>\n      <td>127865</td>\n      <td>353184</td>\n    </tr>\n    <tr>\n      <th>28</th>\n      <td>1.0</td>\n      <td>0.0</td>\n      <td>0.0</td>\n      <td>66052</td>\n      <td>182646</td>\n      <td>118148</td>\n    </tr>\n    <tr>\n      <th>29</th>\n      <td>0.0</td>\n      <td>0.0</td>\n      <td>1.0</td>\n      <td>65605</td>\n      <td>153032</td>\n      <td>107138</td>\n    </tr>\n    <tr>\n      <th>30</th>\n      <td>1.0</td>\n      <td>0.0</td>\n      <td>0.0</td>\n      <td>61994</td>\n      <td>115641</td>\n      <td>91131</td>\n    </tr>\n    <tr>\n      <th>31</th>\n      <td>0.0</td>\n      <td>0.0</td>\n      <td>1.0</td>\n      <td>61136</td>\n      <td>152702</td>\n      <td>88218</td>\n    </tr>\n    <tr>\n      <th>32</th>\n      <td>0.0</td>\n      <td>1.0</td>\n      <td>0.0</td>\n      <td>63409</td>\n      <td>129220</td>\n      <td>46085</td>\n    </tr>\n    <tr>\n      <th>33</th>\n      <td>1.0</td>\n      <td>0.0</td>\n      <td>0.0</td>\n      <td>55494</td>\n      <td>103057</td>\n      <td>214635</td>\n    </tr>\n    <tr>\n      <th>34</th>\n      <td>0.0</td>\n      <td>1.0</td>\n      <td>0.0</td>\n      <td>46426</td>\n      <td>157694</td>\n      <td>210798</td>\n    </tr>\n    <tr>\n      <th>35</th>\n      <td>0.0</td>\n      <td>0.0</td>\n      <td>1.0</td>\n      <td>46014</td>\n      <td>85047</td>\n      <td>205518</td>\n    </tr>\n    <tr>\n      <th>36</th>\n      <td>1.0</td>\n      <td>0.0</td>\n      <td>0.0</td>\n      <td>28664</td>\n      <td>127056</td>\n      <td>201127</td>\n    </tr>\n    <tr>\n      <th>37</th>\n      <td>0.0</td>\n      <td>1.0</td>\n      <td>0.0</td>\n      <td>44070</td>\n      <td>51283</td>\n      <td>197029</td>\n    </tr>\n    <tr>\n      <th>38</th>\n      <td>0.0</td>\n      <td>0.0</td>\n      <td>1.0</td>\n      <td>20230</td>\n      <td>65948</td>\n      <td>185265</td>\n    </tr>\n    <tr>\n      <th>39</th>\n      <td>0.0</td>\n      <td>1.0</td>\n      <td>0.0</td>\n      <td>38559</td>\n      <td>82982</td>\n      <td>174999</td>\n    </tr>\n    <tr>\n      <th>40</th>\n      <td>0.0</td>\n      <td>1.0</td>\n      <td>0.0</td>\n      <td>28754</td>\n      <td>118546</td>\n      <td>172796</td>\n    </tr>\n    <tr>\n      <th>41</th>\n      <td>1.0</td>\n      <td>0.0</td>\n      <td>0.0</td>\n      <td>27893</td>\n      <td>84711</td>\n      <td>164471</td>\n    </tr>\n    <tr>\n      <th>42</th>\n      <td>0.0</td>\n      <td>1.0</td>\n      <td>0.0</td>\n      <td>23641</td>\n      <td>96190</td>\n      <td>148001</td>\n    </tr>\n    <tr>\n      <th>43</th>\n      <td>0.0</td>\n      <td>0.0</td>\n      <td>1.0</td>\n      <td>15506</td>\n      <td>127382</td>\n      <td>35534</td>\n    </tr>\n    <tr>\n      <th>44</th>\n      <td>0.0</td>\n      <td>1.0</td>\n      <td>0.0</td>\n      <td>22178</td>\n      <td>154806</td>\n      <td>28335</td>\n    </tr>\n    <tr>\n      <th>45</th>\n      <td>0.0</td>\n      <td>0.0</td>\n      <td>1.0</td>\n      <td>1000</td>\n      <td>124153</td>\n      <td>1904</td>\n    </tr>\n    <tr>\n      <th>46</th>\n      <td>1.0</td>\n      <td>0.0</td>\n      <td>0.0</td>\n      <td>1315</td>\n      <td>115816</td>\n      <td>297114</td>\n    </tr>\n    <tr>\n      <th>47</th>\n      <td>0.0</td>\n      <td>1.0</td>\n      <td>0.0</td>\n      <td>0</td>\n      <td>135427</td>\n      <td>0</td>\n    </tr>\n    <tr>\n      <th>48</th>\n      <td>0.0</td>\n      <td>0.0</td>\n      <td>1.0</td>\n      <td>542</td>\n      <td>51743</td>\n      <td>0</td>\n    </tr>\n    <tr>\n      <th>49</th>\n      <td>0.0</td>\n      <td>1.0</td>\n      <td>0.0</td>\n      <td>0</td>\n      <td>116984</td>\n      <td>45173</td>\n    </tr>\n  </tbody>\n</table>\n</div>"
     },
     "execution_count": 19,
     "metadata": {},
     "output_type": "execute_result"
    }
   ],
   "source": [
    "pd.DataFrame(X)"
   ]
  },
  {
   "cell_type": "markdown",
   "metadata": {},
   "source": [
    "## Scaling"
   ]
  },
  {
   "cell_type": "code",
   "execution_count": 20,
   "metadata": {},
   "outputs": [
    {
     "data": {
      "text/plain": "'\"\\nfrom sklearn.preprocessing import StandardScaler\\nsc = StandardScaler()\\nX[:, 3:6] = sc.fit_transform(X[:, 3:6])\\npd.DataFrame(X)\\n'"
     },
     "execution_count": 20,
     "metadata": {},
     "output_type": "execute_result"
    }
   ],
   "source": [
    "# Since the input variables are all in a same range, we can skip this step\n",
    "# Later, we will come back and add this step to check the difference \n",
    "\n",
    "# from sklearn.preprocessing import StandardScaler\n",
    "# sc = StandardScaler()\n",
    "# X[:, 3:6] = sc.fit_transform(X[:, 3:6])\n",
    "# pd.DataFrame(X)"
   ]
  },
  {
   "cell_type": "markdown",
   "metadata": {
    "colab_type": "text",
    "id": "WemVnqgeA70k"
   },
   "source": [
    "## Step 5. Splitting the Dataset into the Training set and Test Set"
   ]
  },
  {
   "cell_type": "code",
   "execution_count": 26,
   "metadata": {
    "colab": {},
    "colab_type": "code",
    "id": "Kb_v_ae-A-20"
   },
   "outputs": [],
   "source": [
    "from sklearn.model_selection import train_test_split\n",
    "\n",
    "X_train, X_test, y_train, y_test = train_test_split(X, y, test_size=0.2, random_state=0)"
   ]
  },
  {
   "cell_type": "markdown",
   "metadata": {
    "colab_type": "text",
    "id": "k-McZVsQBINc"
   },
   "source": [
    "## Step 6. Training the Multiple Linear Regression Model on the Training Set"
   ]
  },
  {
   "cell_type": "code",
   "execution_count": 27,
   "metadata": {
    "colab": {
     "base_uri": "https://localhost:8080/",
     "height": 34
    },
    "colab_type": "code",
    "executionInfo": {
     "elapsed": 757,
     "status": "ok",
     "timestamp": 1586353664008,
     "user": {
      "displayName": "Hadelin de Ponteves",
      "photoUrl": "https://lh3.googleusercontent.com/a-/AOh14GhEuXdT7eQweUmRPW8_laJuPggSK6hfvpl5a6WBaA=s64",
      "userId": "15047218817161520419"
     },
     "user_tz": -240
    },
    "id": "ywPjx0L1BMiD",
    "outputId": "099836bc-4d85-4b4f-a488-093faf02e8cb"
   },
   "outputs": [
    {
     "data": {
      "text/plain": "LinearRegression()"
     },
     "execution_count": 27,
     "metadata": {},
     "output_type": "execute_result"
    }
   ],
   "source": [
    "from sklearn.linear_model import LinearRegression\n",
    "\n",
    "regressor = LinearRegression()\n",
    "regressor.fit(X_train, y_train)"
   ]
  },
  {
   "cell_type": "markdown",
   "metadata": {
    "colab_type": "text",
    "id": "xNkXL1YQBiBT"
   },
   "source": [
    "## Step 7. Checking the Model with the Test set"
   ]
  },
  {
   "cell_type": "code",
   "execution_count": 31,
   "metadata": {
    "colab": {
     "base_uri": "https://localhost:8080/",
     "height": 185
    },
    "colab_type": "code",
    "executionInfo": {
     "elapsed": 951,
     "status": "ok",
     "timestamp": 1586353666678,
     "user": {
      "displayName": "Hadelin de Ponteves",
      "photoUrl": "https://lh3.googleusercontent.com/a-/AOh14GhEuXdT7eQweUmRPW8_laJuPggSK6hfvpl5a6WBaA=s64",
      "userId": "15047218817161520419"
     },
     "user_tz": -240
    },
    "id": "TQKmwvtdBkyb",
    "outputId": "493436bf-a4ae-4374-ca16-0b0c25d19457"
   },
   "outputs": [
    {
     "data": {
      "text/plain": "               0              1              2             3              4  \\\n0  103015.995771  132582.258096  132447.973629  71976.311689  178538.193312   \n1  103282.000000  144259.000000  146122.000000  77799.000000  191050.000000   \n\n               5             6             7             8              9  \n0  116161.551521  67851.843225  98791.559647  113970.00692  167921.073688  \n1  105008.000000  81229.000000  97484.000000  110352.00000  166188.000000  ",
      "text/html": "<div>\n<style scoped>\n    .dataframe tbody tr th:only-of-type {\n        vertical-align: middle;\n    }\n\n    .dataframe tbody tr th {\n        vertical-align: top;\n    }\n\n    .dataframe thead th {\n        text-align: right;\n    }\n</style>\n<table border=\"1\" class=\"dataframe\">\n  <thead>\n    <tr style=\"text-align: right;\">\n      <th></th>\n      <th>0</th>\n      <th>1</th>\n      <th>2</th>\n      <th>3</th>\n      <th>4</th>\n      <th>5</th>\n      <th>6</th>\n      <th>7</th>\n      <th>8</th>\n      <th>9</th>\n    </tr>\n  </thead>\n  <tbody>\n    <tr>\n      <th>0</th>\n      <td>103015.995771</td>\n      <td>132582.258096</td>\n      <td>132447.973629</td>\n      <td>71976.311689</td>\n      <td>178538.193312</td>\n      <td>116161.551521</td>\n      <td>67851.843225</td>\n      <td>98791.559647</td>\n      <td>113970.00692</td>\n      <td>167921.073688</td>\n    </tr>\n    <tr>\n      <th>1</th>\n      <td>103282.000000</td>\n      <td>144259.000000</td>\n      <td>146122.000000</td>\n      <td>77799.000000</td>\n      <td>191050.000000</td>\n      <td>105008.000000</td>\n      <td>81229.000000</td>\n      <td>97484.000000</td>\n      <td>110352.00000</td>\n      <td>166188.000000</td>\n    </tr>\n  </tbody>\n</table>\n</div>"
     },
     "execution_count": 31,
     "metadata": {},
     "output_type": "execute_result"
    }
   ],
   "source": [
    "y_pred = regressor.predict(X_test)\n",
    "\n",
    "pd.DataFrame([y_pred, y_test])"
   ]
  },
  {
   "cell_type": "markdown",
   "metadata": {},
   "source": [
    "## Step 8. Measuring the Model Performance\n",
    "<font color=red> Note: <br> \n",
    " <font color=Green> A typical performance measure for regression problems is the RMSE (Root Mean Square Error)"
   ]
  },
  {
   "cell_type": "code",
   "execution_count": 32,
   "metadata": {},
   "outputs": [
    {
     "name": "stdout",
     "output_type": "stream",
     "text": [
      "RMSE:  9137.824294071946\n"
     ]
    }
   ],
   "source": [
    "from sklearn.metrics import mean_squared_error\n",
    "\n",
    "RMSE = (mean_squared_error(y_pred, y_test)) ** 0.5\n",
    "print('RMSE: ', RMSE)"
   ]
  },
  {
   "cell_type": "markdown",
   "metadata": {},
   "source": [
    "## Step 9. Using the Model to Predict"
   ]
  },
  {
   "cell_type": "code",
   "execution_count": 37,
   "metadata": {},
   "outputs": [
    {
     "name": "stdout",
     "output_type": "stream",
     "text": [
      "The Profit Prediction for the New Factory =  [147126.61557351]\n"
     ]
    }
   ],
   "source": [
    "# Assume we want to check the profit if we open a factory in any of these 3\n",
    "# countries - which will yield a higher profit \n",
    "\n",
    "NewFactory = np.array([0, 0, 1, 100000, 250000, 500000])\n",
    "\n",
    "NewFactory = NewFactory.reshape(1, -1)\n",
    "ProfitPrediction = regressor.predict(NewFactory)\n",
    "print('The Profit Prediction for the New Factory = ', ProfitPrediction)"
   ]
  },
  {
   "cell_type": "code",
   "execution_count": 25,
   "metadata": {},
   "outputs": [],
   "source": []
  }
 ],
 "metadata": {
  "colab": {
   "authorship_tag": "ABX9TyPhYhte6t7H4wEK4xPpDWT7",
   "name": "Multiple Linear Regression",
   "provenance": [],
   "toc_visible": true
  },
  "kernelspec": {
   "display_name": "Python 3",
   "language": "python",
   "name": "python3"
  },
  "language_info": {
   "codemirror_mode": {
    "name": "ipython",
    "version": 3
   },
   "file_extension": ".py",
   "mimetype": "text/x-python",
   "name": "python",
   "nbconvert_exporter": "python",
   "pygments_lexer": "ipython3",
   "version": "3.8.5"
  },
  "toc": {
   "base_numbering": 1,
   "nav_menu": {},
   "number_sections": true,
   "sideBar": true,
   "skip_h1_title": false,
   "title_cell": "Table of Contents",
   "title_sidebar": "Contents",
   "toc_cell": false,
   "toc_position": {},
   "toc_section_display": true,
   "toc_window_display": true
  },
  "varInspector": {
   "cols": {
    "lenName": 16,
    "lenType": 16,
    "lenVar": 40
   },
   "kernels_config": {
    "python": {
     "delete_cmd_postfix": "",
     "delete_cmd_prefix": "del ",
     "library": "var_list.py",
     "varRefreshCmd": "print(var_dic_list())"
    },
    "r": {
     "delete_cmd_postfix": ") ",
     "delete_cmd_prefix": "rm(",
     "library": "var_list.r",
     "varRefreshCmd": "cat(var_dic_list()) "
    }
   },
   "types_to_exclude": [
    "module",
    "function",
    "builtin_function_or_method",
    "instance",
    "_Feature"
   ],
   "window_display": false
  }
 },
 "nbformat": 4,
 "nbformat_minor": 1
}