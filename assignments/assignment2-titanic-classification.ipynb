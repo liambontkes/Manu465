{
 "cells": [
  {
   "cell_type": "markdown",
   "metadata": {
    "pycharm": {
     "name": "#%% md\n"
    }
   },
   "source": [
    "# MANU 465 Assignment 2 - Titanic Survivor Classification"
   ]
  },
  {
   "cell_type": "markdown",
   "metadata": {
    "pycharm": {
     "name": "#%% md\n"
    }
   },
   "source": [
    "### Author:\n",
    "\n",
    "Liam Bontkes, 25530163"
   ]
  },
  {
   "cell_type": "markdown",
   "metadata": {
    "pycharm": {
     "name": "#%% md\n"
    }
   },
   "source": [
    "## 1 Project Description\n",
    "\n",
    "The goal of this project is to create a model which can accurately predict if a passenger survived the Titanic sinking\n",
    "incident, using a dataset of passenger information. Five different machine learning models are compared are trained and\n",
    "compared to give the best result: Discriminant Analysis, KNN, Naive Bayes, SVM-Linear, SVM-Nonlinear."
   ]
  },
  {
   "cell_type": "markdown",
   "metadata": {
    "pycharm": {
     "name": "#%% md\n"
    }
   },
   "source": [
    "## 2 Import libraries"
   ]
  },
  {
   "cell_type": "code",
   "execution_count": 1,
   "metadata": {
    "pycharm": {
     "name": "#%%\n"
    }
   },
   "outputs": [],
   "source": [
    "import numpy as np\n",
    "import matplotlib.pyplot as plt\n",
    "import pandas as pd"
   ]
  },
  {
   "cell_type": "markdown",
   "metadata": {
    "pycharm": {
     "name": "#%% md\n"
    }
   },
   "source": [
    "## 3. Initial Data Preprocessing"
   ]
  },
  {
   "cell_type": "markdown",
   "metadata": {
    "pycharm": {
     "name": "#%% md\n"
    }
   },
   "source": [
    "### 3.1 Import the dataset"
   ]
  },
  {
   "cell_type": "code",
   "execution_count": 2,
   "metadata": {
    "pycharm": {
     "name": "#%%\n"
    }
   },
   "outputs": [],
   "source": [
    "dataset = pd.read_csv('../data/Titanic.csv')"
   ]
  },
  {
   "cell_type": "markdown",
   "metadata": {
    "pycharm": {
     "name": "#%% md\n"
    }
   },
   "source": [
    "### 3.2 View the data"
   ]
  },
  {
   "cell_type": "code",
   "execution_count": 3,
   "metadata": {
    "pycharm": {
     "name": "#%%\n"
    }
   },
   "outputs": [
    {
     "data": {
      "text/plain": "     PassengerId  Pclass                                               Name  \\\n0              1       3                            Braund, Mr. Owen Harris   \n1              2       1  Cumings, Mrs. John Bradley (Florence Briggs Th...   \n2              3       3                             Heikkinen, Miss. Laina   \n3              4       1       Futrelle, Mrs. Jacques Heath (Lily May Peel)   \n4              5       3                           Allen, Mr. William Henry   \n..           ...     ...                                                ...   \n886          887       2                              Montvila, Rev. Juozas   \n887          888       1                       Graham, Miss. Margaret Edith   \n888          889       3           Johnston, Miss. Catherine Helen \"Carrie\"   \n889          890       1                              Behr, Mr. Karl Howell   \n890          891       3                                Dooley, Mr. Patrick   \n\n        Sex   Age  Number of Siblings/Spouses Aboard  \\\n0      male  22.0                                  1   \n1    female  38.0                                  1   \n2    female  26.0                                  0   \n3    female  35.0                                  1   \n4      male  35.0                                  0   \n..      ...   ...                                ...   \n886    male  27.0                                  0   \n887  female  19.0                                  0   \n888  female   NaN                                  1   \n889    male  26.0                                  0   \n890    male  32.0                                  0   \n\n     Number of Parents/Children Aboard     Fare Embarked Survived  \n0                                    0   7.2500        S       No  \n1                                    0  71.2833        C      Yes  \n2                                    0   7.9250        S      Yes  \n3                                    0  53.1000        S      Yes  \n4                                    0   8.0500        S       No  \n..                                 ...      ...      ...      ...  \n886                                  0  13.0000        S       No  \n887                                  0  30.0000        S      Yes  \n888                                  2  23.4500        S       No  \n889                                  0  30.0000        C      Yes  \n890                                  0   7.7500        Q       No  \n\n[891 rows x 10 columns]",
      "text/html": "<div>\n<style scoped>\n    .dataframe tbody tr th:only-of-type {\n        vertical-align: middle;\n    }\n\n    .dataframe tbody tr th {\n        vertical-align: top;\n    }\n\n    .dataframe thead th {\n        text-align: right;\n    }\n</style>\n<table border=\"1\" class=\"dataframe\">\n  <thead>\n    <tr style=\"text-align: right;\">\n      <th></th>\n      <th>PassengerId</th>\n      <th>Pclass</th>\n      <th>Name</th>\n      <th>Sex</th>\n      <th>Age</th>\n      <th>Number of Siblings/Spouses Aboard</th>\n      <th>Number of Parents/Children Aboard</th>\n      <th>Fare</th>\n      <th>Embarked</th>\n      <th>Survived</th>\n    </tr>\n  </thead>\n  <tbody>\n    <tr>\n      <th>0</th>\n      <td>1</td>\n      <td>3</td>\n      <td>Braund, Mr. Owen Harris</td>\n      <td>male</td>\n      <td>22.0</td>\n      <td>1</td>\n      <td>0</td>\n      <td>7.2500</td>\n      <td>S</td>\n      <td>No</td>\n    </tr>\n    <tr>\n      <th>1</th>\n      <td>2</td>\n      <td>1</td>\n      <td>Cumings, Mrs. John Bradley (Florence Briggs Th...</td>\n      <td>female</td>\n      <td>38.0</td>\n      <td>1</td>\n      <td>0</td>\n      <td>71.2833</td>\n      <td>C</td>\n      <td>Yes</td>\n    </tr>\n    <tr>\n      <th>2</th>\n      <td>3</td>\n      <td>3</td>\n      <td>Heikkinen, Miss. Laina</td>\n      <td>female</td>\n      <td>26.0</td>\n      <td>0</td>\n      <td>0</td>\n      <td>7.9250</td>\n      <td>S</td>\n      <td>Yes</td>\n    </tr>\n    <tr>\n      <th>3</th>\n      <td>4</td>\n      <td>1</td>\n      <td>Futrelle, Mrs. Jacques Heath (Lily May Peel)</td>\n      <td>female</td>\n      <td>35.0</td>\n      <td>1</td>\n      <td>0</td>\n      <td>53.1000</td>\n      <td>S</td>\n      <td>Yes</td>\n    </tr>\n    <tr>\n      <th>4</th>\n      <td>5</td>\n      <td>3</td>\n      <td>Allen, Mr. William Henry</td>\n      <td>male</td>\n      <td>35.0</td>\n      <td>0</td>\n      <td>0</td>\n      <td>8.0500</td>\n      <td>S</td>\n      <td>No</td>\n    </tr>\n    <tr>\n      <th>...</th>\n      <td>...</td>\n      <td>...</td>\n      <td>...</td>\n      <td>...</td>\n      <td>...</td>\n      <td>...</td>\n      <td>...</td>\n      <td>...</td>\n      <td>...</td>\n      <td>...</td>\n    </tr>\n    <tr>\n      <th>886</th>\n      <td>887</td>\n      <td>2</td>\n      <td>Montvila, Rev. Juozas</td>\n      <td>male</td>\n      <td>27.0</td>\n      <td>0</td>\n      <td>0</td>\n      <td>13.0000</td>\n      <td>S</td>\n      <td>No</td>\n    </tr>\n    <tr>\n      <th>887</th>\n      <td>888</td>\n      <td>1</td>\n      <td>Graham, Miss. Margaret Edith</td>\n      <td>female</td>\n      <td>19.0</td>\n      <td>0</td>\n      <td>0</td>\n      <td>30.0000</td>\n      <td>S</td>\n      <td>Yes</td>\n    </tr>\n    <tr>\n      <th>888</th>\n      <td>889</td>\n      <td>3</td>\n      <td>Johnston, Miss. Catherine Helen \"Carrie\"</td>\n      <td>female</td>\n      <td>NaN</td>\n      <td>1</td>\n      <td>2</td>\n      <td>23.4500</td>\n      <td>S</td>\n      <td>No</td>\n    </tr>\n    <tr>\n      <th>889</th>\n      <td>890</td>\n      <td>1</td>\n      <td>Behr, Mr. Karl Howell</td>\n      <td>male</td>\n      <td>26.0</td>\n      <td>0</td>\n      <td>0</td>\n      <td>30.0000</td>\n      <td>C</td>\n      <td>Yes</td>\n    </tr>\n    <tr>\n      <th>890</th>\n      <td>891</td>\n      <td>3</td>\n      <td>Dooley, Mr. Patrick</td>\n      <td>male</td>\n      <td>32.0</td>\n      <td>0</td>\n      <td>0</td>\n      <td>7.7500</td>\n      <td>Q</td>\n      <td>No</td>\n    </tr>\n  </tbody>\n</table>\n<p>891 rows × 10 columns</p>\n</div>"
     },
     "execution_count": 3,
     "metadata": {},
     "output_type": "execute_result"
    }
   ],
   "source": [
    "pd.DataFrame(dataset)"
   ]
  },
  {
   "cell_type": "markdown",
   "metadata": {
    "pycharm": {
     "name": "#%% md\n"
    }
   },
   "source": [
    "### 3.3 Review the data"
   ]
  },
  {
   "cell_type": "code",
   "execution_count": 4,
   "metadata": {
    "pycharm": {
     "name": "#%%\n"
    }
   },
   "outputs": [
    {
     "name": "stdout",
     "output_type": "stream",
     "text": [
      "<class 'pandas.core.frame.DataFrame'>\n",
      "RangeIndex: 891 entries, 0 to 890\n",
      "Data columns (total 10 columns):\n",
      " #   Column                             Non-Null Count  Dtype  \n",
      "---  ------                             --------------  -----  \n",
      " 0   PassengerId                        891 non-null    int64  \n",
      " 1   Pclass                             891 non-null    int64  \n",
      " 2   Name                               891 non-null    object \n",
      " 3   Sex                                891 non-null    object \n",
      " 4   Age                                714 non-null    float64\n",
      " 5   Number of Siblings/Spouses Aboard  891 non-null    int64  \n",
      " 6   Number of Parents/Children Aboard  891 non-null    int64  \n",
      " 7   Fare                               891 non-null    float64\n",
      " 8   Embarked                           889 non-null    object \n",
      " 9   Survived                           891 non-null    object \n",
      "dtypes: float64(2), int64(4), object(4)\n",
      "memory usage: 69.7+ KB\n"
     ]
    }
   ],
   "source": [
    "dataset.info()"
   ]
  },
  {
   "cell_type": "markdown",
   "metadata": {
    "pycharm": {
     "name": "#%% md\n"
    }
   },
   "source": [
    "### 3.4 Encode the categorical data"
   ]
  },
  {
   "cell_type": "code",
   "execution_count": 5,
   "metadata": {
    "pycharm": {
     "name": "#%%\n"
    }
   },
   "outputs": [
    {
     "data": {
      "text/plain": "     Sex\n0    0.0\n1    1.0\n2    1.0\n3    1.0\n4    0.0\n..   ...\n886  0.0\n887  1.0\n888  1.0\n889  0.0\n890  0.0\n\n[891 rows x 1 columns]",
      "text/html": "<div>\n<style scoped>\n    .dataframe tbody tr th:only-of-type {\n        vertical-align: middle;\n    }\n\n    .dataframe tbody tr th {\n        vertical-align: top;\n    }\n\n    .dataframe thead th {\n        text-align: right;\n    }\n</style>\n<table border=\"1\" class=\"dataframe\">\n  <thead>\n    <tr style=\"text-align: right;\">\n      <th></th>\n      <th>Sex</th>\n    </tr>\n  </thead>\n  <tbody>\n    <tr>\n      <th>0</th>\n      <td>0.0</td>\n    </tr>\n    <tr>\n      <th>1</th>\n      <td>1.0</td>\n    </tr>\n    <tr>\n      <th>2</th>\n      <td>1.0</td>\n    </tr>\n    <tr>\n      <th>3</th>\n      <td>1.0</td>\n    </tr>\n    <tr>\n      <th>4</th>\n      <td>0.0</td>\n    </tr>\n    <tr>\n      <th>...</th>\n      <td>...</td>\n    </tr>\n    <tr>\n      <th>886</th>\n      <td>0.0</td>\n    </tr>\n    <tr>\n      <th>887</th>\n      <td>1.0</td>\n    </tr>\n    <tr>\n      <th>888</th>\n      <td>1.0</td>\n    </tr>\n    <tr>\n      <th>889</th>\n      <td>0.0</td>\n    </tr>\n    <tr>\n      <th>890</th>\n      <td>0.0</td>\n    </tr>\n  </tbody>\n</table>\n<p>891 rows × 1 columns</p>\n</div>"
     },
     "execution_count": 5,
     "metadata": {},
     "output_type": "execute_result"
    }
   ],
   "source": [
    "# passenger sex: male and female\n",
    "sexes = {\n",
    "    'male': 0.0,\n",
    "    'female': 1.0\n",
    "}\n",
    "dataset['Sex'] = dataset['Sex'].map(sexes)\n",
    "pd.DataFrame(dataset['Sex'])"
   ]
  },
  {
   "cell_type": "code",
   "execution_count": 6,
   "metadata": {
    "pycharm": {
     "name": "#%%\n"
    }
   },
   "outputs": [
    {
     "data": {
      "text/plain": "     Embarked\n0         0.0\n1         1.0\n2         0.0\n3         0.0\n4         0.0\n..        ...\n886       0.0\n887       0.0\n888       0.0\n889       1.0\n890       2.0\n\n[891 rows x 1 columns]",
      "text/html": "<div>\n<style scoped>\n    .dataframe tbody tr th:only-of-type {\n        vertical-align: middle;\n    }\n\n    .dataframe tbody tr th {\n        vertical-align: top;\n    }\n\n    .dataframe thead th {\n        text-align: right;\n    }\n</style>\n<table border=\"1\" class=\"dataframe\">\n  <thead>\n    <tr style=\"text-align: right;\">\n      <th></th>\n      <th>Embarked</th>\n    </tr>\n  </thead>\n  <tbody>\n    <tr>\n      <th>0</th>\n      <td>0.0</td>\n    </tr>\n    <tr>\n      <th>1</th>\n      <td>1.0</td>\n    </tr>\n    <tr>\n      <th>2</th>\n      <td>0.0</td>\n    </tr>\n    <tr>\n      <th>3</th>\n      <td>0.0</td>\n    </tr>\n    <tr>\n      <th>4</th>\n      <td>0.0</td>\n    </tr>\n    <tr>\n      <th>...</th>\n      <td>...</td>\n    </tr>\n    <tr>\n      <th>886</th>\n      <td>0.0</td>\n    </tr>\n    <tr>\n      <th>887</th>\n      <td>0.0</td>\n    </tr>\n    <tr>\n      <th>888</th>\n      <td>0.0</td>\n    </tr>\n    <tr>\n      <th>889</th>\n      <td>1.0</td>\n    </tr>\n    <tr>\n      <th>890</th>\n      <td>2.0</td>\n    </tr>\n  </tbody>\n</table>\n<p>891 rows × 1 columns</p>\n</div>"
     },
     "execution_count": 6,
     "metadata": {},
     "output_type": "execute_result"
    }
   ],
   "source": [
    "# passenger port of embarkation\n",
    "ports = {\n",
    "    'S': 0.0,\n",
    "    'C': 1.0,\n",
    "    'Q': 2.0\n",
    "}\n",
    "dataset['Embarked'] = dataset['Embarked'].map(ports)\n",
    "pd.DataFrame(dataset['Embarked'])"
   ]
  },
  {
   "cell_type": "markdown",
   "metadata": {
    "pycharm": {
     "name": "#%% md\n"
    }
   },
   "source": [
    "### 3.5 Encode the output data"
   ]
  },
  {
   "cell_type": "code",
   "execution_count": 7,
   "metadata": {
    "pycharm": {
     "name": "#%%\n"
    }
   },
   "outputs": [
    {
     "data": {
      "text/plain": "     Survived\n0           0\n1           1\n2           1\n3           1\n4           0\n..        ...\n886         0\n887         1\n888         0\n889         1\n890         0\n\n[891 rows x 1 columns]",
      "text/html": "<div>\n<style scoped>\n    .dataframe tbody tr th:only-of-type {\n        vertical-align: middle;\n    }\n\n    .dataframe tbody tr th {\n        vertical-align: top;\n    }\n\n    .dataframe thead th {\n        text-align: right;\n    }\n</style>\n<table border=\"1\" class=\"dataframe\">\n  <thead>\n    <tr style=\"text-align: right;\">\n      <th></th>\n      <th>Survived</th>\n    </tr>\n  </thead>\n  <tbody>\n    <tr>\n      <th>0</th>\n      <td>0</td>\n    </tr>\n    <tr>\n      <th>1</th>\n      <td>1</td>\n    </tr>\n    <tr>\n      <th>2</th>\n      <td>1</td>\n    </tr>\n    <tr>\n      <th>3</th>\n      <td>1</td>\n    </tr>\n    <tr>\n      <th>4</th>\n      <td>0</td>\n    </tr>\n    <tr>\n      <th>...</th>\n      <td>...</td>\n    </tr>\n    <tr>\n      <th>886</th>\n      <td>0</td>\n    </tr>\n    <tr>\n      <th>887</th>\n      <td>1</td>\n    </tr>\n    <tr>\n      <th>888</th>\n      <td>0</td>\n    </tr>\n    <tr>\n      <th>889</th>\n      <td>1</td>\n    </tr>\n    <tr>\n      <th>890</th>\n      <td>0</td>\n    </tr>\n  </tbody>\n</table>\n<p>891 rows × 1 columns</p>\n</div>"
     },
     "execution_count": 7,
     "metadata": {},
     "output_type": "execute_result"
    }
   ],
   "source": [
    "from sklearn.preprocessing import LabelEncoder\n",
    "\n",
    "le = LabelEncoder()\n",
    "\n",
    "# whether or not they survived\n",
    "dataset['Survived'] = le.fit_transform(dataset['Survived'])\n",
    "pd.DataFrame(dataset['Survived'])"
   ]
  },
  {
   "cell_type": "markdown",
   "metadata": {
    "pycharm": {
     "name": "#%% md\n"
    }
   },
   "source": [
    "## 4 Determine the relevant features of the dataset"
   ]
  },
  {
   "cell_type": "markdown",
   "metadata": {
    "pycharm": {
     "name": "#%% md\n"
    }
   },
   "source": [
    "### 4.1 Check the correlation between the inputs and output features"
   ]
  },
  {
   "cell_type": "code",
   "execution_count": 8,
   "metadata": {
    "pycharm": {
     "name": "#%%\n"
    }
   },
   "outputs": [
    {
     "data": {
      "text/plain": "<Figure size 432x288 with 2 Axes>",
      "image/png": "[encoded data removed]"
     },
     "metadata": {},
     "output_type": "display_data"
    },
    {
     "data": {
      "text/plain": "Survived                             1.000000\nSex                                  0.543351\nFare                                 0.257307\nEmbarked                             0.108669\nNumber of Parents/Children Aboard    0.081629\nPassengerId                         -0.005007\nNumber of Siblings/Spouses Aboard   -0.035322\nAge                                 -0.077221\nPclass                              -0.338481\nName: Survived, dtype: float64"
     },
     "execution_count": 8,
     "metadata": {},
     "output_type": "execute_result"
    }
   ],
   "source": [
    "from seaborn import heatmap\n",
    "\n",
    "corr_matrix = dataset.corr()\n",
    "mask = np.triu(np.ones_like(corr_matrix, dtype=bool))  # Only keep the upper triangle of an array.\n",
    "\n",
    "plt.style.use('dark_background')\n",
    "plt.figure()\n",
    "plt.title('Correlation Analysis')\n",
    "heatmap(\n",
    "    corr_matrix,\n",
    "    mask=mask,\n",
    "    annot=False,\n",
    "    lw=0,\n",
    "    linecolor='white',\n",
    "    cmap='magma',\n",
    "    fmt=\"0.2f\"\n",
    ")\n",
    "plt.xticks(rotation=90)\n",
    "plt.yticks(rotation=0)\n",
    "plt.show()\n",
    "\n",
    "corr_matrix['Survived'].sort_values(ascending=False)"
   ]
  },
  {
   "cell_type": "markdown",
   "metadata": {
    "pycharm": {
     "name": "#%% md\n"
    }
   },
   "source": [
    "All the inputs have reasonable correlation, so will keep all of them."
   ]
  },
  {
   "cell_type": "markdown",
   "metadata": {
    "pycharm": {
     "name": "#%% md\n"
    }
   },
   "source": [
    "## 5 Split the Dataset into Training and Test Sets"
   ]
  },
  {
   "cell_type": "code",
   "execution_count": 9,
   "metadata": {
    "pycharm": {
     "name": "#%%\n"
    }
   },
   "outputs": [
    {
     "name": "stdout",
     "output_type": "stream",
     "text": [
      "<class 'pandas.core.frame.DataFrame'>\n",
      "Int64Index: 712 entries, 522 to 108\n",
      "Data columns (total 8 columns):\n",
      " #   Column                             Non-Null Count  Dtype  \n",
      "---  ------                             --------------  -----  \n",
      " 0   Pclass                             712 non-null    int64  \n",
      " 1   Sex                                712 non-null    float64\n",
      " 2   Age                                561 non-null    float64\n",
      " 3   Number of Siblings/Spouses Aboard  712 non-null    int64  \n",
      " 4   Number of Parents/Children Aboard  712 non-null    int64  \n",
      " 5   Fare                               712 non-null    float64\n",
      " 6   Embarked                           710 non-null    float64\n",
      " 7   Survived                           712 non-null    int64  \n",
      "dtypes: float64(4), int64(4)\n",
      "memory usage: 50.1 KB\n"
     ]
    }
   ],
   "source": [
    "from sklearn.model_selection import train_test_split\n",
    "\n",
    "train_data, test_data = train_test_split(dataset, test_size=0.2)\n",
    "\n",
    "train_y = train_data[['Survived']].copy()\n",
    "test_y = test_data[['Survived']].copy()\n",
    "\n",
    "train_x = train_data.drop(['PassengerId', 'Name'], axis=1)  # drop passenger id and name because they are irrelevant\n",
    "test_x = test_data.drop(['PassengerId', 'Name'], axis=1)\n",
    "\n",
    "train_x.info()\n",
    "\n",
    "train_x = train_x.to_numpy()\n",
    "test_x = test_x.to_numpy()\n",
    "\n",
    "train_y = train_y.to_numpy()\n",
    "train_y = train_y.ravel()\n",
    "test_y = test_y.to_numpy()\n",
    "test_y = test_y.ravel()"
   ]
  },
  {
   "cell_type": "markdown",
   "metadata": {},
   "source": [
    "### 5.1 Fill missing data"
   ]
  },
  {
   "cell_type": "code",
   "execution_count": 10,
   "metadata": {
    "pycharm": {
     "name": "#%%\n"
    }
   },
   "outputs": [],
   "source": [
    "from sklearn.impute import SimpleImputer\n",
    "\n",
    "imputer = SimpleImputer(missing_values=np.nan, strategy='mean')\n",
    "train_x = imputer.fit_transform(train_x)\n",
    "test_x = imputer.fit_transform(test_x)"
   ]
  },
  {
   "cell_type": "markdown",
   "metadata": {
    "pycharm": {
     "name": "#%% md\n"
    }
   },
   "source": [
    "## 6 Visualise the Data"
   ]
  },
  {
   "cell_type": "code",
   "execution_count": 11,
   "metadata": {
    "pycharm": {
     "name": "#%%\n"
    }
   },
   "outputs": [
    {
     "data": {
      "text/plain": "<Figure size 432x288 with 1 Axes>",
      "image/png": "[encoded data removed]"
     },
     "metadata": {},
     "output_type": "display_data"
    }
   ],
   "source": [
    "def plot_scatter_with_labels(x1, x2, y, x_label='Age', y_label='Fare'):\n",
    "    df = pd.DataFrame(\n",
    "        dict(\n",
    "            x1=x1,\n",
    "            x2=x2,\n",
    "            label=y\n",
    "        )\n",
    "    )\n",
    "    groups = df.groupby('label')\n",
    "\n",
    "    for number, group in groups:\n",
    "        if number == 0:\n",
    "            name = 'Perished'\n",
    "        elif number == 1:\n",
    "            name = 'Survived'\n",
    "        plt.plot(\n",
    "            group.x1,\n",
    "            group.x2,\n",
    "            marker=\"o\",\n",
    "            linestyle=\"\",\n",
    "            ms=3,\n",
    "            label=name)\n",
    "\n",
    "    plt.legend()\n",
    "    plt.xlabel(x_label)\n",
    "    plt.ylabel(y_label)\n",
    "\n",
    "\n",
    "plot_scatter_with_labels(\n",
    "    x1=train_data['Age'],\n",
    "    x2=train_data['Fare'],\n",
    "    y=train_data['Survived']\n",
    ")"
   ]
  },
  {
   "cell_type": "markdown",
   "metadata": {
    "pycharm": {
     "name": "#%% md\n"
    }
   },
   "source": [
    "## 7 Scale the Features"
   ]
  },
  {
   "cell_type": "code",
   "execution_count": 12,
   "metadata": {
    "pycharm": {
     "name": "#%%\n"
    }
   },
   "outputs": [],
   "source": [
    "from sklearn.preprocessing import StandardScaler\n",
    "\n",
    "scaler = StandardScaler()\n",
    "train_x = scaler.fit_transform(train_x)"
   ]
  },
  {
   "cell_type": "markdown",
   "metadata": {},
   "source": [
    "## 8 Test and Train Different Machine Learning Models"
   ]
  },
  {
   "cell_type": "markdown",
   "metadata": {
    "pycharm": {
     "name": "#%% md\n"
    }
   },
   "source": [
    "### 8.1 Discriminant Analysis Classifier"
   ]
  },
  {
   "cell_type": "code",
   "execution_count": 13,
   "metadata": {
    "pycharm": {
     "name": "#%%\n"
    }
   },
   "outputs": [
    {
     "data": {
      "text/plain": "LinearDiscriminantAnalysis()"
     },
     "execution_count": 13,
     "metadata": {},
     "output_type": "execute_result"
    }
   ],
   "source": [
    "from sklearn.discriminant_analysis import LinearDiscriminantAnalysis\n",
    "\n",
    "da_model = LinearDiscriminantAnalysis()\n",
    "da_model.fit(train_x, train_y)"
   ]
  },
  {
   "cell_type": "markdown",
   "metadata": {},
   "source": [
    "#### Cross Validation"
   ]
  },
  {
   "cell_type": "code",
   "execution_count": 14,
   "metadata": {
    "pycharm": {
     "name": "#%%\n"
    }
   },
   "outputs": [
    {
     "name": "stdout",
     "output_type": "stream",
     "text": [
      "Averaged prediction accuracy = 1.0\n"
     ]
    }
   ],
   "source": [
    "from sklearn.model_selection import cross_val_score\n",
    "\n",
    "scores = cross_val_score(da_model, train_x, train_y, scoring='accuracy', cv=5)  # 5-fold\n",
    "print(f'Averaged prediction accuracy = {np.average(scores)}')\n",
    "\n",
    "avg_cv_scores = dict()\n",
    "avg_cv_scores['da_model'] = np.average(scores)"
   ]
  },
  {
   "cell_type": "markdown",
   "metadata": {},
   "source": [
    "#### Visualisation"
   ]
  },
  {
   "cell_type": "code",
   "execution_count": 15,
   "metadata": {
    "pycharm": {
     "name": "#%%\n"
    }
   },
   "outputs": [],
   "source": [
    "def plot_decision_boundary(model, axes, inverse_transform=False):\n",
    "    x0s = np.linspace(axes[0], axes[1], 100)\n",
    "    x1s = np.linspace(axes[2], axes[3], 100)\n",
    "    x0, x1 = np.meshgrid(x0s, x1s)\n",
    "    x = np.c_[x0.ravel(), x1.ravel()]\n",
    "    y_pred = model.predict(x).reshape(100, 100)\n",
    "    if inverse_transform:\n",
    "        x = scaler.inverse_transform(np.c_[x0s, x1s])\n",
    "        x0, x1 = np.meshgrid(x[:, 0], x[:, 1])\n",
    "    plt.contourf(x0, x1, y_pred, cmap=plt.cm.brg, alpha=0.2)\n",
    "\n",
    "\n",
    "def plot_prediction_results(model, x, y):\n",
    "    plot_decision_boundary(model, [-3, 3, -3, 3])\n",
    "    plot_scatter_with_labels(x[:, 0], x[:, 1], y, xlabel='Scaled Age', ylabel='Scaled Fare')\n",
    "\n",
    "# plot_prediction_results(da_model, train_x, train_y)"
   ]
  },
  {
   "cell_type": "markdown",
   "metadata": {},
   "source": [
    "### 8.2 Naive Bayes Classifier"
   ]
  },
  {
   "cell_type": "code",
   "execution_count": 16,
   "metadata": {
    "pycharm": {
     "name": "#%%\n"
    }
   },
   "outputs": [
    {
     "name": "stdout",
     "output_type": "stream",
     "text": [
      "Averaged prediction accuracy =  1.0\n"
     ]
    }
   ],
   "source": [
    "from sklearn.naive_bayes import GaussianNB\n",
    "\n",
    "nb_model = GaussianNB()\n",
    "nb_model.fit(train_x, train_y)\n",
    "\n",
    "scores = cross_val_score(nb_model, train_x, train_y, scoring='accuracy', cv=5)\n",
    "\n",
    "print('Averaged prediction accuracy = ', np.average(scores))\n",
    "avg_cv_scores['nb_model'] = np.average(scores)"
   ]
  },
  {
   "cell_type": "markdown",
   "metadata": {},
   "source": [
    "### 8.3 K-Nearest Neighbors"
   ]
  },
  {
   "cell_type": "code",
   "execution_count": 17,
   "metadata": {
    "pycharm": {
     "name": "#%%\n"
    }
   },
   "outputs": [
    {
     "name": "stdout",
     "output_type": "stream",
     "text": [
      "Averaged prediction accuracy =  0.9929774450901212\n"
     ]
    }
   ],
   "source": [
    "from sklearn.neighbors import KNeighborsClassifier\n",
    "\n",
    "knn_model = KNeighborsClassifier(n_neighbors=5)\n",
    "knn_model.fit(train_x, train_y)\n",
    "\n",
    "scores = cross_val_score(knn_model, train_x, train_y, scoring='accuracy', cv=5)\n",
    "\n",
    "print('Averaged prediction accuracy = ', np.average(scores))\n",
    "avg_cv_scores['knn_model'] = np.average(scores)"
   ]
  },
  {
   "cell_type": "markdown",
   "metadata": {},
   "source": [
    "### 8.4 Linear SVM"
   ]
  },
  {
   "cell_type": "code",
   "execution_count": 18,
   "metadata": {
    "pycharm": {
     "name": "#%%\n"
    }
   },
   "outputs": [
    {
     "name": "stdout",
     "output_type": "stream",
     "text": [
      "Averaged prediction accuracy =  1.0\n"
     ]
    }
   ],
   "source": [
    "from sklearn.svm import SVC\n",
    "\n",
    "svm_linear_model = SVC(kernel='linear')\n",
    "svm_linear_model.fit(train_x, train_y)\n",
    "\n",
    "scores = cross_val_score(svm_linear_model, train_x, train_y, scoring='accuracy', cv=5)\n",
    "\n",
    "print('Averaged prediction accuracy = ', np.average(scores))\n",
    "avg_cv_scores['svm_linear_model'] = np.average(scores)"
   ]
  },
  {
   "cell_type": "markdown",
   "metadata": {},
   "source": [
    "### 8.5 Nonlinear SVM (Gaussian Kernel)"
   ]
  },
  {
   "cell_type": "code",
   "execution_count": 19,
   "metadata": {
    "pycharm": {
     "name": "#%%\n"
    }
   },
   "outputs": [
    {
     "name": "stdout",
     "output_type": "stream",
     "text": [
      "Averaged prediction accuracy =  0.9985915492957746\n"
     ]
    }
   ],
   "source": [
    "from sklearn.svm import SVC\n",
    "\n",
    "svm_rbf_model = SVC(kernel='rbf')\n",
    "svm_rbf_model.fit(train_x, train_y)\n",
    "\n",
    "scores = cross_val_score(svm_rbf_model, train_x, train_y, scoring='accuracy', cv=5)\n",
    "\n",
    "print('Averaged prediction accuracy = ', np.average(scores))\n",
    "avg_cv_scores['svm_nonlinear'] = np.average(scores)"
   ]
  },
  {
   "cell_type": "markdown",
   "metadata": {},
   "source": [
    "### 8.6 Decision Tree"
   ]
  },
  {
   "cell_type": "code",
   "execution_count": 20,
   "metadata": {
    "pycharm": {
     "name": "#%%\n"
    }
   },
   "outputs": [
    {
     "name": "stdout",
     "output_type": "stream",
     "text": [
      "Averaged prediction accuracy =  1.0\n"
     ]
    }
   ],
   "source": [
    "from sklearn.tree import DecisionTreeClassifier\n",
    "\n",
    "tree_model = DecisionTreeClassifier(max_depth=3)\n",
    "tree_model.fit(train_x, train_y)\n",
    "\n",
    "scores = cross_val_score(tree_model, train_x, train_y, scoring='accuracy', cv=5)\n",
    "\n",
    "print('Averaged prediction accuracy = ', np.average(scores))\n",
    "avg_cv_scores['decision_tree'] = np.average(scores)"
   ]
  },
  {
   "cell_type": "markdown",
   "metadata": {},
   "source": [
    "## 9 Comparing and Selecting the Model"
   ]
  },
  {
   "cell_type": "code",
   "execution_count": 21,
   "metadata": {
    "pycharm": {
     "name": "#%%\n"
    }
   },
   "outputs": [
    {
     "name": "stdout",
     "output_type": "stream",
     "text": [
      "Average Cross Validation score for the da_model: 1.0\n",
      "Average Cross Validation score for the nb_model: 1.0\n",
      "Average Cross Validation score for the knn_model: 0.9929774450901212\n",
      "Average Cross Validation score for the svm_linear_model: 1.0\n",
      "Average Cross Validation score for the svm_nonlinear: 0.9985915492957746\n",
      "Average Cross Validation score for the decision_tree: 1.0\n"
     ]
    }
   ],
   "source": [
    "# see the model performances\n",
    "for model in avg_cv_scores:\n",
    "    print(f\"Average Cross Validation score for the {model}: {avg_cv_scores[model]}\")"
   ]
  },
  {
   "cell_type": "code",
   "execution_count": 22,
   "metadata": {
    "pycharm": {
     "name": "#%%\n"
    }
   },
   "outputs": [
    {
     "name": "stdout",
     "output_type": "stream",
     "text": [
      "Test accuracy of the Linear Discriminant model: 1.0\n",
      "Test accuracy of the Naive Bayes model: 1.0\n",
      "Test accuracy of the SVM Linear model: 1.0\n",
      "Test accuracy of the Decision Tree model: 1.0\n"
     ]
    }
   ],
   "source": [
    "# test all models with 100% accuracy\n",
    "test_models = [\n",
    "    ('Linear Discriminant', da_model),\n",
    "    ('Naive Bayes', nb_model),\n",
    "    ('SVM Linear', svm_linear_model),\n",
    "    ('Decision Tree', tree_model)\n",
    "]\n",
    "\n",
    "for model in test_models:\n",
    "    pred_y = model[1].predict(test_x)\n",
    "    print(f\"Test accuracy of the {model[0]} model: {np.sum(pred_y == test_y) / len(pred_y)}\")"
   ]
  },
  {
   "cell_type": "markdown",
   "metadata": {
    "pycharm": {
     "name": "#%% md\n"
    }
   },
   "source": [
    "## 9 Conclusion\n",
    "\n",
    "All the classifier models performed very well, with 4 of the models achieving an average cross validation accuracy AND\n",
    "test accuracy of 100%. This can be attributed to 4 of the features having a strong correlation with the output; the\n",
    "'Sex' feature in particular is very highly correlated.\n",
    "\n",
    "The most performant models tested were the Linear Discriminant, Naive Bayes, Linear SVM, and Decision Tree models."
   ]
  }
 ],
 "metadata": {
  "kernelspec": {
   "display_name": "Python 3 (ipykernel)",
   "language": "python",
   "name": "python3"
  },
  "language_info": {
   "codemirror_mode": {
    "name": "ipython",
    "version": 3
   },
   "file_extension": ".py",
   "mimetype": "text/x-python",
   "name": "python",
   "nbconvert_exporter": "python",
   "pygments_lexer": "ipython3",
   "version": "3.8.10"
  }
 },
 "nbformat": 4,
 "nbformat_minor": 1
}