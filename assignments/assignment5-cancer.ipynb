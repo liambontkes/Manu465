{
 "cells": [
  {
   "cell_type": "markdown",
   "metadata": {
    "collapsed": true,
    "pycharm": {
     "name": "#%% md\n"
    }
   },
   "source": [
    "# MANU 465 Assignment 4 - Semiconductor Manufacturing Process Logistic Regression"
   ]
  },
  {
   "cell_type": "markdown",
   "source": [
    "### Author:\n",
    "\n",
    "Liam Bontkes, 25530163"
   ],
   "metadata": {
    "collapsed": false
   }
  },
  {
   "cell_type": "markdown",
   "source": [
    "## 1 Project Description\n",
    "\n",
    "This project goes builds a model to predict the status of part (Pass/Fail) from the Semiconductor Manufacturing Process\n",
    "dataset. The model will be built using the Logistic Regression method."
   ],
   "metadata": {
    "collapsed": false
   }
  }
 ],
 "metadata": {
  "kernelspec": {
   "display_name": "Python 3",
   "language": "python",
   "name": "python3"
  },
  "language_info": {
   "codemirror_mode": {
    "name": "ipython",
    "version": 2
   },
   "file_extension": ".py",
   "mimetype": "text/x-python",
   "name": "python",
   "nbconvert_exporter": "python",
   "pygments_lexer": "ipython2",
   "version": "2.7.6"
  }
 },
 "nbformat": 4,
 "nbformat_minor": 0
}