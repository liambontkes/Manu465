{
 "cells": [
  {
   "cell_type": "markdown",
   "metadata": {
    "colab_type": "text",
    "id": "37puETfgRzzg"
   },
   "source": [
    "# MANU 465 Assignment 3 - Semiconductor Manufacturing Process Logistic Regression"
   ]
  },
  {
   "cell_type": "markdown",
   "source": [
    "### Author:\n",
    "\n",
    "Liam Bontkes, 25530163"
   ],
   "metadata": {
    "collapsed": false,
    "pycharm": {
     "name": "#%% md\n"
    }
   }
  },
  {
   "cell_type": "markdown",
   "metadata": {},
   "source": [
    "## 1 Project Description\n",
    "\n",
    "This project goes builds a model to predict the status of part (Pass/Fail) from the Semiconductor Manufacturing Process\n",
    "dataset. The model will be built using the Logistic Regression method."
   ]
  },
  {
   "cell_type": "markdown",
   "source": [
    "### 1.1 Background\n",
    "\n",
    "Source: https://www.kaggle.com/saurabhbagchi/fmst-semiconductor-manufacturing-project\n",
    "\n",
    "A complex modern semiconductor manufacturing process is normally under constant surveillance via the monitoring of\n",
    "signals/variables collected from sensors and or process measurement points. However, not all of these signals are\n",
    "equally valuable in a specific monitoring system. The measured signals contain a combination of useful information,\n",
    "irrelevant information as well as noise. Engineers typically have a much larger number of signals than are actually\n",
    "required. If we consider each type of signal as a feature, then feature selection may be applied to identify the most\n",
    "relevant signals. The Process Engineers may then use these signals to determine key factors contributing to yield\n",
    "excursions downstream in the process. This will enable an increase in process throughput, decreased time to learning,\n",
    "and reduce per-unit production costs. These signals can be used as features to predict the yield type. And by analyzing\n",
    "and trying out different combinations of features, essential signals that are impacting the yield type can be\n",
    "identified."
   ],
   "metadata": {
    "collapsed": false,
    "pycharm": {
     "name": "#%% md\n"
    }
   }
  },
  {
   "cell_type": "markdown",
   "source": [
    "## 2 Importing the Libraries"
   ],
   "metadata": {
    "collapsed": false
   }
  },
  {
   "cell_type": "code",
   "execution_count": 47,
   "outputs": [],
   "source": [
    "import numpy as np\n",
    "import matplotlib.pyplot as plt\n",
    "import pandas as pd"
   ],
   "metadata": {
    "collapsed": false,
    "pycharm": {
     "name": "#%%\n"
    }
   }
  },
  {
   "cell_type": "markdown",
   "source": [
    "## 3 Data Preprocessing"
   ],
   "metadata": {
    "collapsed": false,
    "pycharm": {
     "name": "#%% md\n"
    }
   }
  },
  {
   "cell_type": "markdown",
   "metadata": {
    "colab_type": "text",
    "id": "RopL7tUZSQkT"
   },
   "source": [
    "### 3.1 Importing the Dataset"
   ]
  },
  {
   "cell_type": "code",
   "execution_count": 48,
   "metadata": {
    "colab": {},
    "colab_type": "code",
    "id": "WwEPNDWySTKm"
   },
   "outputs": [],
   "source": [
    "dataset = pd.read_csv('../data/SemiconductorManufacturingProcess.csv')"
   ]
  },
  {
   "cell_type": "markdown",
   "metadata": {},
   "source": [
    "### 3.2 Showing the Dataset in a Table"
   ]
  },
  {
   "cell_type": "code",
   "execution_count": 49,
   "metadata": {},
   "outputs": [
    {
     "data": {
      "text/plain": "                  Time  Sensor 1  Sensor 2   Sensor 3   Sensor 4  Sensor 5  \\\n0      7/19/2008 11:55   3030.93   2564.00  2187.7333  1411.1265    1.3602   \n1      7/19/2008 12:32   3095.78   2465.14  2230.4222  1463.6606    0.8294   \n2      7/19/2008 13:17   2932.61   2559.94  2186.4111  1698.0172    1.5102   \n3      7/19/2008 14:43   2988.72   2479.90  2199.0333   909.7926    1.3204   \n4      7/19/2008 15:22   3032.24   2502.87  2233.3667  1326.5200    1.5334   \n...                ...       ...       ...        ...        ...       ...   \n1562  10/16/2008 15:13   2899.41   2464.36  2179.7333  3085.3781    1.4843   \n1563  10/16/2008 20:49   3052.31   2522.55  2198.5667  1124.6595    0.8763   \n1564   10/17/2008 5:26   2978.81   2379.78  2206.3000  1110.4967    0.8236   \n1565   10/17/2008 6:01   2894.92   2532.01  2177.0333  1183.7287    1.5726   \n1566   10/17/2008 6:07   2944.92   2450.76  2195.4444  2914.1792    1.5978   \n\n      Sensor 6  Sensor 7  Sensor 8  Sensor 9  ...  Sensor 429  Sensor 430  \\\n0      97.6133    0.1242    1.5005    0.0162  ...     14.9509      0.5005   \n1     102.3433    0.1247    1.4966   -0.0005  ...     10.9003      0.5019   \n2      95.4878    0.1241    1.4436    0.0041  ...      9.2721      0.4958   \n3     104.2367    0.1217    1.4882   -0.0124  ...      8.5831      0.4990   \n4     100.3967    0.1235    1.5031   -0.0031  ...     10.9698      0.4800   \n...        ...       ...       ...       ...  ...         ...         ...   \n1562   82.2467    0.1248    1.3424   -0.0045  ...     11.7256      0.4988   \n1563   98.4689    0.1205    1.4333   -0.0061  ...     17.8379      0.4975   \n1564   99.4122    0.1208       NaN       NaN  ...     17.7267      0.4987   \n1565   98.7978    0.1213    1.4622   -0.0072  ...     19.2104      0.5004   \n1566   85.1011    0.1235       NaN       NaN  ...     22.9183      0.4987   \n\n      Sensor 431  Sensor 432  Sensor 433  Sensor 434  Sensor 435  Sensor 436  \\\n0         0.0118      0.0035      2.3630         NaN         NaN         NaN   \n1         0.0223      0.0055      4.4447      0.0096      0.0201      0.0060   \n2         0.0157      0.0039      3.1745      0.0584      0.0484      0.0148   \n3         0.0103      0.0025      2.0544      0.0202      0.0149      0.0044   \n4         0.4766      0.1045     99.3032      0.0202      0.0149      0.0044   \n...          ...         ...         ...         ...         ...         ...   \n1562      0.0143      0.0039      2.8669      0.0068      0.0138      0.0047   \n1563      0.0131      0.0036      2.6238      0.0068      0.0138      0.0047   \n1564      0.0153      0.0041      3.0590      0.0197      0.0086      0.0025   \n1565      0.0178      0.0038      3.5662      0.0262      0.0245      0.0075   \n1566      0.0181      0.0040      3.6275      0.0117      0.0162      0.0045   \n\n      Sensor 437  Pass/Fail  \n0            NaN       Pass  \n1       208.2045       Pass  \n2        82.8602       Fail  \n3        73.8432       Pass  \n4        73.8432       Pass  \n...          ...        ...  \n1562    203.1720       Pass  \n1563    203.1720       Pass  \n1564     43.5231       Pass  \n1565     93.4941       Pass  \n1566    137.7844       Pass  \n\n[1567 rows x 439 columns]",
      "text/html": "<div>\n<style scoped>\n    .dataframe tbody tr th:only-of-type {\n        vertical-align: middle;\n    }\n\n    .dataframe tbody tr th {\n        vertical-align: top;\n    }\n\n    .dataframe thead th {\n        text-align: right;\n    }\n</style>\n<table border=\"1\" class=\"dataframe\">\n  <thead>\n    <tr style=\"text-align: right;\">\n      <th></th>\n      <th>Time</th>\n      <th>Sensor 1</th>\n      <th>Sensor 2</th>\n      <th>Sensor 3</th>\n      <th>Sensor 4</th>\n      <th>Sensor 5</th>\n      <th>Sensor 6</th>\n      <th>Sensor 7</th>\n      <th>Sensor 8</th>\n      <th>Sensor 9</th>\n      <th>...</th>\n      <th>Sensor 429</th>\n      <th>Sensor 430</th>\n      <th>Sensor 431</th>\n      <th>Sensor 432</th>\n      <th>Sensor 433</th>\n      <th>Sensor 434</th>\n      <th>Sensor 435</th>\n      <th>Sensor 436</th>\n      <th>Sensor 437</th>\n      <th>Pass/Fail</th>\n    </tr>\n  </thead>\n  <tbody>\n    <tr>\n      <th>0</th>\n      <td>7/19/2008 11:55</td>\n      <td>3030.93</td>\n      <td>2564.00</td>\n      <td>2187.7333</td>\n      <td>1411.1265</td>\n      <td>1.3602</td>\n      <td>97.6133</td>\n      <td>0.1242</td>\n      <td>1.5005</td>\n      <td>0.0162</td>\n      <td>...</td>\n      <td>14.9509</td>\n      <td>0.5005</td>\n      <td>0.0118</td>\n      <td>0.0035</td>\n      <td>2.3630</td>\n      <td>NaN</td>\n      <td>NaN</td>\n      <td>NaN</td>\n      <td>NaN</td>\n      <td>Pass</td>\n    </tr>\n    <tr>\n      <th>1</th>\n      <td>7/19/2008 12:32</td>\n      <td>3095.78</td>\n      <td>2465.14</td>\n      <td>2230.4222</td>\n      <td>1463.6606</td>\n      <td>0.8294</td>\n      <td>102.3433</td>\n      <td>0.1247</td>\n      <td>1.4966</td>\n      <td>-0.0005</td>\n      <td>...</td>\n      <td>10.9003</td>\n      <td>0.5019</td>\n      <td>0.0223</td>\n      <td>0.0055</td>\n      <td>4.4447</td>\n      <td>0.0096</td>\n      <td>0.0201</td>\n      <td>0.0060</td>\n      <td>208.2045</td>\n      <td>Pass</td>\n    </tr>\n    <tr>\n      <th>2</th>\n      <td>7/19/2008 13:17</td>\n      <td>2932.61</td>\n      <td>2559.94</td>\n      <td>2186.4111</td>\n      <td>1698.0172</td>\n      <td>1.5102</td>\n      <td>95.4878</td>\n      <td>0.1241</td>\n      <td>1.4436</td>\n      <td>0.0041</td>\n      <td>...</td>\n      <td>9.2721</td>\n      <td>0.4958</td>\n      <td>0.0157</td>\n      <td>0.0039</td>\n      <td>3.1745</td>\n      <td>0.0584</td>\n      <td>0.0484</td>\n      <td>0.0148</td>\n      <td>82.8602</td>\n      <td>Fail</td>\n    </tr>\n    <tr>\n      <th>3</th>\n      <td>7/19/2008 14:43</td>\n      <td>2988.72</td>\n      <td>2479.90</td>\n      <td>2199.0333</td>\n      <td>909.7926</td>\n      <td>1.3204</td>\n      <td>104.2367</td>\n      <td>0.1217</td>\n      <td>1.4882</td>\n      <td>-0.0124</td>\n      <td>...</td>\n      <td>8.5831</td>\n      <td>0.4990</td>\n      <td>0.0103</td>\n      <td>0.0025</td>\n      <td>2.0544</td>\n      <td>0.0202</td>\n      <td>0.0149</td>\n      <td>0.0044</td>\n      <td>73.8432</td>\n      <td>Pass</td>\n    </tr>\n    <tr>\n      <th>4</th>\n      <td>7/19/2008 15:22</td>\n      <td>3032.24</td>\n      <td>2502.87</td>\n      <td>2233.3667</td>\n      <td>1326.5200</td>\n      <td>1.5334</td>\n      <td>100.3967</td>\n      <td>0.1235</td>\n      <td>1.5031</td>\n      <td>-0.0031</td>\n      <td>...</td>\n      <td>10.9698</td>\n      <td>0.4800</td>\n      <td>0.4766</td>\n      <td>0.1045</td>\n      <td>99.3032</td>\n      <td>0.0202</td>\n      <td>0.0149</td>\n      <td>0.0044</td>\n      <td>73.8432</td>\n      <td>Pass</td>\n    </tr>\n    <tr>\n      <th>...</th>\n      <td>...</td>\n      <td>...</td>\n      <td>...</td>\n      <td>...</td>\n      <td>...</td>\n      <td>...</td>\n      <td>...</td>\n      <td>...</td>\n      <td>...</td>\n      <td>...</td>\n      <td>...</td>\n      <td>...</td>\n      <td>...</td>\n      <td>...</td>\n      <td>...</td>\n      <td>...</td>\n      <td>...</td>\n      <td>...</td>\n      <td>...</td>\n      <td>...</td>\n      <td>...</td>\n    </tr>\n    <tr>\n      <th>1562</th>\n      <td>10/16/2008 15:13</td>\n      <td>2899.41</td>\n      <td>2464.36</td>\n      <td>2179.7333</td>\n      <td>3085.3781</td>\n      <td>1.4843</td>\n      <td>82.2467</td>\n      <td>0.1248</td>\n      <td>1.3424</td>\n      <td>-0.0045</td>\n      <td>...</td>\n      <td>11.7256</td>\n      <td>0.4988</td>\n      <td>0.0143</td>\n      <td>0.0039</td>\n      <td>2.8669</td>\n      <td>0.0068</td>\n      <td>0.0138</td>\n      <td>0.0047</td>\n      <td>203.1720</td>\n      <td>Pass</td>\n    </tr>\n    <tr>\n      <th>1563</th>\n      <td>10/16/2008 20:49</td>\n      <td>3052.31</td>\n      <td>2522.55</td>\n      <td>2198.5667</td>\n      <td>1124.6595</td>\n      <td>0.8763</td>\n      <td>98.4689</td>\n      <td>0.1205</td>\n      <td>1.4333</td>\n      <td>-0.0061</td>\n      <td>...</td>\n      <td>17.8379</td>\n      <td>0.4975</td>\n      <td>0.0131</td>\n      <td>0.0036</td>\n      <td>2.6238</td>\n      <td>0.0068</td>\n      <td>0.0138</td>\n      <td>0.0047</td>\n      <td>203.1720</td>\n      <td>Pass</td>\n    </tr>\n    <tr>\n      <th>1564</th>\n      <td>10/17/2008 5:26</td>\n      <td>2978.81</td>\n      <td>2379.78</td>\n      <td>2206.3000</td>\n      <td>1110.4967</td>\n      <td>0.8236</td>\n      <td>99.4122</td>\n      <td>0.1208</td>\n      <td>NaN</td>\n      <td>NaN</td>\n      <td>...</td>\n      <td>17.7267</td>\n      <td>0.4987</td>\n      <td>0.0153</td>\n      <td>0.0041</td>\n      <td>3.0590</td>\n      <td>0.0197</td>\n      <td>0.0086</td>\n      <td>0.0025</td>\n      <td>43.5231</td>\n      <td>Pass</td>\n    </tr>\n    <tr>\n      <th>1565</th>\n      <td>10/17/2008 6:01</td>\n      <td>2894.92</td>\n      <td>2532.01</td>\n      <td>2177.0333</td>\n      <td>1183.7287</td>\n      <td>1.5726</td>\n      <td>98.7978</td>\n      <td>0.1213</td>\n      <td>1.4622</td>\n      <td>-0.0072</td>\n      <td>...</td>\n      <td>19.2104</td>\n      <td>0.5004</td>\n      <td>0.0178</td>\n      <td>0.0038</td>\n      <td>3.5662</td>\n      <td>0.0262</td>\n      <td>0.0245</td>\n      <td>0.0075</td>\n      <td>93.4941</td>\n      <td>Pass</td>\n    </tr>\n    <tr>\n      <th>1566</th>\n      <td>10/17/2008 6:07</td>\n      <td>2944.92</td>\n      <td>2450.76</td>\n      <td>2195.4444</td>\n      <td>2914.1792</td>\n      <td>1.5978</td>\n      <td>85.1011</td>\n      <td>0.1235</td>\n      <td>NaN</td>\n      <td>NaN</td>\n      <td>...</td>\n      <td>22.9183</td>\n      <td>0.4987</td>\n      <td>0.0181</td>\n      <td>0.0040</td>\n      <td>3.6275</td>\n      <td>0.0117</td>\n      <td>0.0162</td>\n      <td>0.0045</td>\n      <td>137.7844</td>\n      <td>Pass</td>\n    </tr>\n  </tbody>\n</table>\n<p>1567 rows × 439 columns</p>\n</div>"
     },
     "execution_count": 49,
     "metadata": {},
     "output_type": "execute_result"
    }
   ],
   "source": [
    "pd.DataFrame(dataset)"
   ]
  },
  {
   "cell_type": "markdown",
   "metadata": {},
   "source": [
    "### 3.3 A Quick Review of the Data"
   ]
  },
  {
   "cell_type": "code",
   "execution_count": 50,
   "metadata": {},
   "outputs": [
    {
     "name": "stdout",
     "output_type": "stream",
     "text": [
      "<class 'pandas.core.frame.DataFrame'>\n",
      "RangeIndex: 1567 entries, 0 to 1566\n",
      "Columns: 439 entries, Time to Pass/Fail\n",
      "dtypes: float64(437), object(2)\n",
      "memory usage: 5.2+ MB\n"
     ]
    }
   ],
   "source": [
    "dataset.info()"
   ]
  },
  {
   "cell_type": "markdown",
   "metadata": {},
   "source": [
    "### 3.4 Separate The Input and Output\n",
    "Here, we put the independent variables in X and the dependent variable in y. "
   ]
  },
  {
   "cell_type": "code",
   "execution_count": 51,
   "metadata": {},
   "outputs": [],
   "source": [
    "X = dataset.iloc[:, 1:438].values\n",
    "y = dataset.iloc[:, -1].values"
   ]
  },
  {
   "cell_type": "markdown",
   "metadata": {},
   "source": [
    "#### 3.4.1 Showing the Input Data in a Table format"
   ]
  },
  {
   "cell_type": "code",
   "execution_count": 52,
   "metadata": {
    "colab": {
     "base_uri": "https://localhost:8080/",
     "height": 188
    },
    "colab_type": "code",
    "id": "hCsz2yCebe1R",
    "outputId": "1e4cc568-4e51-4b38-9d46-4aa3f15204be"
   },
   "outputs": [
    {
     "data": {
      "text/plain": "          0        1          2          3       4         5       6    \\\n0     3030.93  2564.00  2187.7333  1411.1265  1.3602   97.6133  0.1242   \n1     3095.78  2465.14  2230.4222  1463.6606  0.8294  102.3433  0.1247   \n2     2932.61  2559.94  2186.4111  1698.0172  1.5102   95.4878  0.1241   \n3     2988.72  2479.90  2199.0333   909.7926  1.3204  104.2367  0.1217   \n4     3032.24  2502.87  2233.3667  1326.5200  1.5334  100.3967  0.1235   \n...       ...      ...        ...        ...     ...       ...     ...   \n1562  2899.41  2464.36  2179.7333  3085.3781  1.4843   82.2467  0.1248   \n1563  3052.31  2522.55  2198.5667  1124.6595  0.8763   98.4689  0.1205   \n1564  2978.81  2379.78  2206.3000  1110.4967  0.8236   99.4122  0.1208   \n1565  2894.92  2532.01  2177.0333  1183.7287  1.5726   98.7978  0.1213   \n1566  2944.92  2450.76  2195.4444  2914.1792  1.5978   85.1011  0.1235   \n\n         7       8       9    ...     427      428     429     430     431  \\\n0     1.5005  0.0162 -0.0034  ...  1.6765  14.9509  0.5005  0.0118  0.0035   \n1     1.4966 -0.0005 -0.0148  ...  1.1065  10.9003  0.5019  0.0223  0.0055   \n2     1.4436  0.0041  0.0013  ...  2.0952   9.2721  0.4958  0.0157  0.0039   \n3     1.4882 -0.0124 -0.0033  ...  1.7585   8.5831  0.4990  0.0103  0.0025   \n4     1.5031 -0.0031 -0.0072  ...  1.6597  10.9698  0.4800  0.4766  0.1045   \n...      ...     ...     ...  ...     ...      ...     ...     ...     ...   \n1562  1.3424 -0.0045 -0.0057  ...  1.4879  11.7256  0.4988  0.0143  0.0039   \n1563  1.4333 -0.0061 -0.0093  ...  1.0187  17.8379  0.4975  0.0131  0.0036   \n1564     NaN     NaN     NaN  ...  1.2237  17.7267  0.4987  0.0153  0.0041   \n1565  1.4622 -0.0072  0.0032  ...  1.7085  19.2104  0.5004  0.0178  0.0038   \n1566     NaN     NaN     NaN  ...  1.2878  22.9183  0.4987  0.0181  0.0040   \n\n          432     433     434     435       436  \n0      2.3630     NaN     NaN     NaN       NaN  \n1      4.4447  0.0096  0.0201  0.0060  208.2045  \n2      3.1745  0.0584  0.0484  0.0148   82.8602  \n3      2.0544  0.0202  0.0149  0.0044   73.8432  \n4     99.3032  0.0202  0.0149  0.0044   73.8432  \n...       ...     ...     ...     ...       ...  \n1562   2.8669  0.0068  0.0138  0.0047  203.1720  \n1563   2.6238  0.0068  0.0138  0.0047  203.1720  \n1564   3.0590  0.0197  0.0086  0.0025   43.5231  \n1565   3.5662  0.0262  0.0245  0.0075   93.4941  \n1566   3.6275  0.0117  0.0162  0.0045  137.7844  \n\n[1567 rows x 437 columns]",
      "text/html": "<div>\n<style scoped>\n    .dataframe tbody tr th:only-of-type {\n        vertical-align: middle;\n    }\n\n    .dataframe tbody tr th {\n        vertical-align: top;\n    }\n\n    .dataframe thead th {\n        text-align: right;\n    }\n</style>\n<table border=\"1\" class=\"dataframe\">\n  <thead>\n    <tr style=\"text-align: right;\">\n      <th></th>\n      <th>0</th>\n      <th>1</th>\n      <th>2</th>\n      <th>3</th>\n      <th>4</th>\n      <th>5</th>\n      <th>6</th>\n      <th>7</th>\n      <th>8</th>\n      <th>9</th>\n      <th>...</th>\n      <th>427</th>\n      <th>428</th>\n      <th>429</th>\n      <th>430</th>\n      <th>431</th>\n      <th>432</th>\n      <th>433</th>\n      <th>434</th>\n      <th>435</th>\n      <th>436</th>\n    </tr>\n  </thead>\n  <tbody>\n    <tr>\n      <th>0</th>\n      <td>3030.93</td>\n      <td>2564.00</td>\n      <td>2187.7333</td>\n      <td>1411.1265</td>\n      <td>1.3602</td>\n      <td>97.6133</td>\n      <td>0.1242</td>\n      <td>1.5005</td>\n      <td>0.0162</td>\n      <td>-0.0034</td>\n      <td>...</td>\n      <td>1.6765</td>\n      <td>14.9509</td>\n      <td>0.5005</td>\n      <td>0.0118</td>\n      <td>0.0035</td>\n      <td>2.3630</td>\n      <td>NaN</td>\n      <td>NaN</td>\n      <td>NaN</td>\n      <td>NaN</td>\n    </tr>\n    <tr>\n      <th>1</th>\n      <td>3095.78</td>\n      <td>2465.14</td>\n      <td>2230.4222</td>\n      <td>1463.6606</td>\n      <td>0.8294</td>\n      <td>102.3433</td>\n      <td>0.1247</td>\n      <td>1.4966</td>\n      <td>-0.0005</td>\n      <td>-0.0148</td>\n      <td>...</td>\n      <td>1.1065</td>\n      <td>10.9003</td>\n      <td>0.5019</td>\n      <td>0.0223</td>\n      <td>0.0055</td>\n      <td>4.4447</td>\n      <td>0.0096</td>\n      <td>0.0201</td>\n      <td>0.0060</td>\n      <td>208.2045</td>\n    </tr>\n    <tr>\n      <th>2</th>\n      <td>2932.61</td>\n      <td>2559.94</td>\n      <td>2186.4111</td>\n      <td>1698.0172</td>\n      <td>1.5102</td>\n      <td>95.4878</td>\n      <td>0.1241</td>\n      <td>1.4436</td>\n      <td>0.0041</td>\n      <td>0.0013</td>\n      <td>...</td>\n      <td>2.0952</td>\n      <td>9.2721</td>\n      <td>0.4958</td>\n      <td>0.0157</td>\n      <td>0.0039</td>\n      <td>3.1745</td>\n      <td>0.0584</td>\n      <td>0.0484</td>\n      <td>0.0148</td>\n      <td>82.8602</td>\n    </tr>\n    <tr>\n      <th>3</th>\n      <td>2988.72</td>\n      <td>2479.90</td>\n      <td>2199.0333</td>\n      <td>909.7926</td>\n      <td>1.3204</td>\n      <td>104.2367</td>\n      <td>0.1217</td>\n      <td>1.4882</td>\n      <td>-0.0124</td>\n      <td>-0.0033</td>\n      <td>...</td>\n      <td>1.7585</td>\n      <td>8.5831</td>\n      <td>0.4990</td>\n      <td>0.0103</td>\n      <td>0.0025</td>\n      <td>2.0544</td>\n      <td>0.0202</td>\n      <td>0.0149</td>\n      <td>0.0044</td>\n      <td>73.8432</td>\n    </tr>\n    <tr>\n      <th>4</th>\n      <td>3032.24</td>\n      <td>2502.87</td>\n      <td>2233.3667</td>\n      <td>1326.5200</td>\n      <td>1.5334</td>\n      <td>100.3967</td>\n      <td>0.1235</td>\n      <td>1.5031</td>\n      <td>-0.0031</td>\n      <td>-0.0072</td>\n      <td>...</td>\n      <td>1.6597</td>\n      <td>10.9698</td>\n      <td>0.4800</td>\n      <td>0.4766</td>\n      <td>0.1045</td>\n      <td>99.3032</td>\n      <td>0.0202</td>\n      <td>0.0149</td>\n      <td>0.0044</td>\n      <td>73.8432</td>\n    </tr>\n    <tr>\n      <th>...</th>\n      <td>...</td>\n      <td>...</td>\n      <td>...</td>\n      <td>...</td>\n      <td>...</td>\n      <td>...</td>\n      <td>...</td>\n      <td>...</td>\n      <td>...</td>\n      <td>...</td>\n      <td>...</td>\n      <td>...</td>\n      <td>...</td>\n      <td>...</td>\n      <td>...</td>\n      <td>...</td>\n      <td>...</td>\n      <td>...</td>\n      <td>...</td>\n      <td>...</td>\n      <td>...</td>\n    </tr>\n    <tr>\n      <th>1562</th>\n      <td>2899.41</td>\n      <td>2464.36</td>\n      <td>2179.7333</td>\n      <td>3085.3781</td>\n      <td>1.4843</td>\n      <td>82.2467</td>\n      <td>0.1248</td>\n      <td>1.3424</td>\n      <td>-0.0045</td>\n      <td>-0.0057</td>\n      <td>...</td>\n      <td>1.4879</td>\n      <td>11.7256</td>\n      <td>0.4988</td>\n      <td>0.0143</td>\n      <td>0.0039</td>\n      <td>2.8669</td>\n      <td>0.0068</td>\n      <td>0.0138</td>\n      <td>0.0047</td>\n      <td>203.1720</td>\n    </tr>\n    <tr>\n      <th>1563</th>\n      <td>3052.31</td>\n      <td>2522.55</td>\n      <td>2198.5667</td>\n      <td>1124.6595</td>\n      <td>0.8763</td>\n      <td>98.4689</td>\n      <td>0.1205</td>\n      <td>1.4333</td>\n      <td>-0.0061</td>\n      <td>-0.0093</td>\n      <td>...</td>\n      <td>1.0187</td>\n      <td>17.8379</td>\n      <td>0.4975</td>\n      <td>0.0131</td>\n      <td>0.0036</td>\n      <td>2.6238</td>\n      <td>0.0068</td>\n      <td>0.0138</td>\n      <td>0.0047</td>\n      <td>203.1720</td>\n    </tr>\n    <tr>\n      <th>1564</th>\n      <td>2978.81</td>\n      <td>2379.78</td>\n      <td>2206.3000</td>\n      <td>1110.4967</td>\n      <td>0.8236</td>\n      <td>99.4122</td>\n      <td>0.1208</td>\n      <td>NaN</td>\n      <td>NaN</td>\n      <td>NaN</td>\n      <td>...</td>\n      <td>1.2237</td>\n      <td>17.7267</td>\n      <td>0.4987</td>\n      <td>0.0153</td>\n      <td>0.0041</td>\n      <td>3.0590</td>\n      <td>0.0197</td>\n      <td>0.0086</td>\n      <td>0.0025</td>\n      <td>43.5231</td>\n    </tr>\n    <tr>\n      <th>1565</th>\n      <td>2894.92</td>\n      <td>2532.01</td>\n      <td>2177.0333</td>\n      <td>1183.7287</td>\n      <td>1.5726</td>\n      <td>98.7978</td>\n      <td>0.1213</td>\n      <td>1.4622</td>\n      <td>-0.0072</td>\n      <td>0.0032</td>\n      <td>...</td>\n      <td>1.7085</td>\n      <td>19.2104</td>\n      <td>0.5004</td>\n      <td>0.0178</td>\n      <td>0.0038</td>\n      <td>3.5662</td>\n      <td>0.0262</td>\n      <td>0.0245</td>\n      <td>0.0075</td>\n      <td>93.4941</td>\n    </tr>\n    <tr>\n      <th>1566</th>\n      <td>2944.92</td>\n      <td>2450.76</td>\n      <td>2195.4444</td>\n      <td>2914.1792</td>\n      <td>1.5978</td>\n      <td>85.1011</td>\n      <td>0.1235</td>\n      <td>NaN</td>\n      <td>NaN</td>\n      <td>NaN</td>\n      <td>...</td>\n      <td>1.2878</td>\n      <td>22.9183</td>\n      <td>0.4987</td>\n      <td>0.0181</td>\n      <td>0.0040</td>\n      <td>3.6275</td>\n      <td>0.0117</td>\n      <td>0.0162</td>\n      <td>0.0045</td>\n      <td>137.7844</td>\n    </tr>\n  </tbody>\n</table>\n<p>1567 rows × 437 columns</p>\n</div>"
     },
     "execution_count": 52,
     "metadata": {},
     "output_type": "execute_result"
    }
   ],
   "source": [
    "pd.DataFrame(X)"
   ]
  },
  {
   "cell_type": "markdown",
   "metadata": {},
   "source": [
    "#### 3.4.2 A Quick Check of the Output Data"
   ]
  },
  {
   "cell_type": "code",
   "execution_count": 53,
   "metadata": {
    "colab": {
     "base_uri": "https://localhost:8080/",
     "height": 34
    },
    "colab_type": "code",
    "id": "eYrOQ43XcJR3",
    "outputId": "e0873b2a-3b08-4bab-ef0d-15b88858ca44"
   },
   "outputs": [
    {
     "data": {
      "text/plain": "         0\n0     Pass\n1     Pass\n2     Fail\n3     Pass\n4     Pass\n...    ...\n1562  Pass\n1563  Pass\n1564  Pass\n1565  Pass\n1566  Pass\n\n[1567 rows x 1 columns]",
      "text/html": "<div>\n<style scoped>\n    .dataframe tbody tr th:only-of-type {\n        vertical-align: middle;\n    }\n\n    .dataframe tbody tr th {\n        vertical-align: top;\n    }\n\n    .dataframe thead th {\n        text-align: right;\n    }\n</style>\n<table border=\"1\" class=\"dataframe\">\n  <thead>\n    <tr style=\"text-align: right;\">\n      <th></th>\n      <th>0</th>\n    </tr>\n  </thead>\n  <tbody>\n    <tr>\n      <th>0</th>\n      <td>Pass</td>\n    </tr>\n    <tr>\n      <th>1</th>\n      <td>Pass</td>\n    </tr>\n    <tr>\n      <th>2</th>\n      <td>Fail</td>\n    </tr>\n    <tr>\n      <th>3</th>\n      <td>Pass</td>\n    </tr>\n    <tr>\n      <th>4</th>\n      <td>Pass</td>\n    </tr>\n    <tr>\n      <th>...</th>\n      <td>...</td>\n    </tr>\n    <tr>\n      <th>1562</th>\n      <td>Pass</td>\n    </tr>\n    <tr>\n      <th>1563</th>\n      <td>Pass</td>\n    </tr>\n    <tr>\n      <th>1564</th>\n      <td>Pass</td>\n    </tr>\n    <tr>\n      <th>1565</th>\n      <td>Pass</td>\n    </tr>\n    <tr>\n      <th>1566</th>\n      <td>Pass</td>\n    </tr>\n  </tbody>\n</table>\n<p>1567 rows × 1 columns</p>\n</div>"
     },
     "execution_count": 53,
     "metadata": {},
     "output_type": "execute_result"
    }
   ],
   "source": [
    "pd.DataFrame(y)"
   ]
  },
  {
   "cell_type": "markdown",
   "metadata": {
    "colab_type": "text",
    "id": "nhfKXNxlSabC"
   },
   "source": [
    "### 3.5 Taking care of missing data"
   ]
  },
  {
   "cell_type": "code",
   "execution_count": 54,
   "metadata": {
    "colab": {},
    "colab_type": "code",
    "id": "c93k7ipkSexq"
   },
   "outputs": [],
   "source": [
    "from sklearn.impute import SimpleImputer\n",
    "\n",
    "imputer = SimpleImputer(missing_values=np.nan, strategy='mean')\n",
    "imputer.fit(X)\n",
    "X = imputer.transform(X)"
   ]
  },
  {
   "cell_type": "code",
   "execution_count": 55,
   "metadata": {
    "colab": {
     "base_uri": "https://localhost:8080/",
     "height": 188
    },
    "colab_type": "code",
    "id": "3UgLdMS_bjq_",
    "outputId": "254af4e0-681e-47f5-aaa7-b9c6f43258e9"
   },
   "outputs": [
    {
     "data": {
      "text/plain": "array([[3.03093000e+03, 2.56400000e+03, 2.18773330e+03, ...,\n        1.64749042e-02, 5.28333333e-03, 9.96700663e+01],\n       [3.09578000e+03, 2.46514000e+03, 2.23042220e+03, ...,\n        2.01000000e-02, 6.00000000e-03, 2.08204500e+02],\n       [2.93261000e+03, 2.55994000e+03, 2.18641110e+03, ...,\n        4.84000000e-02, 1.48000000e-02, 8.28602000e+01],\n       ...,\n       [2.97881000e+03, 2.37978000e+03, 2.20630000e+03, ...,\n        8.60000000e-03, 2.50000000e-03, 4.35231000e+01],\n       [2.89492000e+03, 2.53201000e+03, 2.17703330e+03, ...,\n        2.45000000e-02, 7.50000000e-03, 9.34941000e+01],\n       [2.94492000e+03, 2.45076000e+03, 2.19544440e+03, ...,\n        1.62000000e-02, 4.50000000e-03, 1.37784400e+02]])"
     },
     "execution_count": 55,
     "metadata": {},
     "output_type": "execute_result"
    }
   ],
   "source": [
    "# A quick check of X\n",
    "X"
   ]
  },
  {
   "cell_type": "markdown",
   "metadata": {
    "colab_type": "text",
    "id": "CriG6VzVSjcK"
   },
   "source": [
    "### 3.6 Encoding Categorical Data"
   ]
  },
  {
   "cell_type": "markdown",
   "metadata": {
    "colab_type": "text",
    "id": "AhSpdQWeSsFh"
   },
   "source": [
    "#### 3.6.1 Encoding the Independent Variable"
   ]
  },
  {
   "cell_type": "code",
   "execution_count": 56,
   "metadata": {
    "colab": {},
    "colab_type": "code",
    "id": "5hwuVddlSwVi"
   },
   "outputs": [],
   "source": [
    "# don't have any categorical data"
   ]
  },
  {
   "cell_type": "markdown",
   "metadata": {
    "colab_type": "text",
    "id": "DXh8oVSITIc6"
   },
   "source": [
    "#### 3.6.2 Encoding the Dependent Variable"
   ]
  },
  {
   "cell_type": "code",
   "execution_count": 57,
   "metadata": {
    "colab": {},
    "colab_type": "code",
    "id": "XgHCShVyTOYY"
   },
   "outputs": [],
   "source": [
    "from sklearn.preprocessing import LabelEncoder\n",
    "\n",
    "le = LabelEncoder()\n",
    "y = le.fit_transform(y)"
   ]
  },
  {
   "cell_type": "code",
   "execution_count": 58,
   "metadata": {
    "colab": {
     "base_uri": "https://localhost:8080/",
     "height": 34
    },
    "colab_type": "code",
    "id": "FyhY8-gPpFCa",
    "outputId": "7f76ef29-5423-4c3e-cf69-45fbc366a997"
   },
   "outputs": [
    {
     "data": {
      "text/plain": "array([1, 1, 0, ..., 1, 1, 1])"
     },
     "execution_count": 58,
     "metadata": {},
     "output_type": "execute_result"
    }
   ],
   "source": [
    "# a quick check\n",
    "y"
   ]
  },
  {
   "cell_type": "markdown",
   "metadata": {
    "colab_type": "text",
    "id": "TpGqbS4TqkIR"
   },
   "source": [
    "### 3.7 Feature Scaling"
   ]
  },
  {
   "cell_type": "code",
   "execution_count": 59,
   "metadata": {
    "colab": {},
    "colab_type": "code",
    "id": "AxjSUXFQqo-3"
   },
   "outputs": [],
   "source": [
    "from sklearn.preprocessing import StandardScaler\n",
    "\n",
    "sc = StandardScaler()\n",
    "X = sc.fit_transform(X)"
   ]
  },
  {
   "cell_type": "markdown",
   "metadata": {
    "colab_type": "text",
    "id": "qb_vcgm3qZKW"
   },
   "source": [
    "### 3.8 Splitting the Dataset into the Training set and Test set"
   ]
  },
  {
   "cell_type": "code",
   "execution_count": 60,
   "metadata": {
    "colab": {},
    "colab_type": "code",
    "id": "pXgA6CzlqbCl"
   },
   "outputs": [],
   "source": [
    "from sklearn.model_selection import train_test_split\n",
    "\n",
    "train_X, test_X, train_y, test_y = train_test_split(X, y, test_size=0.2, random_state=34)"
   ]
  },
  {
   "cell_type": "code",
   "execution_count": 61,
   "metadata": {
    "colab": {
     "base_uri": "https://localhost:8080/",
     "height": 154
    },
    "colab_type": "code",
    "id": "GuwQhFdKrYTM",
    "outputId": "de1e527f-c229-4daf-e7c5-ea9d2485148d"
   },
   "outputs": [
    {
     "name": "stdout",
     "output_type": "stream",
     "text": [
      "[[-0.96046311 -0.73813734 -0.92237938 ... -0.06531583 -0.16868853\n",
      "  -0.2120265 ]\n",
      " [-0.87742151  0.5426257  -0.13250295 ...  0.60499301  0.38972867\n",
      "   3.17408017]\n",
      " [ 0.05645609 -1.51130825  1.47184855 ...  0.04829584  0.04071792\n",
      "   0.42803032]\n",
      " ...\n",
      " [-0.55464836 -0.10473817 -1.25868434 ...  1.9342495   2.16968349\n",
      "   0.21655552]\n",
      " [-0.24467179 -0.00336937 -1.42475658 ... -0.64473532 -0.79690788\n",
      "  -0.64548212]\n",
      " [-0.36283589 -0.07880372  0.55448143 ... -0.19028866 -0.02908423\n",
      "   1.62346601]]\n"
     ]
    }
   ],
   "source": [
    "print(train_X)"
   ]
  },
  {
   "cell_type": "code",
   "execution_count": 62,
   "metadata": {
    "colab": {
     "base_uri": "https://localhost:8080/",
     "height": 51
    },
    "colab_type": "code",
    "id": "TUrX_Tvcrbi4",
    "outputId": "9a041a9b-2642-4828-fa2f-a431d7d77631"
   },
   "outputs": [
    {
     "name": "stdout",
     "output_type": "stream",
     "text": [
      "[[ 0.38726113 -0.80185131  0.15916359 ... -0.66745766 -0.65730358\n",
      "  -0.56211928]\n",
      " [-0.02413509 -0.94137368 -0.96134565 ... -1.08782082 -0.86671003\n",
      "  -0.69795783]\n",
      " [ 0.70418053  0.53813704 -0.68064891 ... -0.06531583  0.00581685\n",
      "  -0.30543175]\n",
      " ...\n",
      " [ 0.08504418  0.83962507 -1.23522968 ... -1.12190432 -1.07611647\n",
      "  -0.7688942 ]\n",
      " [ 2.27530028  0.21096393 -0.97685385 ... -0.59929066 -0.55260035\n",
      "  -0.6417691 ]\n",
      " [-0.8523729  -0.23341296 -0.28457524 ... -0.50840133 -0.51769928\n",
      "  -0.33965675]]\n"
     ]
    }
   ],
   "source": [
    "print(test_X)"
   ]
  },
  {
   "cell_type": "code",
   "execution_count": 63,
   "metadata": {
    "colab": {
     "base_uri": "https://localhost:8080/",
     "height": 34
    },
    "colab_type": "code",
    "id": "pSMHiIsWreQY",
    "outputId": "5afe91e0-9244-4bf5-ec1b-e3e092b85c08"
   },
   "outputs": [
    {
     "name": "stdout",
     "output_type": "stream",
     "text": [
      "[0 1 1 ... 1 1 1]\n"
     ]
    }
   ],
   "source": [
    "print(train_y)"
   ]
  },
  {
   "cell_type": "code",
   "execution_count": 64,
   "metadata": {
    "colab": {
     "base_uri": "https://localhost:8080/",
     "height": 34
    },
    "colab_type": "code",
    "id": "I_tW7H56rgtW",
    "outputId": "2a93f141-2a99-4a69-eec5-c82a3bb8d36b",
    "pycharm": {
     "name": "#%%\n"
    }
   },
   "outputs": [
    {
     "name": "stdout",
     "output_type": "stream",
     "text": [
      "[1 1 1 1 1 0 1 1 1 1 0 1 1 1 1 1 1 1 1 1 1 1 1 1 1 1 1 1 1 1 1 1 1 1 1 0 1\n",
      " 1 1 1 1 1 1 1 1 1 0 1 1 1 1 1 1 1 1 1 1 1 1 1 1 1 1 0 1 1 0 1 0 1 1 1 1 1\n",
      " 1 1 1 1 1 1 1 1 1 1 1 1 1 1 1 1 1 1 0 1 1 1 0 1 1 1 1 1 1 1 1 1 1 1 1 1 1\n",
      " 1 1 1 1 1 1 0 1 1 1 1 0 1 1 1 1 0 1 1 1 0 1 1 1 1 1 1 1 1 1 1 1 1 1 1 1 1\n",
      " 1 1 1 1 1 1 1 1 1 1 1 1 1 1 1 1 1 0 1 1 1 1 1 1 1 1 1 1 1 1 1 1 1 1 1 1 1\n",
      " 1 1 1 1 1 0 1 1 1 1 0 1 1 1 1 1 1 1 1 1 1 1 1 1 1 1 1 1 1 1 1 1 1 1 1 1 0\n",
      " 1 1 1 1 1 1 1 1 1 1 1 1 1 1 0 1 1 1 1 1 1 1 1 1 1 1 1 1 1 1 1 1 1 1 1 1 1\n",
      " 1 1 1 1 0 1 0 1 1 1 1 1 1 1 1 1 1 1 1 1 1 1 1 1 1 1 1 1 1 1 1 1 1 1 1 1 1\n",
      " 1 1 1 1 1 1 1 1 1 1 1 1 1 1 1 1 0 0]\n"
     ]
    }
   ],
   "source": [
    "print(test_y)"
   ]
  },
  {
   "cell_type": "markdown",
   "source": [
    "## 4 Train the Logistic Regression model"
   ],
   "metadata": {
    "collapsed": false,
    "pycharm": {
     "name": "#%% md\n"
    }
   }
  },
  {
   "cell_type": "code",
   "execution_count": 72,
   "outputs": [
    {
     "data": {
      "text/plain": "LogisticRegression(max_iter=250)"
     },
     "execution_count": 72,
     "metadata": {},
     "output_type": "execute_result"
    }
   ],
   "source": [
    "from sklearn.linear_model import LogisticRegression\n",
    "\n",
    "logistic_regression_model = LogisticRegression(max_iter=250)\n",
    "\n",
    "# use the training data\n",
    "logistic_regression_model.fit(train_X, train_y)"
   ],
   "metadata": {
    "collapsed": false,
    "pycharm": {
     "name": "#%%\n"
    }
   }
  },
  {
   "cell_type": "markdown",
   "source": [
    "## 5 Test the model"
   ],
   "metadata": {
    "collapsed": false,
    "pycharm": {
     "name": "#%% md\n"
    }
   }
  },
  {
   "cell_type": "code",
   "execution_count": 75,
   "outputs": [
    {
     "name": "stdout",
     "output_type": "stream",
     "text": [
      "Averaged prediction accuracy = 0.9109062980030721\n"
     ]
    }
   ],
   "source": [
    "from sklearn.model_selection import cross_val_score\n",
    "\n",
    "scores = cross_val_score(logistic_regression_model, test_X, test_y, scoring='accuracy', cv=5)\n",
    "average_score = np.average(scores)\n",
    "\n",
    "print(f\"Averaged prediction accuracy = {average_score}\")"
   ],
   "metadata": {
    "collapsed": false,
    "pycharm": {
     "name": "#%%\n"
    }
   }
  },
  {
   "cell_type": "markdown",
   "source": [
    "## 6 Conclusion\n",
    "\n",
    "The average prediction accuracy of the logistic regression model on the dataset is 91%."
   ],
   "metadata": {
    "collapsed": false,
    "pycharm": {
     "name": "#%% md\n"
    }
   }
  }
 ],
 "metadata": {
  "colab": {
   "collapsed_sections": [],
   "name": "data_preprocessing_tools.ipynb",
   "provenance": [],
   "toc_visible": true
  },
  "kernelspec": {
   "display_name": "Python 3",
   "language": "python",
   "name": "python3"
  },
  "language_info": {
   "codemirror_mode": {
    "name": "ipython",
    "version": 3
   },
   "file_extension": ".py",
   "mimetype": "text/x-python",
   "name": "python",
   "nbconvert_exporter": "python",
   "pygments_lexer": "ipython3",
   "version": "3.8.5"
  },
  "toc": {
   "base_numbering": 1,
   "nav_menu": {},
   "number_sections": true,
   "sideBar": true,
   "skip_h1_title": false,
   "title_cell": "Table of Contents",
   "title_sidebar": "Contents",
   "toc_cell": false,
   "toc_position": {},
   "toc_section_display": true,
   "toc_window_display": true
  },
  "varInspector": {
   "cols": {
    "lenName": 16,
    "lenType": 16,
    "lenVar": 40
   },
   "kernels_config": {
    "python": {
     "delete_cmd_postfix": "",
     "delete_cmd_prefix": "del ",
     "library": "var_list.py",
     "varRefreshCmd": "print(var_dic_list())"
    },
    "r": {
     "delete_cmd_postfix": ") ",
     "delete_cmd_prefix": "rm(",
     "library": "var_list.r",
     "varRefreshCmd": "cat(var_dic_list()) "
    }
   },
   "oldHeight": 357.5,
   "position": {
    "height": "379.5px",
    "left": "1161px",
    "right": "20px",
    "top": "122px",
    "width": "319px"
   },
   "types_to_exclude": [
    "module",
    "function",
    "builtin_function_or_method",
    "instance",
    "_Feature"
   ],
   "varInspector_section_display": "block",
   "window_display": false
  }
 },
 "nbformat": 4,
 "nbformat_minor": 1
}